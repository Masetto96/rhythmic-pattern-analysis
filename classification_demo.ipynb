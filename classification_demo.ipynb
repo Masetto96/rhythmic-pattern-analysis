{
 "cells": [
  {
   "cell_type": "markdown",
   "metadata": {},
   "source": [
    "## Scale Magnitude Transform for genre/rythmic pattern classification\n"
   ]
  },
  {
   "cell_type": "code",
   "execution_count": null,
   "metadata": {},
   "outputs": [],
   "source": [
    "%load_ext autoreload\n",
    "%autoreload 2\n",
    "\n",
    "import mirdata\n",
    "import librosa\n",
    "import helpers\n",
    "import numpy as np\n",
    "import matplotlib.pyplot as plt\n",
    "import IPython.display as ipd\n",
    "\n",
    "from tqdm import tqdm\n",
    "from pathlib import Path\n",
    "from sklearn.preprocessing import LabelEncoder\n",
    "from sklearn.neighbors import KNeighborsClassifier, RadiusNeighborsClassifier\n",
    "from sklearn.model_selection import train_test_split, StratifiedKFold, cross_val_score, LeaveOneOut\n",
    "from sklearn.metrics import accuracy_score, ConfusionMatrixDisplay"
   ]
  },
  {
   "cell_type": "markdown",
   "metadata": {},
   "source": [
    "## Groove Midi\n",
    "\n",
    "_Jon Gillick, Adam Roberts, Jesse Engel, Douglas Eck, and David Bamman.\n",
    "\"Learning to Groove with Inverse Sequence Transformations.\"\n",
    "International Conference on Machine Learning (ICML), 2019._\n",
    "\n",
    "The Groove MIDI Dataset (GMD) is composed of 13.6 hours of aligned MIDI and (synthesized) audio of human-performed, tempo-aligned expressive drumming. The dataset contains 1,150 MIDI files and over 22,000 measures of drumming.\n",
    "\n",
    "It could be used to classify fills or beats. Keep in mind that while fills tend to have a short duration (few seconds), beats tend to be longer. Therefore beats should be segmented in shorter chunks?\n"
   ]
  },
  {
   "cell_type": "code",
   "execution_count": null,
   "metadata": {},
   "outputs": [],
   "source": [
    "groove_dataset = mirdata.initialize(\"groove_midi\")\n",
    "# groove_dataset.download()\n",
    "groove_dataset.validate()"
   ]
  },
  {
   "cell_type": "markdown",
   "metadata": {},
   "source": [
    "track.style -> a string style for the performance formatted as “primary/secondary” (e.g. rock/halftime, funk/purdieshuffle). The primary style comes from the Genre List below.\n",
    "\n",
    "Genre List: afrobeat, afrocuban, blues, country, dance, funk, gospel, highlife, hiphop, jazz, latin, middleeastern, neworleans, pop, punk, reggae, rock, soul\n",
    "\n",
    "For the following experiment the label will consist of the primary style only.\n"
   ]
  },
  {
   "cell_type": "code",
   "execution_count": null,
   "metadata": {},
   "outputs": [],
   "source": [
    "features = []\n",
    "labels = []\n",
    "for _, track in tqdm(groove_dataset.load_tracks().items()):\n",
    "    if track.beat_type == \"fill\":\n",
    "        try:\n",
    "            y, sr = librosa.load(track.audio_path, sr=8000)\n",
    "            # stm = helpers.compute_stm(y=y, sr=sr, auto_cor_lag_seconds=2)[:30]\n",
    "            # features.append(stm)\n",
    "            features.append(helpers.compute_stm(y=y, sr=sr, win_size=256, hop=128, auto_cor_lag_seconds=5)[:90])\n",
    "            labels.append(track.style.split(\"/\")[0])\n",
    "        except Exception as e:\n",
    "            # exception encoutered with invalid audio_path\n",
    "            print(\"Error:\", e)\n",
    "            continue\n",
    "\n",
    "encoded_labels = LabelEncoder().fit_transform(labels)"
   ]
  },
  {
   "cell_type": "code",
   "execution_count": null,
   "metadata": {},
   "outputs": [],
   "source": [
    "x_train, x_test, y_train, y_test = train_test_split(\n",
    "    np.array(features), encoded_labels, test_size=0.3, stratify=encoded_labels, random_state=42\n",
    ")\n",
    "\n",
    "knn = KNeighborsClassifier(n_neighbors=7, metric=\"cosine\")\n",
    "# rnn = RadiusNeighborsClassifier(n_neighbors=7, metric=\"cosine\").fit(X=X_train, y=y_train)\n",
    "\n",
    "k_fold = StratifiedKFold(n_splits=5, shuffle=True, random_state=42)\n",
    "cv_scores = cross_val_score(knn, features, encoded_labels, cv=k_fold, scoring=\"accuracy\")\n",
    "\n",
    "print(\"Cross-Validation Scores:\", cv_scores)\n",
    "print(\"Mean CV Accuracy:\", cv_scores.mean())\n",
    "\n",
    "knn = KNeighborsClassifier(n_neighbors=7, metric=\"cosine\").fit(X=x_train, y=y_train)\n",
    "ConfusionMatrixDisplay.from_estimator(knn, x_test, y_test, display_labels=set(labels))\n",
    "plt.xticks(rotation=90)\n",
    "plt.show()"
   ]
  },
  {
   "cell_type": "markdown",
   "metadata": {},
   "source": [
    "## Ballroom\n"
   ]
  },
  {
   "cell_type": "code",
   "execution_count": null,
   "metadata": {},
   "outputs": [],
   "source": [
    "ballroom_dataset = mirdata.initialize(\"ballroom\")\n",
    "# ballroom_dataset.download()\n",
    "ballroom_dataset.validate()"
   ]
  },
  {
   "cell_type": "code",
   "execution_count": null,
   "metadata": {},
   "outputs": [],
   "source": [
    "features = []\n",
    "labels = []\n",
    "for _, track in tqdm(ballroom_dataset.load_tracks().items()):\n",
    "    y, sr = librosa.load(track.audio_path, sr=8000)\n",
    "    # note that for this dataset, the number of coefs has been set to 170, as reported in the paper\n",
    "    features.append(helpers.compute_stm(y=y, sr=sr, win_size=256, hop=128, auto_cor_lag_seconds=5)[:90])\n",
    "    labels.append(track.genre)\n",
    "\n",
    "encoded_labels = LabelEncoder().fit_transform(labels)"
   ]
  },
  {
   "cell_type": "code",
   "execution_count": null,
   "metadata": {},
   "outputs": [],
   "source": [
    "x_train, x_test, y_train, y_test = train_test_split(\n",
    "    np.array(features), encoded_labels, test_size=0.3, stratify=encoded_labels, random_state=42\n",
    ")\n",
    "\n",
    "knn = KNeighborsClassifier(n_neighbors=7, metric=\"cosine\")\n",
    "# rnc = RadiusNeighborsClassifier(metric=\"cosine\", radius=20)\n",
    "\n",
    "loo = LeaveOneOut()\n",
    "# k_fold = StratifiedKFold(n_splits=5, shuffle=True, random_state=42)\n",
    "cv_scores = cross_val_score(knn, features, labels, cv=loo, scoring=\"accuracy\")\n",
    "\n",
    "print(\"Cross-Validation Scores:\", cv_scores)\n",
    "print(\"Mean CV Accuracy:\", cv_scores.mean())\n",
    "\n",
    "knn = KNeighborsClassifier(metric=\"cosine\").fit(X=x_train, y=y_train)\n",
    "# rnc = RadiusNeighborsClassifier(metric=\"cosine\", radius=10).fit(X=x_train, y=y_train)\n",
    "\n",
    "ConfusionMatrixDisplay.from_estimator(knn, x_test, y_test, display_labels=set(labels))\n",
    "plt.xticks(rotation=90)\n",
    "plt.show()"
   ]
  },
  {
   "cell_type": "markdown",
   "metadata": {},
   "source": [
    "## GridSearch CV on Ballroom"
   ]
  },
  {
   "cell_type": "code",
   "execution_count": null,
   "metadata": {},
   "outputs": [],
   "source": [
    "import numpy as np\n",
    "from sklearn.model_selection import LeaveOneOut, cross_val_score\n",
    "from sklearn.preprocessing import LabelEncoder\n",
    "from sklearn.neighbors import KNeighborsClassifier\n",
    "import librosa\n",
    "from tqdm import tqdm\n",
    "import helpers\n",
    "\n",
    "# Define a grid of parameters to search over\n",
    "param_grid = {\n",
    "    'n_mels': [50, 75, 100],      # Example values for n_mels\n",
    "    'auto_cor_lag_seconds': [5, 8, 13],  # Example values for auto_cor_lag_seconds\n",
    "    'stm_coefs' : [i for i in range(30, 400, 30)]\n",
    "}\n",
    "\n",
    "best_score = -1\n",
    "best_params = None\n",
    "\n",
    "# Iterate over all combinations of parameters\n",
    "for n_mels in param_grid['n_mels']:\n",
    "    for auto_cor_lag_seconds in param_grid['auto_cor_lag_seconds']:\n",
    "        for stm_coefs in param_grid['stm_coefs']:\n",
    "            print(\"n_mels:\", n_mels, \"auto_cor_lag_seconds:\", auto_cor_lag_seconds, \"stm_coefs:\", stm_coefs)\n",
    "            # Compute features with current parameters\n",
    "            features = []\n",
    "            labels = []\n",
    "            for _, track in tqdm(ballroom_dataset.load_tracks().items()):\n",
    "                y, sr = librosa.load(track.audio_path, sr=8000)\n",
    "                features.append(helpers.compute_stm(y=y, sr=sr, win_size=160, hop=80, n_mels=n_mels, auto_cor_lag_seconds=auto_cor_lag_seconds)[:stm_coefs])\n",
    "                labels.append(track.genre)\n",
    "\n",
    "            # Encode labels\n",
    "            encoded_labels = LabelEncoder().fit_transform(labels)\n",
    "\n",
    "            # Initialize and evaluate the classifier\n",
    "            knn = KNeighborsClassifier(n_neighbors=7, metric=\"cosine\")\n",
    "            loo = LeaveOneOut()\n",
    "            cv_scores = cross_val_score(knn, features, labels, cv=loo, scoring=\"accuracy\")\n",
    "            mean_cv_score = cv_scores.mean()\n",
    "            print(\"Mean CV Accuracy:\", mean_cv_score)\n",
    "\n",
    "            # Update best score and parameters if needed\n",
    "            if mean_cv_score > best_score:\n",
    "                best_score = mean_cv_score\n",
    "                best_params = {\n",
    "                    'n_mels': n_mels,\n",
    "                    'auto_cor_lag_seconds': auto_cor_lag_seconds\n",
    "                }\n",
    "\n",
    "# Output the best parameters and score\n",
    "print(\"Best Parameters:\", best_params)\n",
    "print(\"Best Mean CV Accuracy:\", best_score)"
   ]
  },
  {
   "cell_type": "markdown",
   "metadata": {},
   "source": [
    "## Greek/Cretan Dances\n"
   ]
  },
  {
   "cell_type": "code",
   "execution_count": null,
   "metadata": {},
   "outputs": [],
   "source": [
    "cretan_dances_data_path = Path(\"../datasets/CretanDances\")\n",
    "\n",
    "features = []\n",
    "labels = []\n",
    "\n",
    "for subfolder in cretan_dances_data_path.iterdir():\n",
    "    if subfolder.is_dir():\n",
    "        label = subfolder.name\n",
    "        print(label)\n",
    "        for audio_file in subfolder.glob(\"*.wav\"):\n",
    "            y, sr = librosa.load(audio_file, sr=None)\n",
    "            # note that for this dataset, the number of coefs has been set to 30, as reported in the paper\n",
    "            features.append(helpers.compute_stm(y=y, sr=sr, win_size=160, hop=160)[:30])\n",
    "            labels.append(label)\n",
    "\n",
    "encoded_labels = LabelEncoder().fit_transform(labels)"
   ]
  },
  {
   "cell_type": "code",
   "execution_count": null,
   "metadata": {},
   "outputs": [],
   "source": [
    "x_train, x_test, y_train, y_test = train_test_split(\n",
    "    np.array(features), encoded_labels, test_size=0.3, stratify=encoded_labels, random_state=42\n",
    ")\n",
    "\n",
    "knn = KNeighborsClassifier(n_neighbors=7, metric=\"cosine\")\n",
    "# rnn = RadiusNeighborsClassifier(n_neighbors=7, metric=\"cosine\").fit(X=X_train, y=y_train)\n",
    "\n",
    "loo = LeaveOneOut()\n",
    "# k_fold = StratifiedKFold(n_splits=5, shuffle=True, random_state=42)\n",
    "cv_scores = cross_val_score(knn, features, labels, cv=loo, scoring=\"accuracy\")\n",
    "print(\"Cross-Validation Scores:\", cv_scores)\n",
    "print(\"Mean CV Accuracy:\", cv_scores.mean())\n",
    "\n",
    "knn = KNeighborsClassifier(n_neighbors=7, metric=\"cosine\").fit(X=x_train, y=y_train)\n",
    "ConfusionMatrixDisplay.from_estimator(knn, x_test, y_test, display_labels=set(labels))\n",
    "plt.xticks(rotation=90)\n",
    "plt.show()"
   ]
  },
  {
   "cell_type": "markdown",
   "metadata": {},
   "source": [
    "## GridSearch CV on GreekDances"
   ]
  },
  {
   "cell_type": "code",
   "execution_count": null,
   "metadata": {},
   "outputs": [],
   "source": [
    "cretan_dances_data_path = Path(\"../datasets/CretanDances\")\n",
    "\n",
    "# Define a grid of parameters to search over\n",
    "param_grid = {\n",
    "    'n_mels': [50, 75, 100],      # Example values for n_mels\n",
    "    'auto_cor_lag_seconds': [5, 8, 13],  # Example values for auto_cor_lag_seconds\n",
    "    'stm_coefs' : [i for i in range(30, 400, 30)]\n",
    "}\n",
    "\n",
    "best_score = -1\n",
    "best_params = None\n",
    "\n",
    "# Iterate over all combinations of parameters\n",
    "for n_mels in param_grid['n_mels']:\n",
    "    for auto_cor_lag_seconds in param_grid['auto_cor_lag_seconds']:\n",
    "        for stm_coefs in param_grid['stm_coefs']:\n",
    "            print(\"n_mels:\", n_mels, \"auto_cor_lag_seconds:\", auto_cor_lag_seconds, \"stm_coefs:\", stm_coefs)\n",
    "            # Compute features with current parameters\n",
    "            features = []\n",
    "            labels = []\n",
    "            for subfolder in cretan_dances_data_path.iterdir():\n",
    "                if subfolder.is_dir():\n",
    "                    label = subfolder.name\n",
    "                    print(label)\n",
    "                    for audio_file in subfolder.glob(\"*.wav\"):\n",
    "                        y, sr = librosa.load(audio_file, sr=8000)\n",
    "                        features.append(helpers.compute_stm(y=y, sr=sr, win_size=160, hop=80, n_mels=n_mels, auto_cor_lag_seconds=auto_cor_lag_seconds)[:stm_coefs])\n",
    "                        labels.append(label)\n",
    "\n",
    "\n",
    "            # Encode labels\n",
    "            encoded_labels = LabelEncoder().fit_transform(labels)\n",
    "\n",
    "            # Initialize and evaluate the classifier\n",
    "            knn = KNeighborsClassifier(n_neighbors=7, metric=\"cosine\")\n",
    "            loo = LeaveOneOut()\n",
    "            cv_scores = cross_val_score(knn, features, labels, cv=loo, scoring=\"accuracy\")\n",
    "            mean_cv_score = cv_scores.mean()\n",
    "            print(\"Mean CV Accuracy:\", mean_cv_score)\n",
    "\n",
    "            # Update best score and parameters if needed\n",
    "            if mean_cv_score > best_score:\n",
    "                best_score = mean_cv_score\n",
    "                best_params = {\n",
    "                    'n_mels': n_mels,\n",
    "                    'auto_cor_lag_seconds': auto_cor_lag_seconds\n",
    "                }\n",
    "\n",
    "# Output the best parameters and score\n",
    "print(\"Best Parameters:\", best_params)\n",
    "print(\"Best Mean CV Accuracy:\", best_score)"
   ]
  }
 ],
 "metadata": {
  "kernelspec": {
   "display_name": ".venv-rythm",
   "language": "python",
   "name": "python3"
  },
  "language_info": {
   "codemirror_mode": {
    "name": "ipython",
    "version": 3
   },
   "file_extension": ".py",
   "mimetype": "text/x-python",
   "name": "python",
   "nbconvert_exporter": "python",
   "pygments_lexer": "ipython3",
   "version": "3.11.2"
  }
 },
 "nbformat": 4,
 "nbformat_minor": 2
}
