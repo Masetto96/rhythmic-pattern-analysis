{
 "cells": [
  {
   "cell_type": "markdown",
   "metadata": {},
   "source": [
    "# Scale Transform Magnitude for rythimic patterns analysis.\n",
    "\n",
    "This notebook is based on the methodology proposed in:\n",
    "\n",
    "- _Holzapfel, A., & Stylianou, Y. (2010). Scale transform in rhythmic similarity of music. IEEE transactions on audio, speech, and language processing, 19(1), 176-185._\n",
    "\n",
    "### Description\n",
    "\n",
    "The Scale Transform Magnitude (STM) is a descriptor suitable for analyzing rhythmic patterns _without_ relying on beat or downbeat annotations. STM is scale invariant, therefore it is appropriate for comparing pieces with varying tempi.\n",
    "\n",
    "This notebook serves as a demonstration of the steps involved in computing the STM feature.\n",
    "\n",
    "### Content\n",
    "\n",
    "- Load short extract of audio together with its scaled up version\n",
    "- Compute STFT\n",
    "- Decompose spectogram to separate harmonic from percussive components\n",
    "- Map percussive spectrogram onto mel frequency bands\n",
    "- Compute the onset strenght signal (OSS) on the percussive mel-spectrogram \n",
    "- Compute the autocorrelation of the OSS\n",
    "- Compute the scale transform magnitude (STM) on the autocorrelation of the OSS\n"
   ]
  },
  {
   "cell_type": "code",
   "execution_count": null,
   "metadata": {},
   "outputs": [],
   "source": [
    "import librosa\n",
    "import matplotlib.pyplot as plt\n",
    "import numpy as np\n",
    "import IPython.display as ipd\n",
    "from numpy.linalg import norm"
   ]
  },
  {
   "cell_type": "markdown",
   "metadata": {},
   "source": [
    "### Load audio files and decompose spectrograms\n",
    "\n",
    "The original audio file is a 10-second excerpt from the Malia Jembe dataset (Polak, R., Tarsitani, S., & Clayton, M. (2018). IEMP Malian jembe. Open Science Framework.Polak, R., Tarsitani, S., & Clayton, M. (2018). IEMP Malian jembe. Open Science Framework.).\n",
    "\n",
    "The scaled version consists of the original signal, which has been sped up by 15% using Audacity.\n"
   ]
  },
  {
   "cell_type": "code",
   "execution_count": null,
   "metadata": {},
   "outputs": [],
   "source": [
    "# path to audio file\n",
    "audio_file = \"clip-MJ_Maraka_1_J1.wav\"\n",
    "# the scaled up version has been obtained using audacity to change the tempo of 15%\n",
    "audio_file_scaled = \"clip-MJ_Maraka_1_J1-scaled-up.wav\"\n",
    "\n",
    "y, sr = librosa.load(audio_file)\n",
    "y_scaled, sr = librosa.load(audio_file_scaled)\n",
    "\n",
    "print(\"original version\")\n",
    "ipd.display(ipd.Audio(y, rate=sr))\n",
    "\n",
    "print(\"15% speeded up version\")\n",
    "ipd.display(ipd.Audio(y_scaled, rate=sr))"
   ]
  },
  {
   "cell_type": "markdown",
   "metadata": {},
   "source": [
    "We set constants for window size (1024 samples, 46ms) and hop size (256 samples, 11ms) to compute the Short-Time Fourier Transform (STFT) of the audio signal.\n",
    "The sampling rate is 22,050 Hz and the window type is \"hann\": these are default parameters used by librosa.\n",
    "\n",
    "Next, we compute the STFT and decompose the resulting spectrogram into harmonic and percussive components using median filtering. We map the obtained percussive spectrogram onto mel-frequency bands.\n",
    "\n",
    "Finally, the amplitude of the percussive Mel spectrogram is converted to decibels (dB) resulting in a log-power mel spectogram which will be used as input by the onset strength signal function.\n"
   ]
  },
  {
   "cell_type": "code",
   "execution_count": null,
   "metadata": {},
   "outputs": [],
   "source": [
    "window_size = 1024  \n",
    "hop_size = 256\n",
    "\n",
    "# STFT and decompose original signal\n",
    "spec = librosa.stft(y, win_length=window_size, hop_length=hop_size)\n",
    "harm, percussive = librosa.decompose.hpss(spec)\n",
    "\n",
    "# STFT and decompose scaled signal\n",
    "spec_scaled = librosa.stft(y_scaled, win_length=window_size, hop_length=hop_size)\n",
    "harm_scaled, percu_scaled = librosa.decompose.hpss(spec_scaled)\n",
    "\n",
    "# map frequency bins onto mel, how many mels?\n",
    "percussive_mel = librosa.feature.melspectrogram(S=percussive, sr=sr, n_mels=50)\n",
    "percussive_mel_scaled = librosa.feature.melspectrogram(S=percu_scaled, sr=sr, n_mels=50)\n",
    "\n",
    "# Log-power spectrogram, used as input for the onset strenght signal function\n",
    "percussive_mel = librosa.amplitude_to_db(np.abs(percussive_mel), ref=np.max)\n",
    "percussive_mel_scaled = librosa.amplitude_to_db(np.abs(percussive_mel_scaled), ref=np.max)\n",
    "\n",
    "# plotting original spectogram and mel-percussive\n",
    "fig, ax = plt.subplots(nrows=2, figsize=(12, 6)) \n",
    "img = librosa.display.specshow(librosa.amplitude_to_db(np.abs(spec), ref=np.max), y_axis=\"log\", x_axis=\"time\", ax=ax[0])\n",
    "ax[0].set(title=\"Original spectrogram\")\n",
    "ax[0].label_outer()\n",
    "img = librosa.display.specshow(percussive_mel, x_axis=\"time\", y_axis=\"mel\", sr=sr, ax=ax[1])\n",
    "ax[1].set(title=\"Mel-frequency percussive spectrogram\")\n"
   ]
  },
  {
   "cell_type": "markdown",
   "metadata": {},
   "source": [
    "### Compute Onset Strenght Signal (OSS)\n",
    "\n",
    "Open questions:\n",
    "- what's the optimal value for lag parameter?\n"
   ]
  },
  {
   "cell_type": "code",
   "execution_count": null,
   "metadata": {},
   "outputs": [],
   "source": [
    "oss = librosa.onset.onset_strength(S=percussive_mel, lag=3, detrend=True, aggregate=np.median)\n",
    "oss_scaled = librosa.onset.onset_strength(S=percussive_mel_scaled, lag=3, detrend=True, aggregate=np.median)\n",
    "\n",
    "fig, ax = plt.subplots(nrows=2, figsize=(12, 6))\n",
    "\n",
    "ax[0].plot(y, label=\"Original\")\n",
    "\n",
    "ax[0].plot(y_scaled, label=\"Scaled\")\n",
    "\n",
    "ax[0].set(xlabel=\"Time (samples)\", title=\"Comparison between original and scaled signal\")\n",
    "\n",
    "ax[0].legend()\n",
    "\n",
    "ax[1].plot(oss)\n",
    "\n",
    "ax[1].plot(oss_scaled)\n",
    "\n",
    "ax[1].set(xlabel=\"Time (frames)\", title=\"Onset strength signal (OSS)\")\n",
    "\n",
    "plt.tight_layout()"
   ]
  },
  {
   "cell_type": "markdown",
   "metadata": {},
   "source": [
    "From the graph above, it can be observed that the two signals exhibits a different onset strength signal (OSS). That is because the tempo of the second signal is scaled up by a factor of 15%.\n",
    "\n",
    "In the following section, we demonstrate the invariance of the Scale Transform Magnitude (STM) to tempo changes. In other words, despite the tempo alteration, the magnitudes of the two signals remain the same.\n",
    "\n",
    "Before proceeding with the computation of the scale transform, it's necessary to calculate the autocorrelation of the OSS. This step is crucial to overcome the fact that the STM is **not** shift-invariant.\n",
    "\n",
    "### Compute Autocorrelation & Scale Transform Magnitude\n",
    "\n",
    "Open questions:\n",
    "- Max size for autocorrelation? Currently up to 8 seconds.\n",
    "- Number of coefficients to keep from STM?\n"
   ]
  },
  {
   "cell_type": "code",
   "execution_count": null,
   "metadata": {},
   "outputs": [],
   "source": [
    "# auto correlation up to 8 seconds\n",
    "oss_ac = librosa.autocorrelate(oss, max_size= 8 * sr // hop_size)\n",
    "oss_ac_scaled = librosa.autocorrelate(oss_scaled, max_size= 8 * sr // hop_size)\n",
    "\n",
    "# Normalization\n",
    "oss_ac = librosa.util.normalize(oss_ac, norm=np.inf)\n",
    "oss_ac_scaled = librosa.util.normalize(oss_ac_scaled, norm=np.inf)\n",
    "\n",
    "# scale transform magnitude, keeping only the first 200 coeffiecients\n",
    "stm = librosa.fmt(oss_ac)[:200]\n",
    "stm_scaled = librosa.fmt(oss_ac_scaled)[:200]\n",
    "\n",
    "fig, ax = plt.subplots(nrows=2, figsize=(12, 6))\n",
    "\n",
    "ax[0].plot(oss_ac, label=\"Original\")\n",
    "\n",
    "ax[0].plot(oss_ac_scaled, label=\"Scaled\")\n",
    "\n",
    "ax[0].set(xlabel=\"Lag (frames)\", title=\"OSS autocorrelation normalized\")\n",
    "\n",
    "ax[0].legend()\n",
    "\n",
    "ax[1].semilogy(np.abs(stm))\n",
    "\n",
    "ax[1].semilogy(np.abs(stm_scaled), linestyle=\"--\")\n",
    "\n",
    "ax[1].set(xlabel=\"Scale Coefficients\", title=\"Scale Transform Magnitude\")\n",
    "\n",
    "plt.tight_layout()"
   ]
  },
  {
   "cell_type": "markdown",
   "metadata": {},
   "source": [
    "Finally, let us compute the similarity between the 2 STMs.\n",
    "\n",
    "We expect a high similarity score as the STM is supposed to capture rythmic aspects regardless of the tempo variations.\n",
    "\n"
   ]
  },
  {
   "cell_type": "code",
   "execution_count": null,
   "metadata": {},
   "outputs": [],
   "source": [
    "# compute cosine similarity\n",
    "cosine_sim = np.dot(np.abs(stm), np.abs(stm_scaled)) / (norm(np.abs(stm)) * norm(np.abs(stm_scaled)))\n",
    "print(\"Cosine Similarity:\", cosine_sim)\n",
    "\n",
    "# Compute Euclidean distance\n",
    "euclidean_dist = np.linalg.norm(np.abs(stm) - np.abs(stm_scaled))\n",
    "print(\"Euclidean Distance:\", euclidean_dist)"
   ]
  }
 ],
 "metadata": {
  "kernelspec": {
   "display_name": ".rythm-venv",
   "language": "python",
   "name": "python3"
  },
  "language_info": {
   "codemirror_mode": {
    "name": "ipython",
    "version": 3
   },
   "file_extension": ".py",
   "mimetype": "text/x-python",
   "name": "python",
   "nbconvert_exporter": "python",
   "pygments_lexer": "ipython3",
   "version": "3.11.2"
  }
 },
 "nbformat": 4,
 "nbformat_minor": 2
}
