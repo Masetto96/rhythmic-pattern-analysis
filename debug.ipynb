{
 "cells": [
  {
   "cell_type": "code",
   "execution_count": null,
   "metadata": {},
   "outputs": [],
   "source": [
    "from scripts.scale_transform_magnitude import compute_stm\n",
    "\n",
    "import mirdata\n",
    "import librosa\n",
    "from tqdm import tqdm\n",
    "import pandas as pd\n",
    "from pathlib import Path\n",
    "\n",
    "\n",
    "%load_ext autoreload\n",
    "%autoreload 2\n",
    "\n",
    "%matplotlib inline"
   ]
  },
  {
   "cell_type": "code",
   "execution_count": null,
   "metadata": {},
   "outputs": [],
   "source": [
    "groove_dataset = mirdata.initialize(\"groove_midi\")\n",
    "# groove_dataset.download()\n",
    "groove_dataset.validate()"
   ]
  },
  {
   "cell_type": "code",
   "execution_count": 26,
   "metadata": {},
   "outputs": [
    {
     "name": "stdout",
     "output_type": "stream",
     "text": [
      "duration summary in seconds: \n",
      " count     340.000000\n",
      "mean      130.695639\n",
      "std       118.145679\n",
      "min        30.060481\n",
      "25%        53.633509\n",
      "50%       112.187331\n",
      "75%       172.502978\n",
      "max      1394.173889\n",
      "Name: duration, dtype: float64\n",
      "['soul' 'funk' 'hiphop' 'rock' 'neworleans' 'dance' 'latin' 'afrocuban'\n",
      " 'reggae' 'jazz' 'country' 'gospel' 'punk' 'afrobeat' 'blues'\n",
      " 'middleeastern' 'pop' 'highlife']\n"
     ]
    },
    {
     "data": {
      "text/plain": [
       "genre\n",
       "rock      107\n",
       "latin      47\n",
       "funk       44\n",
       "jazz       34\n",
       "soul       25\n",
       "hiphop     22\n",
       "Name: count, dtype: int64"
      ]
     },
     "execution_count": 26,
     "metadata": {},
     "output_type": "execute_result"
    }
   ],
   "source": [
    "# groove_dataset._metadatafill\n",
    "metadata = pd.read_csv(\"~/mir_datasets/groove_midi/info.csv\")\n",
    "metadata_beats = metadata[metadata[\"beat_type\"] == \"beat\"]  # select only beats\n",
    "\n",
    "metadata_beats = metadata_beats[metadata_beats[\"duration\"] >= 30]\n",
    "metadata_beats = metadata_beats[metadata_beats[\"time_signature\"] >= \"4-4\"]\n",
    "\n",
    "print(\"duration summary in seconds: \\n\", metadata_beats[\"duration\"].describe())\n",
    "\n",
    "metadata_beats[\"genre\"] = metadata_beats[\"style\"].apply(\n",
    "    lambda x: x.split(\"/\")[0]\n",
    ")  # create genre column based on style\n",
    "\n",
    "metadata_beats = metadata_beats[[\"genre\", \"style\", \"audio_filename\", \"duration\"]] # get rid of unnecessary columns\n",
    "metadata_beats = metadata_beats.reset_index(drop=True) # resetting index is neede for interactive plot\n",
    "\n",
    "print(metadata_beats.genre.unique())\n",
    "\n",
    "# Counting occurrences of each genre\n",
    "genre_counts = metadata_beats['genre'].value_counts()\n",
    "\n",
    "# Identifying the top n most frequent genres\n",
    "top_n_genres = genre_counts.head(6).index\n",
    "\n",
    "metadata_beats = metadata_beats[metadata_beats['genre'].isin(top_n_genres)]\n",
    "\n",
    "metadata_beats.genre.value_counts()"
   ]
  },
  {
   "cell_type": "code",
   "execution_count": null,
   "metadata": {},
   "outputs": [],
   "source": [
    "# preparing the data and computing stm\n",
    "groove_midi_path = Path(\"~/mir_datasets/groove_midi/\").expanduser()\n",
    "features = []\n",
    "for row in tqdm(metadata_beats.itertuples(index=False), total=metadata_beats.shape[0]): # TODO: find a more efficient way to loop\n",
    "    try:\n",
    "        if row.audio_filename == None: continue\n",
    "        # TODO: segment audio file?\n",
    "        y, sr = librosa.load(groove_midi_path / row.audio_filename, sr=None, duration=30)\n",
    "        features.append(\n",
    "            compute_stm(y=y, sr=sr)\n",
    "        ) \n",
    "    except Exception as e:\n",
    "        print(f\"Error: {e}\")"
   ]
  },
  {
   "cell_type": "code",
   "execution_count": null,
   "metadata": {},
   "outputs": [],
   "source": []
  },
  {
   "cell_type": "code",
   "execution_count": null,
   "metadata": {},
   "outputs": [],
   "source": [
    "# f = []\n",
    "# l = []\n",
    "# for _, track, in tqdm(groove_dataset.load_tracks().items()):\n",
    "#     if track.audio_path != None and track.beat_type == \"beat\" and duration:\n",
    "#         try:\n",
    "#             y, sr = librosa.load(track.audio_path, sr=None) \n",
    "#             stm = compute_stm(y, sr, with_padding=True, autocor_window_type=\"hamming\")[:200]\n",
    "#             f.append(stm)\n",
    "#             l.append(track.style)\n",
    "#         except Exception as e:\n",
    "#             print(f\"error: {e}\")"
   ]
  }
 ],
 "metadata": {
  "kernelspec": {
   "display_name": ".venv-rythm",
   "language": "python",
   "name": "python3"
  },
  "language_info": {
   "codemirror_mode": {
    "name": "ipython",
    "version": 3
   },
   "file_extension": ".py",
   "mimetype": "text/x-python",
   "name": "python",
   "nbconvert_exporter": "python",
   "pygments_lexer": "ipython3",
   "version": "3.11.2"
  }
 },
 "nbformat": 4,
 "nbformat_minor": 2
}
