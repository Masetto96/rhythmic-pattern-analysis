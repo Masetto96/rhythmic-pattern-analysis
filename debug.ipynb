{
 "cells": [
  {
   "cell_type": "code",
   "execution_count": null,
   "metadata": {},
   "outputs": [],
   "source": [
    "from scripts.scale_transform_magnitude import compute_stm, compute_stm_multi_channel\n",
    "\n",
    "import mirdata\n",
    "import librosa\n",
    "from tqdm import tqdm\n",
    "import pandas as pd\n",
    "from pathlib import Path\n",
    "import numpy as np\n",
    "\n",
    "%load_ext autoreload\n",
    "%autoreload 2\n",
    "\n",
    "%matplotlib inline"
   ]
  },
  {
   "cell_type": "code",
   "execution_count": null,
   "metadata": {},
   "outputs": [],
   "source": [
    "groove_dataset = mirdata.initialize(\"groove_midi\")\n",
    "# groove_dataset.download()\n",
    "groove_dataset.validate()"
   ]
  },
  {
   "cell_type": "code",
   "execution_count": null,
   "metadata": {},
   "outputs": [],
   "source": [
    "f = []\n",
    "l = []\n",
    "for _, track, in tqdm(groove_dataset.load_tracks().items()):\n",
    "    if track.audio_path != None and track.beat_type == \"beat\" and duration:\n",
    "        try:\n",
    "            y, sr = librosa.load(track.audio_path, sr=None) \n",
    "            stm = compute_stm(y, sr, with_padding=True, autocor_window_type=\"hamming\")[:200]\n",
    "            f.append(stm)\n",
    "            l.append(track.style)\n",
    "        except Exception as e:\n",
    "            print(f\"error: {e}\")"
   ]
  }
 ],
 "metadata": {
  "kernelspec": {
   "display_name": ".venv-rythm",
   "language": "python",
   "name": "python3"
  },
  "language_info": {
   "codemirror_mode": {
    "name": "ipython",
    "version": 3
   },
   "file_extension": ".py",
   "mimetype": "text/x-python",
   "name": "python",
   "nbconvert_exporter": "python",
   "pygments_lexer": "ipython3",
   "version": "3.11.2"
  }
 },
 "nbformat": 4,
 "nbformat_minor": 2
}
