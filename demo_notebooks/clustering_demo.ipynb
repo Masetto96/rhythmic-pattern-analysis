{
 "cells": [
  {
   "cell_type": "markdown",
   "metadata": {},
   "source": [
    "# Clustering beats and fills on Groove Midi Dataset\n",
    "*https://magenta.tensorflow.org/datasets/e-gmd*"
   ]
  },
  {
   "cell_type": "code",
   "execution_count": 9,
   "metadata": {},
   "outputs": [
    {
     "name": "stdout",
     "output_type": "stream",
     "text": [
      "The autoreload extension is already loaded. To reload it, use:\n",
      "  %reload_ext autoreload\n"
     ]
    }
   ],
   "source": [
    "import sys\n",
    "import os\n",
    "parent_dir = os.path.abspath(os.path.join('..'))\n",
    "if parent_dir not in sys.path:\n",
    "    sys.path.append(parent_dir)\n",
    "    \n",
    "%load_ext autoreload\n",
    "%autoreload 2\n",
    "\n",
    "import mirdata\n",
    "import librosa\n",
    "import itertools\n",
    "import umap\n",
    "import umap.plot\n",
    "import numpy as np\n",
    "import pandas as pd\n",
    "from scripts.data_loaders import load_malian_jembe_dataset, load_candombe_dataset, load_cretan_dances_dataset, load_ballroom_dataset\n",
    "from sklearn.preprocessing import LabelEncoder\n",
    "from scripts.scale_transform_magnitude import compute_stm, compute_stm_multi_channel\n",
    "from scripts.clusterers import select_best_num_clusters\n",
    "from pathlib import Path\n",
    "from tqdm import tqdm"
   ]
  },
  {
   "cell_type": "markdown",
   "metadata": {},
   "source": [
    "## Smaller version of groove-midi, used for trying out new configurations"
   ]
  },
  {
   "cell_type": "code",
   "execution_count": 14,
   "metadata": {},
   "outputs": [
    {
     "name": "stdout",
     "output_type": "stream",
     "text": [
      "duration summary in seconds: \n",
      " count     340.000000\n",
      "mean      130.695639\n",
      "std       118.145679\n",
      "min        30.060481\n",
      "25%        53.633509\n",
      "50%       112.187331\n",
      "75%       172.502978\n",
      "max      1394.173889\n",
      "Name: duration, dtype: float64\n",
      "['soul' 'funk' 'hiphop' 'rock' 'neworleans' 'dance' 'latin' 'afrocuban'\n",
      " 'reggae' 'jazz' 'country' 'gospel' 'punk' 'afrobeat' 'blues'\n",
      " 'middleeastern' 'pop' 'highlife']\n"
     ]
    }
   ],
   "source": [
    "# groove_dataset._metadatafill\n",
    "metadata = pd.read_csv(\"~/mir_datasets/groove_midi/info.csv\")\n",
    "metadata_beats = metadata[metadata[\"beat_type\"] == \"beat\"]  # select only beats\n",
    "\n",
    "metadata_beats = metadata_beats[metadata_beats[\"duration\"] >= 30]\n",
    "metadata_beats = metadata_beats[metadata_beats[\"time_signature\"] >= \"4-4\"]\n",
    "\n",
    "print(\"duration summary in seconds: \\n\", metadata_beats[\"duration\"].describe())\n",
    "\n",
    "metadata_beats[\"genre\"] = metadata_beats[\"style\"].apply(\n",
    "    lambda x: x.split(\"/\")[0]\n",
    ")  # create genre column based on style\n",
    "\n",
    "metadata_beats = metadata_beats[[\"genre\", \"style\", \"audio_filename\", \"duration\"]] # get rid of unnecessary columns\n",
    "metadata_beats = metadata_beats.reset_index(drop=True) # resetting index is neede for interactive plot\n",
    "\n",
    "print(metadata_beats.genre.unique())\n",
    "\n",
    "# Counting occurrences of each genre\n",
    "genre_counts = metadata_beats['genre'].value_counts()\n",
    "\n",
    "# Identifying the top n most frequent genres\n",
    "top_n_genres = genre_counts.head(6).index\n",
    "\n",
    "metadata_beats = metadata_beats[metadata_beats['genre'].isin(top_n_genres)]\n",
    "\n",
    "metadata_beats.genre.value_counts()\n",
    "metadata_beats = metadata_beats.dropna()\n",
    "metadata_beats = metadata_beats.reset_index(drop=True)\n"
   ]
  },
  {
   "cell_type": "code",
   "execution_count": 18,
   "metadata": {},
   "outputs": [
    {
     "name": "stderr",
     "output_type": "stream",
     "text": [
      "  2%|▏         | 4/245 [00:00<00:13, 17.94it/s]"
     ]
    },
    {
     "name": "stdout",
     "output_type": "stream",
     "text": [
      "Error: name 'feature' is not defined\n",
      "Error: name 'feature' is not defined\n",
      "Error: name 'feature' is not defined\n",
      "Error: name 'feature' is not defined\n"
     ]
    },
    {
     "name": "stderr",
     "output_type": "stream",
     "text": [
      "  3%|▎         | 8/245 [00:00<00:13, 17.17it/s]"
     ]
    },
    {
     "name": "stdout",
     "output_type": "stream",
     "text": [
      "Error: name 'feature' is not defined\n",
      "Error: name 'feature' is not defined\n",
      "Error: name 'feature' is not defined\n",
      "Error: name 'feature' is not defined\n"
     ]
    },
    {
     "name": "stderr",
     "output_type": "stream",
     "text": [
      "  5%|▍         | 12/245 [00:00<00:13, 16.79it/s]"
     ]
    },
    {
     "name": "stdout",
     "output_type": "stream",
     "text": [
      "Error: name 'feature' is not defined\n",
      "Error: name 'feature' is not defined\n",
      "Error: name 'feature' is not defined\n",
      "Error: name 'feature' is not defined\n"
     ]
    },
    {
     "name": "stderr",
     "output_type": "stream",
     "text": [
      "  7%|▋         | 16/245 [00:00<00:13, 16.92it/s]"
     ]
    },
    {
     "name": "stdout",
     "output_type": "stream",
     "text": [
      "Error: name 'feature' is not defined\n",
      "Error: name 'feature' is not defined\n",
      "Error: name 'feature' is not defined\n",
      "Error: name 'feature' is not defined\n"
     ]
    },
    {
     "name": "stderr",
     "output_type": "stream",
     "text": [
      "  9%|▊         | 21/245 [00:01<00:12, 18.38it/s]"
     ]
    },
    {
     "name": "stdout",
     "output_type": "stream",
     "text": [
      "Error: name 'feature' is not defined\n",
      "Error: name 'feature' is not defined\n",
      "Error: name 'feature' is not defined\n",
      "Error: name 'feature' is not defined\n",
      "Error: name 'feature' is not defined\n"
     ]
    },
    {
     "name": "stderr",
     "output_type": "stream",
     "text": [
      " 10%|▉         | 24/245 [00:01<00:11, 19.22it/s]"
     ]
    },
    {
     "name": "stdout",
     "output_type": "stream",
     "text": [
      "Error: name 'feature' is not defined\n",
      "Error: name 'feature' is not defined\n",
      "Error: name 'feature' is not defined\n",
      "Error: name 'feature' is not defined\n",
      "Error: name 'feature' is not defined\n"
     ]
    },
    {
     "name": "stderr",
     "output_type": "stream",
     "text": [
      " 12%|█▏        | 30/245 [00:01<00:10, 20.22it/s]"
     ]
    },
    {
     "name": "stdout",
     "output_type": "stream",
     "text": [
      "Error: name 'feature' is not defined\n",
      "Error: name 'feature' is not defined\n",
      "Error: name 'feature' is not defined\n",
      "Error: name 'feature' is not defined\n",
      "Error: name 'feature' is not defined\n"
     ]
    },
    {
     "name": "stderr",
     "output_type": "stream",
     "text": [
      " 15%|█▍        | 36/245 [00:01<00:10, 20.51it/s]"
     ]
    },
    {
     "name": "stdout",
     "output_type": "stream",
     "text": [
      "Error: name 'feature' is not defined\n",
      "Error: name 'feature' is not defined\n",
      "Error: name 'feature' is not defined\n",
      "Error: name 'feature' is not defined\n",
      "Error: name 'feature' is not defined\n"
     ]
    },
    {
     "name": "stderr",
     "output_type": "stream",
     "text": [
      " 16%|█▌        | 39/245 [00:02<00:10, 20.39it/s]"
     ]
    },
    {
     "name": "stdout",
     "output_type": "stream",
     "text": [
      "Error: name 'feature' is not defined\n",
      "Error: name 'feature' is not defined\n",
      "Error: name 'feature' is not defined\n",
      "Error: name 'feature' is not defined\n"
     ]
    },
    {
     "name": "stderr",
     "output_type": "stream",
     "text": [
      " 17%|█▋        | 42/245 [00:02<00:10, 20.12it/s]"
     ]
    },
    {
     "name": "stdout",
     "output_type": "stream",
     "text": [
      "Error: name 'feature' is not defined\n",
      "Error: name 'feature' is not defined\n",
      "Error: name 'feature' is not defined\n",
      "Error: name 'feature' is not defined\n"
     ]
    },
    {
     "name": "stderr",
     "output_type": "stream",
     "text": [
      " 20%|█▉        | 48/245 [00:02<00:09, 20.17it/s]"
     ]
    },
    {
     "name": "stdout",
     "output_type": "stream",
     "text": [
      "Error: name 'feature' is not defined\n",
      "Error: name 'feature' is not defined\n",
      "Error: name 'feature' is not defined\n",
      "Error: name 'feature' is not defined\n",
      "Error: name 'feature' is not defined\n"
     ]
    },
    {
     "name": "stderr",
     "output_type": "stream",
     "text": [
      " 22%|██▏       | 54/245 [00:02<00:09, 20.67it/s]"
     ]
    },
    {
     "name": "stdout",
     "output_type": "stream",
     "text": [
      "Error: name 'feature' is not defined\n",
      "Error: name 'feature' is not defined\n",
      "Error: name 'feature' is not defined\n",
      "Error: name 'feature' is not defined\n",
      "Error: name 'feature' is not defined\n"
     ]
    },
    {
     "name": "stderr",
     "output_type": "stream",
     "text": [
      " 25%|██▌       | 62/245 [00:02<00:05, 31.03it/s]"
     ]
    },
    {
     "name": "stdout",
     "output_type": "stream",
     "text": [
      "Error: name 'feature' is not defined\n",
      "Error: name 'feature' is not defined\n",
      "Error: name 'feature' is not defined\n",
      "Error: name 'feature' is not defined\n",
      "Error: name 'feature' is not defined\n",
      "Error: name 'feature' is not defined\n",
      "Error: name 'feature' is not defined\n",
      "Error: name 'feature' is not defined\n",
      "Error: name 'feature' is not defined\n",
      "Error: name 'feature' is not defined\n",
      "Error: name 'feature' is not defined\n",
      "Error: name 'feature' is not defined\n",
      "Error: name 'feature' is not defined\n",
      "Error: name 'feature' is not defined\n",
      "Error: name 'feature' is not defined\n",
      "Error: name 'feature' is not defined\n",
      "Error: name 'feature' is not defined\n",
      "Error: name 'feature' is not defined\n",
      "Error: name 'feature' is not defined\n"
     ]
    },
    {
     "name": "stderr",
     "output_type": "stream",
     "text": [
      " 30%|███       | 74/245 [00:03<00:03, 47.35it/s]"
     ]
    },
    {
     "name": "stdout",
     "output_type": "stream",
     "text": [
      "Error: name 'feature' is not defined\n",
      "Error: name 'feature' is not defined\n",
      "Error: name 'feature' is not defined\n",
      "Error: name 'feature' is not defined\n",
      "Error: name 'feature' is not defined\n"
     ]
    },
    {
     "name": "stderr",
     "output_type": "stream",
     "text": [
      " 33%|███▎      | 80/245 [00:03<00:06, 23.72it/s]"
     ]
    },
    {
     "name": "stdout",
     "output_type": "stream",
     "text": [
      "Error: name 'feature' is not defined\n",
      "Error: name 'feature' is not defined\n"
     ]
    },
    {
     "name": "stderr",
     "output_type": "stream",
     "text": [
      "\n"
     ]
    },
    {
     "ename": "KeyboardInterrupt",
     "evalue": "",
     "output_type": "error",
     "traceback": [
      "\u001b[0;31m---------------------------------------------------------------------------\u001b[0m",
      "\u001b[0;31mKeyboardInterrupt\u001b[0m                         Traceback (most recent call last)",
      "Cell \u001b[0;32mIn[18], line 7\u001b[0m\n\u001b[1;32m      5\u001b[0m \u001b[38;5;28;01mtry\u001b[39;00m:\n\u001b[1;32m      6\u001b[0m     \u001b[38;5;28;01mif\u001b[39;00m row\u001b[38;5;241m.\u001b[39maudio_filename \u001b[38;5;241m==\u001b[39m \u001b[38;5;28;01mNone\u001b[39;00m: \u001b[38;5;28;01mcontinue\u001b[39;00m\n\u001b[0;32m----> 7\u001b[0m     y, sr \u001b[38;5;241m=\u001b[39m \u001b[43mlibrosa\u001b[49m\u001b[38;5;241;43m.\u001b[39;49m\u001b[43mload\u001b[49m\u001b[43m(\u001b[49m\u001b[43mgroove_midi_path\u001b[49m\u001b[43m \u001b[49m\u001b[38;5;241;43m/\u001b[39;49m\u001b[43m \u001b[49m\u001b[43mrow\u001b[49m\u001b[38;5;241;43m.\u001b[39;49m\u001b[43maudio_filename\u001b[49m\u001b[43m,\u001b[49m\u001b[43m \u001b[49m\u001b[43msr\u001b[49m\u001b[38;5;241;43m=\u001b[39;49m\u001b[38;5;28;43;01mNone\u001b[39;49;00m\u001b[43m,\u001b[49m\u001b[43m \u001b[49m\u001b[43mduration\u001b[49m\u001b[38;5;241;43m=\u001b[39;49m\u001b[38;5;241;43m30\u001b[39;49m\u001b[43m)\u001b[49m\n\u001b[1;32m      8\u001b[0m     feature\u001b[38;5;241m.\u001b[39mappend(compute_stm(y\u001b[38;5;241m=\u001b[39my, sr\u001b[38;5;241m=\u001b[39msr))\n\u001b[1;32m      9\u001b[0m     \u001b[38;5;66;03m# features.append(np.mean(compute_stm_multi_channel(y=y, sr=sr, channels = [0,5,40], num_stm_coefs=200), axis=0)) \u001b[39;00m\n",
      "File \u001b[0;32m~/internship/rythmic-pattern-analysis/.rhythm/lib/python3.11/site-packages/librosa/core/audio.py:176\u001b[0m, in \u001b[0;36mload\u001b[0;34m(path, sr, mono, offset, duration, dtype, res_type)\u001b[0m\n\u001b[1;32m    173\u001b[0m \u001b[38;5;28;01melse\u001b[39;00m:\n\u001b[1;32m    174\u001b[0m     \u001b[38;5;66;03m# Otherwise try soundfile first, and then fall back if necessary\u001b[39;00m\n\u001b[1;32m    175\u001b[0m     \u001b[38;5;28;01mtry\u001b[39;00m:\n\u001b[0;32m--> 176\u001b[0m         y, sr_native \u001b[38;5;241m=\u001b[39m \u001b[43m__soundfile_load\u001b[49m\u001b[43m(\u001b[49m\u001b[43mpath\u001b[49m\u001b[43m,\u001b[49m\u001b[43m \u001b[49m\u001b[43moffset\u001b[49m\u001b[43m,\u001b[49m\u001b[43m \u001b[49m\u001b[43mduration\u001b[49m\u001b[43m,\u001b[49m\u001b[43m \u001b[49m\u001b[43mdtype\u001b[49m\u001b[43m)\u001b[49m\n\u001b[1;32m    178\u001b[0m     \u001b[38;5;28;01mexcept\u001b[39;00m sf\u001b[38;5;241m.\u001b[39mSoundFileRuntimeError \u001b[38;5;28;01mas\u001b[39;00m exc:\n\u001b[1;32m    179\u001b[0m         \u001b[38;5;66;03m# If soundfile failed, try audioread instead\u001b[39;00m\n\u001b[1;32m    180\u001b[0m         \u001b[38;5;28;01mif\u001b[39;00m \u001b[38;5;28misinstance\u001b[39m(path, (\u001b[38;5;28mstr\u001b[39m, pathlib\u001b[38;5;241m.\u001b[39mPurePath)):\n",
      "File \u001b[0;32m~/internship/rythmic-pattern-analysis/.rhythm/lib/python3.11/site-packages/librosa/core/audio.py:222\u001b[0m, in \u001b[0;36m__soundfile_load\u001b[0;34m(path, offset, duration, dtype)\u001b[0m\n\u001b[1;32m    219\u001b[0m         frame_duration \u001b[38;5;241m=\u001b[39m \u001b[38;5;241m-\u001b[39m\u001b[38;5;241m1\u001b[39m\n\u001b[1;32m    221\u001b[0m     \u001b[38;5;66;03m# Load the target number of frames, and transpose to match librosa form\u001b[39;00m\n\u001b[0;32m--> 222\u001b[0m     y \u001b[38;5;241m=\u001b[39m \u001b[43msf_desc\u001b[49m\u001b[38;5;241;43m.\u001b[39;49m\u001b[43mread\u001b[49m\u001b[43m(\u001b[49m\u001b[43mframes\u001b[49m\u001b[38;5;241;43m=\u001b[39;49m\u001b[43mframe_duration\u001b[49m\u001b[43m,\u001b[49m\u001b[43m \u001b[49m\u001b[43mdtype\u001b[49m\u001b[38;5;241;43m=\u001b[39;49m\u001b[43mdtype\u001b[49m\u001b[43m,\u001b[49m\u001b[43m \u001b[49m\u001b[43malways_2d\u001b[49m\u001b[38;5;241;43m=\u001b[39;49m\u001b[38;5;28;43;01mFalse\u001b[39;49;00m\u001b[43m)\u001b[49m\u001b[38;5;241m.\u001b[39mT\n\u001b[1;32m    224\u001b[0m \u001b[38;5;28;01mreturn\u001b[39;00m y, sr_native\n",
      "File \u001b[0;32m~/internship/rythmic-pattern-analysis/.rhythm/lib/python3.11/site-packages/soundfile.py:895\u001b[0m, in \u001b[0;36mSoundFile.read\u001b[0;34m(self, frames, dtype, always_2d, fill_value, out)\u001b[0m\n\u001b[1;32m    893\u001b[0m     \u001b[38;5;28;01mif\u001b[39;00m frames \u001b[38;5;241m<\u001b[39m \u001b[38;5;241m0\u001b[39m \u001b[38;5;129;01mor\u001b[39;00m frames \u001b[38;5;241m>\u001b[39m \u001b[38;5;28mlen\u001b[39m(out):\n\u001b[1;32m    894\u001b[0m         frames \u001b[38;5;241m=\u001b[39m \u001b[38;5;28mlen\u001b[39m(out)\n\u001b[0;32m--> 895\u001b[0m frames \u001b[38;5;241m=\u001b[39m \u001b[38;5;28;43mself\u001b[39;49m\u001b[38;5;241;43m.\u001b[39;49m\u001b[43m_array_io\u001b[49m\u001b[43m(\u001b[49m\u001b[38;5;124;43m'\u001b[39;49m\u001b[38;5;124;43mread\u001b[39;49m\u001b[38;5;124;43m'\u001b[39;49m\u001b[43m,\u001b[49m\u001b[43m \u001b[49m\u001b[43mout\u001b[49m\u001b[43m,\u001b[49m\u001b[43m \u001b[49m\u001b[43mframes\u001b[49m\u001b[43m)\u001b[49m\n\u001b[1;32m    896\u001b[0m \u001b[38;5;28;01mif\u001b[39;00m \u001b[38;5;28mlen\u001b[39m(out) \u001b[38;5;241m>\u001b[39m frames:\n\u001b[1;32m    897\u001b[0m     \u001b[38;5;28;01mif\u001b[39;00m fill_value \u001b[38;5;129;01mis\u001b[39;00m \u001b[38;5;28;01mNone\u001b[39;00m:\n",
      "File \u001b[0;32m~/internship/rythmic-pattern-analysis/.rhythm/lib/python3.11/site-packages/soundfile.py:1344\u001b[0m, in \u001b[0;36mSoundFile._array_io\u001b[0;34m(self, action, array, frames)\u001b[0m\n\u001b[1;32m   1342\u001b[0m \u001b[38;5;28;01massert\u001b[39;00m array\u001b[38;5;241m.\u001b[39mdtype\u001b[38;5;241m.\u001b[39mitemsize \u001b[38;5;241m==\u001b[39m _ffi\u001b[38;5;241m.\u001b[39msizeof(ctype)\n\u001b[1;32m   1343\u001b[0m cdata \u001b[38;5;241m=\u001b[39m _ffi\u001b[38;5;241m.\u001b[39mcast(ctype \u001b[38;5;241m+\u001b[39m \u001b[38;5;124m'\u001b[39m\u001b[38;5;124m*\u001b[39m\u001b[38;5;124m'\u001b[39m, array\u001b[38;5;241m.\u001b[39m__array_interface__[\u001b[38;5;124m'\u001b[39m\u001b[38;5;124mdata\u001b[39m\u001b[38;5;124m'\u001b[39m][\u001b[38;5;241m0\u001b[39m])\n\u001b[0;32m-> 1344\u001b[0m \u001b[38;5;28;01mreturn\u001b[39;00m \u001b[38;5;28;43mself\u001b[39;49m\u001b[38;5;241;43m.\u001b[39;49m\u001b[43m_cdata_io\u001b[49m\u001b[43m(\u001b[49m\u001b[43maction\u001b[49m\u001b[43m,\u001b[49m\u001b[43m \u001b[49m\u001b[43mcdata\u001b[49m\u001b[43m,\u001b[49m\u001b[43m \u001b[49m\u001b[43mctype\u001b[49m\u001b[43m,\u001b[49m\u001b[43m \u001b[49m\u001b[43mframes\u001b[49m\u001b[43m)\u001b[49m\n",
      "File \u001b[0;32m~/internship/rythmic-pattern-analysis/.rhythm/lib/python3.11/site-packages/soundfile.py:1353\u001b[0m, in \u001b[0;36mSoundFile._cdata_io\u001b[0;34m(self, action, data, ctype, frames)\u001b[0m\n\u001b[1;32m   1351\u001b[0m     curr \u001b[38;5;241m=\u001b[39m \u001b[38;5;28mself\u001b[39m\u001b[38;5;241m.\u001b[39mtell()\n\u001b[1;32m   1352\u001b[0m func \u001b[38;5;241m=\u001b[39m \u001b[38;5;28mgetattr\u001b[39m(_snd, \u001b[38;5;124m'\u001b[39m\u001b[38;5;124msf_\u001b[39m\u001b[38;5;124m'\u001b[39m \u001b[38;5;241m+\u001b[39m action \u001b[38;5;241m+\u001b[39m \u001b[38;5;124m'\u001b[39m\u001b[38;5;124mf_\u001b[39m\u001b[38;5;124m'\u001b[39m \u001b[38;5;241m+\u001b[39m ctype)\n\u001b[0;32m-> 1353\u001b[0m frames \u001b[38;5;241m=\u001b[39m \u001b[43mfunc\u001b[49m\u001b[43m(\u001b[49m\u001b[38;5;28;43mself\u001b[39;49m\u001b[38;5;241;43m.\u001b[39;49m\u001b[43m_file\u001b[49m\u001b[43m,\u001b[49m\u001b[43m \u001b[49m\u001b[43mdata\u001b[49m\u001b[43m,\u001b[49m\u001b[43m \u001b[49m\u001b[43mframes\u001b[49m\u001b[43m)\u001b[49m\n\u001b[1;32m   1354\u001b[0m _error_check(\u001b[38;5;28mself\u001b[39m\u001b[38;5;241m.\u001b[39m_errorcode)\n\u001b[1;32m   1355\u001b[0m \u001b[38;5;28;01mif\u001b[39;00m \u001b[38;5;28mself\u001b[39m\u001b[38;5;241m.\u001b[39mseekable():\n",
      "\u001b[0;31mKeyboardInterrupt\u001b[0m: "
     ]
    }
   ],
   "source": [
    "# preparing the data and computing stm\n",
    "groove_midi_path = Path(\"~/mir_datasets/groove_midi/\").expanduser()\n",
    "features = []\n",
    "for row in tqdm(metadata_beats.itertuples(index=False), total=metadata_beats.shape[0]): # TODO: find a more efficient way to loop\n",
    "    try:\n",
    "        if row.audio_filename == None: continue\n",
    "        y, sr = librosa.load(groove_midi_path / row.audio_filename, sr=None, duration=30)\n",
    "        features.append(compute_stm(y=y, sr=sr))\n",
    "        # features.append(np.mean(compute_stm_multi_ch        # TODO: segment audio file?\n",
    "annel(y=y, sr=sr, channels = [0,5,40], num_stm_coefs=200), axis=0)) \n",
    "    except Exception as e:\n",
    "        print(f\"Error: {e}\")"
   ]
  },
  {
   "cell_type": "markdown",
   "metadata": {},
   "source": [
    "### Clustering Analysis"
   ]
  },
  {
   "cell_type": "code",
   "execution_count": null,
   "metadata": {},
   "outputs": [],
   "source": [
    "num_of_clusters = [i for i in range(3, 6)]\n",
    "results, optimal_k = select_best_num_clusters(\n",
    "    n_clusters=num_of_clusters, X=np.array(features), dim_reduction=\"tsne\", cluster_method=\"kmedoids\"\n",
    ")\n",
    "\n",
    "print(f\"Best number of clusters: {optimal_k}; silhouette score: {results.get(optimal_k)}\")"
   ]
  },
  {
   "cell_type": "code",
   "execution_count": 17,
   "metadata": {},
   "outputs": [
    {
     "name": "stderr",
     "output_type": "stream",
     "text": [
      "BokehDeprecationWarning: 'circle() method with size value' was deprecated in Bokeh 3.4.0 and will be removed, use 'scatter(size=...) instead' instead.\n"
     ]
    },
    {
     "data": {
      "text/html": [
       "    <style>\n",
       "        .bk-notebook-logo {\n",
       "            display: block;\n",
       "            width: 20px;\n",
       "            height: 20px;\n",
       "            background-image: url(data:image/png;base64,iVBORw0KGgoAAAANSUhEUgAAABQAAAAUCAYAAACNiR0NAAAABHNCSVQICAgIfAhkiAAAAAlwSFlzAAALEgAACxIB0t1+/AAAABx0RVh0U29mdHdhcmUAQWRvYmUgRmlyZXdvcmtzIENTNui8sowAAAOkSURBVDiNjZRtaJVlGMd/1/08zzln5zjP1LWcU9N0NkN8m2CYjpgQYQXqSs0I84OLIC0hkEKoPtiH3gmKoiJDU7QpLgoLjLIQCpEsNJ1vqUOdO7ppbuec5+V+rj4ctwzd8IIbbi6u+8f1539dt3A78eXC7QizUF7gyV1fD1Yqg4JWz84yffhm0qkFqBogB9rM8tZdtwVsPUhWhGcFJngGeWrPzHm5oaMmkfEg1usvLFyc8jLRqDOMru7AyC8saQr7GG7f5fvDeH7Ej8CM66nIF+8yngt6HWaKh7k49Soy9nXurCi1o3qUbS3zWfrYeQDTB/Qj6kX6Ybhw4B+bOYoLKCC9H3Nu/leUTZ1JdRWkkn2ldcCamzrcf47KKXdAJllSlxAOkRgyHsGC/zRday5Qld9DyoM4/q/rUoy/CXh3jzOu3bHUVZeU+DEn8FInkPBFlu3+nW3Nw0mk6vCDiWg8CeJaxEwuHS3+z5RgY+YBR6V1Z1nxSOfoaPa4LASWxxdNp+VWTk7+4vzaou8v8PN+xo+KY2xsw6une2frhw05CTYOmQvsEhjhWjn0bmXPjpE1+kplmmkP3suftwTubK9Vq22qKmrBhpY4jvd5afdRA3wGjFAgcnTK2s4hY0/GPNIb0nErGMCRxWOOX64Z8RAC4oCXdklmEvcL8o0BfkNK4lUg9HTl+oPlQxdNo3Mg4Nv175e/1LDGzZen30MEjRUtmXSfiTVu1kK8W4txyV6BMKlbgk3lMwYCiusNy9fVfvvwMxv8Ynl6vxoByANLTWplvuj/nF9m2+PDtt1eiHPBr1oIfhCChQMBw6Aw0UulqTKZdfVvfG7VcfIqLG9bcldL/+pdWTLxLUy8Qq38heUIjh4XlzZxzQm19lLFlr8vdQ97rjZVOLf8nclzckbcD4wxXMidpX30sFd37Fv/GtwwhzhxGVAprjbg0gCAEeIgwCZyTV2Z1REEW8O4py0wsjeloKoMr6iCY6dP92H6Vw/oTyICIthibxjm/DfN9lVz8IqtqKYLUXfoKVMVQVVJOElGjrnnUt9T9wbgp8AyYKaGlqingHZU/uG2NTZSVqwHQTWkx9hxjkpWDaCg6Ckj5qebgBVbT3V3NNXMSiWSDdGV3hrtzla7J+duwPOToIg42ChPQOQjspnSlp1V+Gjdged7+8UN5CRAV7a5EdFNwCjEaBR27b3W890TE7g24NAP/mMDXRWrGoFPQI9ls/MWO2dWFAar/xcOIImbbpA3zgAAAABJRU5ErkJggg==);\n",
       "        }\n",
       "    </style>\n",
       "    <div>\n",
       "        <a href=\"https://bokeh.org\" target=\"_blank\" class=\"bk-notebook-logo\"></a>\n",
       "        <span id=\"bd174b73-6cf2-478e-a0db-9673edc26886\">Loading BokehJS ...</span>\n",
       "    </div>\n"
      ]
     },
     "metadata": {},
     "output_type": "display_data"
    },
    {
     "data": {
      "application/javascript": "'use strict';\n(function(root) {\n  function now() {\n    return new Date();\n  }\n\n  const force = true;\n\n  if (typeof root._bokeh_onload_callbacks === \"undefined\" || force === true) {\n    root._bokeh_onload_callbacks = [];\n    root._bokeh_is_loading = undefined;\n  }\n\nconst JS_MIME_TYPE = 'application/javascript';\n  const HTML_MIME_TYPE = 'text/html';\n  const EXEC_MIME_TYPE = 'application/vnd.bokehjs_exec.v0+json';\n  const CLASS_NAME = 'output_bokeh rendered_html';\n\n  /**\n   * Render data to the DOM node\n   */\n  function render(props, node) {\n    const script = document.createElement(\"script\");\n    node.appendChild(script);\n  }\n\n  /**\n   * Handle when an output is cleared or removed\n   */\n  function handleClearOutput(event, handle) {\n    function drop(id) {\n      const view = Bokeh.index.get_by_id(id)\n      if (view != null) {\n        view.model.document.clear()\n        Bokeh.index.delete(view)\n      }\n    }\n\n    const cell = handle.cell;\n\n    const id = cell.output_area._bokeh_element_id;\n    const server_id = cell.output_area._bokeh_server_id;\n\n    // Clean up Bokeh references\n    if (id != null) {\n      drop(id)\n    }\n\n    if (server_id !== undefined) {\n      // Clean up Bokeh references\n      const cmd_clean = \"from bokeh.io.state import curstate; print(curstate().uuid_to_server['\" + server_id + \"'].get_sessions()[0].document.roots[0]._id)\";\n      cell.notebook.kernel.execute(cmd_clean, {\n        iopub: {\n          output: function(msg) {\n            const id = msg.content.text.trim()\n            drop(id)\n          }\n        }\n      });\n      // Destroy server and session\n      const cmd_destroy = \"import bokeh.io.notebook as ion; ion.destroy_server('\" + server_id + \"')\";\n      cell.notebook.kernel.execute(cmd_destroy);\n    }\n  }\n\n  /**\n   * Handle when a new output is added\n   */\n  function handleAddOutput(event, handle) {\n    const output_area = handle.output_area;\n    const output = handle.output;\n\n    // limit handleAddOutput to display_data with EXEC_MIME_TYPE content only\n    if ((output.output_type != \"display_data\") || (!Object.prototype.hasOwnProperty.call(output.data, EXEC_MIME_TYPE))) {\n      return\n    }\n\n    const toinsert = output_area.element.find(\".\" + CLASS_NAME.split(' ')[0]);\n\n    if (output.metadata[EXEC_MIME_TYPE][\"id\"] !== undefined) {\n      toinsert[toinsert.length - 1].firstChild.textContent = output.data[JS_MIME_TYPE];\n      // store reference to embed id on output_area\n      output_area._bokeh_element_id = output.metadata[EXEC_MIME_TYPE][\"id\"];\n    }\n    if (output.metadata[EXEC_MIME_TYPE][\"server_id\"] !== undefined) {\n      const bk_div = document.createElement(\"div\");\n      bk_div.innerHTML = output.data[HTML_MIME_TYPE];\n      const script_attrs = bk_div.children[0].attributes;\n      for (let i = 0; i < script_attrs.length; i++) {\n        toinsert[toinsert.length - 1].firstChild.setAttribute(script_attrs[i].name, script_attrs[i].value);\n        toinsert[toinsert.length - 1].firstChild.textContent = bk_div.children[0].textContent\n      }\n      // store reference to server id on output_area\n      output_area._bokeh_server_id = output.metadata[EXEC_MIME_TYPE][\"server_id\"];\n    }\n  }\n\n  function register_renderer(events, OutputArea) {\n\n    function append_mime(data, metadata, element) {\n      // create a DOM node to render to\n      const toinsert = this.create_output_subarea(\n        metadata,\n        CLASS_NAME,\n        EXEC_MIME_TYPE\n      );\n      this.keyboard_manager.register_events(toinsert);\n      // Render to node\n      const props = {data: data, metadata: metadata[EXEC_MIME_TYPE]};\n      render(props, toinsert[toinsert.length - 1]);\n      element.append(toinsert);\n      return toinsert\n    }\n\n    /* Handle when an output is cleared or removed */\n    events.on('clear_output.CodeCell', handleClearOutput);\n    events.on('delete.Cell', handleClearOutput);\n\n    /* Handle when a new output is added */\n    events.on('output_added.OutputArea', handleAddOutput);\n\n    /**\n     * Register the mime type and append_mime function with output_area\n     */\n    OutputArea.prototype.register_mime_type(EXEC_MIME_TYPE, append_mime, {\n      /* Is output safe? */\n      safe: true,\n      /* Index of renderer in `output_area.display_order` */\n      index: 0\n    });\n  }\n\n  // register the mime type if in Jupyter Notebook environment and previously unregistered\n  if (root.Jupyter !== undefined) {\n    const events = require('base/js/events');\n    const OutputArea = require('notebook/js/outputarea').OutputArea;\n\n    if (OutputArea.prototype.mime_types().indexOf(EXEC_MIME_TYPE) == -1) {\n      register_renderer(events, OutputArea);\n    }\n  }\n  if (typeof (root._bokeh_timeout) === \"undefined\" || force === true) {\n    root._bokeh_timeout = Date.now() + 5000;\n    root._bokeh_failed_load = false;\n  }\n\n  const NB_LOAD_WARNING = {'data': {'text/html':\n     \"<div style='background-color: #fdd'>\\n\"+\n     \"<p>\\n\"+\n     \"BokehJS does not appear to have successfully loaded. If loading BokehJS from CDN, this \\n\"+\n     \"may be due to a slow or bad network connection. Possible fixes:\\n\"+\n     \"</p>\\n\"+\n     \"<ul>\\n\"+\n     \"<li>re-rerun `output_notebook()` to attempt to load from CDN again, or</li>\\n\"+\n     \"<li>use INLINE resources instead, as so:</li>\\n\"+\n     \"</ul>\\n\"+\n     \"<code>\\n\"+\n     \"from bokeh.resources import INLINE\\n\"+\n     \"output_notebook(resources=INLINE)\\n\"+\n     \"</code>\\n\"+\n     \"</div>\"}};\n\n  function display_loaded(error = null) {\n    const el = document.getElementById(\"bd174b73-6cf2-478e-a0db-9673edc26886\");\n    if (el != null) {\n      const html = (() => {\n        if (typeof root.Bokeh === \"undefined\") {\n          if (error == null) {\n            return \"BokehJS is loading ...\";\n          } else {\n            return \"BokehJS failed to load.\";\n          }\n        } else {\n          const prefix = `BokehJS ${root.Bokeh.version}`;\n          if (error == null) {\n            return `${prefix} successfully loaded.`;\n          } else {\n            return `${prefix} <b>encountered errors</b> while loading and may not function as expected.`;\n          }\n        }\n      })();\n      el.innerHTML = html;\n\n      if (error != null) {\n        const wrapper = document.createElement(\"div\");\n        wrapper.style.overflow = \"auto\";\n        wrapper.style.height = \"5em\";\n        wrapper.style.resize = \"vertical\";\n        const content = document.createElement(\"div\");\n        content.style.fontFamily = \"monospace\";\n        content.style.whiteSpace = \"pre-wrap\";\n        content.style.backgroundColor = \"rgb(255, 221, 221)\";\n        content.textContent = error.stack ?? error.toString();\n        wrapper.append(content);\n        el.append(wrapper);\n      }\n    } else if (Date.now() < root._bokeh_timeout) {\n      setTimeout(() => display_loaded(error), 100);\n    }\n  }\n\n  function run_callbacks() {\n    try {\n      root._bokeh_onload_callbacks.forEach(function(callback) {\n        if (callback != null)\n          callback();\n      });\n    } finally {\n      delete root._bokeh_onload_callbacks\n    }\n    console.debug(\"Bokeh: all callbacks have finished\");\n  }\n\n  function load_libs(css_urls, js_urls, callback) {\n    if (css_urls == null) css_urls = [];\n    if (js_urls == null) js_urls = [];\n\n    root._bokeh_onload_callbacks.push(callback);\n    if (root._bokeh_is_loading > 0) {\n      console.debug(\"Bokeh: BokehJS is being loaded, scheduling callback at\", now());\n      return null;\n    }\n    if (js_urls == null || js_urls.length === 0) {\n      run_callbacks();\n      return null;\n    }\n    console.debug(\"Bokeh: BokehJS not loaded, scheduling load and callback at\", now());\n    root._bokeh_is_loading = css_urls.length + js_urls.length;\n\n    function on_load() {\n      root._bokeh_is_loading--;\n      if (root._bokeh_is_loading === 0) {\n        console.debug(\"Bokeh: all BokehJS libraries/stylesheets loaded\");\n        run_callbacks()\n      }\n    }\n\n    function on_error(url) {\n      console.error(\"failed to load \" + url);\n    }\n\n    for (let i = 0; i < css_urls.length; i++) {\n      const url = css_urls[i];\n      const element = document.createElement(\"link\");\n      element.onload = on_load;\n      element.onerror = on_error.bind(null, url);\n      element.rel = \"stylesheet\";\n      element.type = \"text/css\";\n      element.href = url;\n      console.debug(\"Bokeh: injecting link tag for BokehJS stylesheet: \", url);\n      document.body.appendChild(element);\n    }\n\n    for (let i = 0; i < js_urls.length; i++) {\n      const url = js_urls[i];\n      const element = document.createElement('script');\n      element.onload = on_load;\n      element.onerror = on_error.bind(null, url);\n      element.async = false;\n      element.src = url;\n      console.debug(\"Bokeh: injecting script tag for BokehJS library: \", url);\n      document.head.appendChild(element);\n    }\n  };\n\n  function inject_raw_css(css) {\n    const element = document.createElement(\"style\");\n    element.appendChild(document.createTextNode(css));\n    document.body.appendChild(element);\n  }\n\n  const js_urls = [\"https://cdn.bokeh.org/bokeh/release/bokeh-3.4.1.min.js\", \"https://cdn.bokeh.org/bokeh/release/bokeh-gl-3.4.1.min.js\", \"https://cdn.bokeh.org/bokeh/release/bokeh-widgets-3.4.1.min.js\", \"https://cdn.bokeh.org/bokeh/release/bokeh-tables-3.4.1.min.js\", \"https://cdn.bokeh.org/bokeh/release/bokeh-mathjax-3.4.1.min.js\", \"https://unpkg.com/@holoviz/panel@1.4.3/dist/panel.min.js\"];\n  const css_urls = [];\n\n  const inline_js = [    function(Bokeh) {\n      Bokeh.set_log_level(\"info\");\n    },\nfunction(Bokeh) {\n    }\n  ];\n\n  function run_inline_js() {\n    if (root.Bokeh !== undefined || force === true) {\n      try {\n            for (let i = 0; i < inline_js.length; i++) {\n      inline_js[i].call(root, root.Bokeh);\n    }\n\n      } catch (error) {display_loaded(error);throw error;\n      }if (force === true) {\n        display_loaded();\n      }} else if (Date.now() < root._bokeh_timeout) {\n      setTimeout(run_inline_js, 100);\n    } else if (!root._bokeh_failed_load) {\n      console.log(\"Bokeh: BokehJS failed to load within specified timeout.\");\n      root._bokeh_failed_load = true;\n    } else if (force !== true) {\n      const cell = $(document.getElementById(\"bd174b73-6cf2-478e-a0db-9673edc26886\")).parents('.cell').data().cell;\n      cell.output_area.append_execute_result(NB_LOAD_WARNING)\n    }\n  }\n\n  if (root._bokeh_is_loading === 0) {\n    console.debug(\"Bokeh: BokehJS loaded, going straight to plotting\");\n    run_inline_js();\n  } else {\n    load_libs(css_urls, js_urls, function() {\n      console.debug(\"Bokeh: BokehJS plotting callback run at\", now());\n      run_inline_js();\n    });\n  }\n}(window));",
      "application/vnd.bokehjs_load.v0+json": ""
     },
     "metadata": {},
     "output_type": "display_data"
    },
    {
     "data": {
      "text/html": [
       "\n",
       "  <div id=\"d90219e1-755a-49cd-964b-c7003218920c\" data-root-id=\"p1117\" style=\"display: contents;\"></div>\n"
      ]
     },
     "metadata": {},
     "output_type": "display_data"
    },
    {
     "data": {
      "application/javascript": "(function(root) {\n  function embed_document(root) {\n  const docs_json = {\"c0e0e98f-9c86-492e-9b82-479e4e2e150d\":{\"version\":\"3.4.1\",\"title\":\"Bokeh Application\",\"roots\":[{\"type\":\"object\",\"name\":\"Figure\",\"id\":\"p1117\",\"attributes\":{\"width\":800,\"height\":800,\"x_range\":{\"type\":\"object\",\"name\":\"DataRange1d\",\"id\":\"p1118\"},\"y_range\":{\"type\":\"object\",\"name\":\"DataRange1d\",\"id\":\"p1119\"},\"x_scale\":{\"type\":\"object\",\"name\":\"LinearScale\",\"id\":\"p1126\"},\"y_scale\":{\"type\":\"object\",\"name\":\"LinearScale\",\"id\":\"p1127\"},\"title\":{\"type\":\"object\",\"name\":\"Title\",\"id\":\"p1124\"},\"renderers\":[{\"type\":\"object\",\"name\":\"GlyphRenderer\",\"id\":\"p1156\",\"attributes\":{\"data_source\":{\"type\":\"object\",\"name\":\"ColumnDataSource\",\"id\":\"p1114\",\"attributes\":{\"selected\":{\"type\":\"object\",\"name\":\"Selection\",\"id\":\"p1115\",\"attributes\":{\"indices\":[],\"line_indices\":[]}},\"selection_policy\":{\"type\":\"object\",\"name\":\"UnionRenderers\",\"id\":\"p1116\"},\"data\":{\"type\":\"map\",\"entries\":[[\"index\",{\"type\":\"ndarray\",\"array\":{\"type\":\"bytes\",\"data\":\"AAAAAAEAAAACAAAAAwAAAAQAAAAFAAAABgAAAAcAAAAIAAAACQAAAAoAAAALAAAADAAAAA0AAAAOAAAADwAAABAAAAARAAAAEgAAABMAAAAUAAAAFQAAABYAAAAXAAAAGAAAABkAAAAaAAAAGwAAABwAAAAdAAAAHgAAAB8AAAAgAAAAIQAAACIAAAAjAAAAJAAAACUAAAAmAAAAJwAAACgAAAApAAAAKgAAACsAAAAsAAAALQAAAC4AAAAvAAAAMAAAADEAAAAyAAAAMwAAADQAAAA1AAAANgAAADcAAAA4AAAAOQAAADoAAAA7AAAAPAAAAD0AAAA+AAAAPwAAAEAAAABBAAAAQgAAAEMAAABEAAAARQAAAEYAAABHAAAASAAAAEkAAABKAAAASwAAAEwAAABNAAAATgAAAE8AAABQAAAAUQAAAFIAAABTAAAAVAAAAFUAAABWAAAAVwAAAFgAAABZAAAAWgAAAFsAAABcAAAAXQAAAF4AAABfAAAAYAAAAGEAAABiAAAAYwAAAGQAAABlAAAAZgAAAGcAAABoAAAAaQAAAGoAAABrAAAAbAAAAG0AAABuAAAAbwAAAHAAAABxAAAAcgAAAHMAAAB0AAAAdQAAAHYAAAB3AAAAeAAAAHkAAAB6AAAAewAAAHwAAAB9AAAAfgAAAH8AAACAAAAAgQAAAIIAAACDAAAAhAAAAIUAAACGAAAAhwAAAIgAAACJAAAAigAAAIsAAACMAAAAjQAAAI4AAACPAAAAkAAAAJEAAACSAAAAkwAAAJQAAACVAAAAlgAAAJcAAACYAAAAmQAAAJoAAACbAAAAnAAAAJ0AAACeAAAAnwAAAKAAAAChAAAAogAAAKMAAACkAAAApQAAAKYAAACnAAAAqAAAAKkAAACqAAAAqwAAAKwAAACtAAAArgAAAK8AAACwAAAAsQAAALIAAACzAAAAtAAAALUAAAC2AAAAtwAAALgAAAC5AAAAugAAALsAAAC8AAAAvQAAAL4AAAC/AAAAwAAAAMEAAADCAAAAwwAAAMQAAADFAAAAxgAAAMcAAADIAAAAyQAAAMoAAADLAAAAzAAAAM0AAADOAAAAzwAAANAAAADRAAAA0gAAANMAAADUAAAA1QAAANYAAADXAAAA2AAAANkAAADaAAAA2wAAANwAAADdAAAA3gAAAN8AAADgAAAA4QAAAOIAAADjAAAA5AAAAOUAAADmAAAA5wAAAOgAAADpAAAA6gAAAOsAAADsAAAA7QAAAO4AAADvAAAA8AAAAPEAAADyAAAA8wAAAPQAAAA=\"},\"shape\":[245],\"dtype\":\"int32\",\"order\":\"little\"}],[\"x\",{\"type\":\"ndarray\",\"array\":{\"type\":\"bytes\",\"data\":\"24g6QUw3EUHGgP5AXzNZQQJY/0DPzw1B0thOQT1WSEFXaQFBJ13rQA7p3UBZHAxBm20KQU0MA0HM1kJBdWAQQbD5GEHk2A1BMcPjQIh39kDH5wJBb/UAQZjkAEHlh+5AIuz+QN7LBEHf4OxAxsn1QPRqBUEIUANBylAMQQSZBUFr8gdBCmhUQQBbFUHv9BZBcGNQQf6QGEGv7xNB+qEdQTwwKEHtyh1BpWjlQHmJ/UD3TlpBaM9SQQSLJEFgLuhAGHpLQY25EkFy9iJBc1AGQRHxBUGbmiRBZ2c2QfNIEEFjdw5Buuf/QPAYM0GWa1NBXr7+QLpsMkG6vylBdCU0QdgbSUGqWwRB5wEVQRp9VEGIO+tAhcYSQTsGD0F6AlJBV4IoQRBp1UDu/BZBHVAWQTyMBUEohP9AGQ8SQYajQkFzcQtBODEUQRB3AUFlaCdB7N9BQWKTGkEDuPBAmMA7QSqg+EASeUFBjGdPQfclQ0HO+klBMHb8QITZ/EDOtwtBMcH4QGdFKUEo7TNB5xo7QczEDkFq8+VA0iniQFEr4kBG0wtBEdzpQLqjEUFwKtlAJ//pQDRYQkGpLSBBYg4nQXXWDkGYHxlBvQfqQEl91UCVAtpA+5fSQCN81EC3G9FA/t7jQFxICkGUUetArrzPQLlGEkGIShJBtOoQQQs0AkFQxw5BsQT7QNlmKkFYzxtB+kMoQVFTGUGVWUlByO8EQbN9HkEsIAVBXd04QZ56HUFCru5AhSBPQaGzAUF9PUBBg0tLQQZBRUHou01BiehRQTh8W0FJWPBAEHrzQA0y9kAAz/RAPcHuQJ/hC0FbbTFBOZsvQU6FDkGi0lhBLVtKQRQaUEEk1vtAKtzyQHd/2UBr31lBY2ERQTmRREFJ5k5BTmlOQUfkUUH/hlBBdMhMQVmFTUGSoFpBUI1XQf/eU0EwexFBTF5GQWP0UkFgS1dB9QBVQY4SRkGszDpBeyU6QVBF7kA2UPBA1HpAQV9sTEE2b1BBRpJUQVoNTUEXlFhBFyFcQYfmXEHM9UtBCSwJQXsvCUFqJRxBykEMQQMpVEGW5T9BZUAQQdU9CEHEU0VB/n0EQVayCUEYPFFBqsVCQTelNEF0pxVBEoX5QEohDEESywtBrvDsQB4p80B3hjRBnZISQUbgFUG9ygZB/pFVQXMdIkEqcSFBBPf0QLfRW0HFOV1BSoRdQbc4XEH+O/5A970CQZ1TW0FFslZB2OAHQcwiH0FHw1pBmpD9QPesKEFlpxFByXgUQQheIUFbuD5Bq30QQS+0HEEhZFNBQ4P8QKXNPUE=\"},\"shape\":[245],\"dtype\":\"float32\",\"order\":\"little\"}],[\"y\",{\"type\":\"ndarray\",\"array\":{\"type\":\"bytes\",\"data\":\"94qXQWSpkkGf8pxBXKCSQbxEnEHUFJxBE0ehQVMTk0GUaqdBDfmfQVqIpkFus6lBgI2pQXlbqEG325xBl0CHQcIVl0ERp59BZcqfQdDUoUEz3YpBqRqOQa2ahkGBlaFBcMuGQUUlhUHc0JFBgeORQbweiUFA9pdBwVeqQd3OlEGFwJVB1ZmLQR1PfkHZZ3xBnFuSQRUSm0FBfZpByBqaQV3cnkE6tZxBTRGkQVGzqUGmzZFB5q+ZQSXEmkF9n5lBfLCdQcqjiEGZHI9BYrCMQVh4jkGhxptBVN2UQVJ6e0E3xpBBtROJQZG0n0H96otBBgGHQc0ll0Eh5ZFBlomWQdjyk0HuV4tBsqSAQW1QlEFdwqlBAn95QSH0j0F5AY1BK4KdQQkAoEFhUntBUHd6QVzgjUHpA5hBxsl5QQiwkkHdxoxB1eydQadwqUHOG5ZBWiOQQT+bokF6GZ9BVgmUQYq5nUEfhZlBCByhQYsSkEF0jZ1BbeahQdunoUFowp9Bij6pQX5zn0H2R5ZBuAWgQVxeqUGPb6FBdfugQTt4oEHSOJZBiMCYQUGZoEEfXKRBSPOhQfz1j0GQfZ5B9CiSQYWomkHXpoBBSCmpQX+XnEEhgaNB38mcQYVQnkHixZ1BoGeYQQ8AoUHEUadB3f+cQQELhkHWYIVBujGFQRSMjEEOdZJBTr6QQZpUnEG0XppB64SfQfC2nUFCIJ1BBeWmQWQ+mEHN7aJBcRmWQcommkE9IJ9BDjaTQcfJnUEkR6BBbyOiQWDbkEETVplBVmuXQaWvkUG6VqNBJySjQe+DjkH3jJBBLiOTQTqYmEEUmZtBZCObQfm3mkFcnpdBAJyZQfDvlUGkX5lBQ2ClQaHEmkHFpZpBd3adQeDgnUEDYpxBQnCiQb+SoEHD7JxBDLWdQZBGnUFwn5NBi76VQSAXn0FkKpJByvuhQQ6TnUGVNZdBwgCaQet+oEEIm55Bva2gQXOKlkFJ1pVBezOaQbgwmEGpHZZBh6GRQefHmEHATJtBNjmXQYPPlkHB1ZtBwn6qQZCkqkG6KqBB/EapQZjmnUHpyZdBSXaRQWGxm0EXZpBBmBqdQWCCmkHSyqFB+HKRQXakmkHLxYBBI52NQcFrj0H1xo1BH4mmQYuRlUHR6JpBIU18QRjqfkHr4ZtBeR2MQWOcmkHqTppBJvKpQSQRkEFSp5JBKy+UQRSskkG5+ZtBDDqdQYy1jkH+bYxBsymgQRQ4l0FpR5VB0fmXQbXOl0FbRXxB7tJ5Qeh/nkGO1p9BeeWdQVbKk0Esa4tB5TeTQdr1lkE=\"},\"shape\":[245],\"dtype\":\"float32\",\"order\":\"little\"}],[\"label\",{\"type\":\"ndarray\",\"array\":{\"type\":\"bytes\",\"data\":\"AAAAAAEAAAAAAAAAAAAAAAEAAAACAAAAAwAAAAAAAAABAAAAAQAAAAEAAAAEAAAABAAAAAEAAAADAAAAAQAAAAQAAAABAAAABAAAAAUAAAAFAAAABQAAAAUAAAAFAAAABQAAAAMAAAAFAAAABQAAAAUAAAAFAAAABAAAAAMAAAADAAAAAwAAAAMAAAAEAAAABAAAAAUAAAAFAAAABQAAAAEAAAADAAAAAwAAAAQAAAADAAAAAwAAAAEAAAABAAAAAwAAAAUAAAADAAAABQAAAAUAAAADAAAAAwAAAAUAAAAFAAAABQAAAAUAAAAFAAAABQAAAAUAAAADAAAAAwAAAAMAAAAFAAAABQAAAAMAAAAFAAAAAwAAAAMAAAAFAAAAAwAAAAMAAAADAAAAAwAAAAIAAAACAAAAAwAAAAMAAAADAAAABQAAAAUAAAAEAAAAAAAAAAEAAAAAAAAAAAAAAAEAAAACAAAAAwAAAAAAAAAEAAAABAAAAAQAAAAEAAAABAAAAAEAAAADAAAABAAAAAQAAAAEAAAABAAAAAQAAAAEAAAABAAAAAQAAAAEAAAABAAAAAAAAAADAAAAAwAAAAMAAAAEAAAABAAAAAQAAAAEAAAABAAAAAQAAAAEAAAABAAAAAQAAAAEAAAABAAAAAMAAAADAAAAAwAAAAMAAAADAAAAAwAAAAMAAAADAAAAAwAAAAMAAAADAAAAAwAAAAMAAAADAAAAAAAAAAEAAAAAAAAAAAAAAAEAAAACAAAAAwAAAAAAAAADAAAAAwAAAAMAAAABAAAAAQAAAAUAAAAFAAAAAgAAAAIAAAADAAAAAwAAAAMAAAADAAAAAAAAAAAAAAAFAAAABQAAAAUAAAACAAAAAwAAAAMAAAADAAAAAwAAAAMAAAADAAAAAwAAAAMAAAAAAAAAAwAAAAMAAAABAAAAAwAAAAIAAAADAAAAAwAAAAIAAAADAAAAAwAAAAMAAAADAAAAAAAAAAAAAAAAAAAAAAAAAAAAAAACAAAAAgAAAAMAAAADAAAAAQAAAAEAAAABAAAAAQAAAAIAAAAAAAAAAQAAAAAAAAAAAAAAAQAAAAIAAAADAAAAAAAAAAEAAAAEAAAABAAAAAIAAAACAAAAAQAAAAEAAAABAAAAAwAAAAMAAAABAAAAAgAAAAEAAAABAAAABAAAAAMAAAACAAAAAgAAAAIAAAABAAAAAQAAAAEAAAABAAAAAwAAAAMAAAADAAAAAwAAAAMAAAADAAAAAwAAAAMAAAADAAAAAwAAAAMAAAADAAAAAwAAAAMAAAA=\"},\"shape\":[245],\"dtype\":\"int32\",\"order\":\"little\"}],[\"color\",{\"type\":\"ndarray\",\"array\":[\"#9e0142\",\"#f46d43\",\"#9e0142\",\"#9e0142\",\"#f46d43\",\"#fee08b\",\"#e6f598\",\"#9e0142\",\"#f46d43\",\"#f46d43\",\"#f46d43\",\"#66c2a5\",\"#66c2a5\",\"#f46d43\",\"#e6f598\",\"#f46d43\",\"#66c2a5\",\"#f46d43\",\"#66c2a5\",\"#5e4fa2\",\"#5e4fa2\",\"#5e4fa2\",\"#5e4fa2\",\"#5e4fa2\",\"#5e4fa2\",\"#e6f598\",\"#5e4fa2\",\"#5e4fa2\",\"#5e4fa2\",\"#5e4fa2\",\"#66c2a5\",\"#e6f598\",\"#e6f598\",\"#e6f598\",\"#e6f598\",\"#66c2a5\",\"#66c2a5\",\"#5e4fa2\",\"#5e4fa2\",\"#5e4fa2\",\"#f46d43\",\"#e6f598\",\"#e6f598\",\"#66c2a5\",\"#e6f598\",\"#e6f598\",\"#f46d43\",\"#f46d43\",\"#e6f598\",\"#5e4fa2\",\"#e6f598\",\"#5e4fa2\",\"#5e4fa2\",\"#e6f598\",\"#e6f598\",\"#5e4fa2\",\"#5e4fa2\",\"#5e4fa2\",\"#5e4fa2\",\"#5e4fa2\",\"#5e4fa2\",\"#5e4fa2\",\"#e6f598\",\"#e6f598\",\"#e6f598\",\"#5e4fa2\",\"#5e4fa2\",\"#e6f598\",\"#5e4fa2\",\"#e6f598\",\"#e6f598\",\"#5e4fa2\",\"#e6f598\",\"#e6f598\",\"#e6f598\",\"#e6f598\",\"#fee08b\",\"#fee08b\",\"#e6f598\",\"#e6f598\",\"#e6f598\",\"#5e4fa2\",\"#5e4fa2\",\"#66c2a5\",\"#9e0142\",\"#f46d43\",\"#9e0142\",\"#9e0142\",\"#f46d43\",\"#fee08b\",\"#e6f598\",\"#9e0142\",\"#66c2a5\",\"#66c2a5\",\"#66c2a5\",\"#66c2a5\",\"#66c2a5\",\"#f46d43\",\"#e6f598\",\"#66c2a5\",\"#66c2a5\",\"#66c2a5\",\"#66c2a5\",\"#66c2a5\",\"#66c2a5\",\"#66c2a5\",\"#66c2a5\",\"#66c2a5\",\"#66c2a5\",\"#9e0142\",\"#e6f598\",\"#e6f598\",\"#e6f598\",\"#66c2a5\",\"#66c2a5\",\"#66c2a5\",\"#66c2a5\",\"#66c2a5\",\"#66c2a5\",\"#66c2a5\",\"#66c2a5\",\"#66c2a5\",\"#66c2a5\",\"#66c2a5\",\"#e6f598\",\"#e6f598\",\"#e6f598\",\"#e6f598\",\"#e6f598\",\"#e6f598\",\"#e6f598\",\"#e6f598\",\"#e6f598\",\"#e6f598\",\"#e6f598\",\"#e6f598\",\"#e6f598\",\"#e6f598\",\"#9e0142\",\"#f46d43\",\"#9e0142\",\"#9e0142\",\"#f46d43\",\"#fee08b\",\"#e6f598\",\"#9e0142\",\"#e6f598\",\"#e6f598\",\"#e6f598\",\"#f46d43\",\"#f46d43\",\"#5e4fa2\",\"#5e4fa2\",\"#fee08b\",\"#fee08b\",\"#e6f598\",\"#e6f598\",\"#e6f598\",\"#e6f598\",\"#9e0142\",\"#9e0142\",\"#5e4fa2\",\"#5e4fa2\",\"#5e4fa2\",\"#fee08b\",\"#e6f598\",\"#e6f598\",\"#e6f598\",\"#e6f598\",\"#e6f598\",\"#e6f598\",\"#e6f598\",\"#e6f598\",\"#9e0142\",\"#e6f598\",\"#e6f598\",\"#f46d43\",\"#e6f598\",\"#fee08b\",\"#e6f598\",\"#e6f598\",\"#fee08b\",\"#e6f598\",\"#e6f598\",\"#e6f598\",\"#e6f598\",\"#9e0142\",\"#9e0142\",\"#9e0142\",\"#9e0142\",\"#9e0142\",\"#fee08b\",\"#fee08b\",\"#e6f598\",\"#e6f598\",\"#f46d43\",\"#f46d43\",\"#f46d43\",\"#f46d43\",\"#fee08b\",\"#9e0142\",\"#f46d43\",\"#9e0142\",\"#9e0142\",\"#f46d43\",\"#fee08b\",\"#e6f598\",\"#9e0142\",\"#f46d43\",\"#66c2a5\",\"#66c2a5\",\"#fee08b\",\"#fee08b\",\"#f46d43\",\"#f46d43\",\"#f46d43\",\"#e6f598\",\"#e6f598\",\"#f46d43\",\"#fee08b\",\"#f46d43\",\"#f46d43\",\"#66c2a5\",\"#e6f598\",\"#fee08b\",\"#fee08b\",\"#fee08b\",\"#f46d43\",\"#f46d43\",\"#f46d43\",\"#f46d43\",\"#e6f598\",\"#e6f598\",\"#e6f598\",\"#e6f598\",\"#e6f598\",\"#e6f598\",\"#e6f598\",\"#e6f598\",\"#e6f598\",\"#e6f598\",\"#e6f598\",\"#e6f598\",\"#e6f598\",\"#e6f598\"],\"shape\":[245],\"dtype\":\"object\",\"order\":\"little\"}],[\"genre\",{\"type\":\"ndarray\",\"array\":[\"soul\",\"funk\",\"soul\",\"soul\",\"funk\",\"hiphop\",\"rock\",\"soul\",\"funk\",\"funk\",\"funk\",\"latin\",\"latin\",\"funk\",\"rock\",\"funk\",\"latin\",\"funk\",\"latin\",\"jazz\",\"jazz\",\"jazz\",\"jazz\",\"jazz\",\"jazz\",\"rock\",\"jazz\",\"jazz\",\"jazz\",\"jazz\",\"latin\",\"rock\",\"rock\",\"rock\",\"rock\",\"latin\",\"latin\",\"jazz\",\"jazz\",\"jazz\",\"funk\",\"rock\",\"rock\",\"latin\",\"rock\",\"rock\",\"funk\",\"funk\",\"rock\",\"jazz\",\"rock\",\"jazz\",\"jazz\",\"rock\",\"rock\",\"jazz\",\"jazz\",\"jazz\",\"jazz\",\"jazz\",\"jazz\",\"jazz\",\"rock\",\"rock\",\"rock\",\"jazz\",\"jazz\",\"rock\",\"jazz\",\"rock\",\"rock\",\"jazz\",\"rock\",\"rock\",\"rock\",\"rock\",\"hiphop\",\"hiphop\",\"rock\",\"rock\",\"rock\",\"jazz\",\"jazz\",\"latin\",\"soul\",\"funk\",\"soul\",\"soul\",\"funk\",\"hiphop\",\"rock\",\"soul\",\"latin\",\"latin\",\"latin\",\"latin\",\"latin\",\"funk\",\"rock\",\"latin\",\"latin\",\"latin\",\"latin\",\"latin\",\"latin\",\"latin\",\"latin\",\"latin\",\"latin\",\"soul\",\"rock\",\"rock\",\"rock\",\"latin\",\"latin\",\"latin\",\"latin\",\"latin\",\"latin\",\"latin\",\"latin\",\"latin\",\"latin\",\"latin\",\"rock\",\"rock\",\"rock\",\"rock\",\"rock\",\"rock\",\"rock\",\"rock\",\"rock\",\"rock\",\"rock\",\"rock\",\"rock\",\"rock\",\"soul\",\"funk\",\"soul\",\"soul\",\"funk\",\"hiphop\",\"rock\",\"soul\",\"rock\",\"rock\",\"rock\",\"funk\",\"funk\",\"jazz\",\"jazz\",\"hiphop\",\"hiphop\",\"rock\",\"rock\",\"rock\",\"rock\",\"soul\",\"soul\",\"jazz\",\"jazz\",\"jazz\",\"hiphop\",\"rock\",\"rock\",\"rock\",\"rock\",\"rock\",\"rock\",\"rock\",\"rock\",\"soul\",\"rock\",\"rock\",\"funk\",\"rock\",\"hiphop\",\"rock\",\"rock\",\"hiphop\",\"rock\",\"rock\",\"rock\",\"rock\",\"soul\",\"soul\",\"soul\",\"soul\",\"soul\",\"hiphop\",\"hiphop\",\"rock\",\"rock\",\"funk\",\"funk\",\"funk\",\"funk\",\"hiphop\",\"soul\",\"funk\",\"soul\",\"soul\",\"funk\",\"hiphop\",\"rock\",\"soul\",\"funk\",\"latin\",\"latin\",\"hiphop\",\"hiphop\",\"funk\",\"funk\",\"funk\",\"rock\",\"rock\",\"funk\",\"hiphop\",\"funk\",\"funk\",\"latin\",\"rock\",\"hiphop\",\"hiphop\",\"hiphop\",\"funk\",\"funk\",\"funk\",\"funk\",\"rock\",\"rock\",\"rock\",\"rock\",\"rock\",\"rock\",\"rock\",\"rock\",\"rock\",\"rock\",\"rock\",\"rock\",\"rock\",\"rock\"],\"shape\":[245],\"dtype\":\"object\",\"order\":\"little\"}],[\"style\",{\"type\":\"ndarray\",\"array\":[\"soul/groove10\",\"funk/groove2\",\"soul/groove3\",\"soul/groove4\",\"funk/groove5\",\"hiphop/groove6\",\"rock/groove8\",\"soul/groove9\",\"funk\",\"funk\",\"funk/fast\",\"latin/brazilian-baiao\",\"latin/brazilian-baiao\",\"funk\",\"rock/halftime\",\"funk/purdieshuffle\",\"latin/samba\",\"funk\",\"latin/samba\",\"jazz/funk\",\"jazz\",\"jazz\",\"jazz\",\"jazz/funk\",\"jazz\",\"rock/shuffle\",\"jazz\",\"jazz\",\"jazz/mediumfast\",\"jazz/fast\",\"latin/reggaeton\",\"rock/prog\",\"rock/prog\",\"rock\",\"rock\",\"latin/chacarera\",\"latin/chacarera\",\"jazz/march\",\"jazz/march\",\"jazz/march\",\"funk/rock\",\"rock/prog\",\"rock/folk\",\"latin/bomba\",\"rock\",\"rock\",\"funk\",\"funk\",\"rock\",\"jazz/swing\",\"rock/rockabilly\",\"jazz/linear\",\"jazz/linear\",\"rock\",\"rock\",\"jazz/swing\",\"jazz/swing\",\"jazz/swing\",\"jazz/swing\",\"jazz/swing\",\"jazz/swing\",\"jazz/swing\",\"rock\",\"rock\",\"rock\",\"jazz\",\"jazz\",\"rock\",\"jazz\",\"rock\",\"rock\",\"jazz\",\"rock\",\"rock\",\"rock\",\"rock\",\"hiphop\",\"hiphop\",\"rock\",\"rock\",\"rock\",\"jazz\",\"jazz/klezmer\",\"latin/brazilian\",\"soul/groove10\",\"funk/groove2\",\"soul/groove3\",\"soul/groove4\",\"funk/groove5\",\"hiphop/groove6\",\"rock/groove8\",\"soul/groove9\",\"latin/brazilian-bossa\",\"latin/brazilian-sambareggae\",\"latin/brazilian-sambareggae\",\"latin/brazilian-sambareggae\",\"latin/brazilian-songo\",\"funk\",\"rock\",\"latin/brazilian-bossa\",\"latin/brazilian-baiao\",\"latin/brazilian-samba\",\"latin/brazilian-samba\",\"latin/brazilian-samba\",\"latin/brazilian-maracatu\",\"latin/brazilian-maracatu\",\"latin/venezuelan-merengue\",\"latin/dominican-merengue\",\"latin/venezuelan-sangueo\",\"soul\",\"rock\",\"rock\",\"rock\",\"latin/venezuelan-joropo\",\"latin/brazilian-samba\",\"latin/brazilian-samba\",\"latin/brazilian-ijexa\",\"latin/brazilian\",\"latin/brazilian-ijexa\",\"latin/brazilian-ijexa\",\"latin/brazilian-frevo\",\"latin/brazilian-songo\",\"latin/brazilian-songo\",\"latin/brazilian\",\"rock\",\"rock\",\"rock\",\"rock\",\"rock\",\"rock\",\"rock\",\"rock\",\"rock\",\"rock\",\"rock\",\"rock\",\"rock\",\"rock\",\"soul/groove10\",\"funk/groove2\",\"soul/groove3\",\"soul/groove4\",\"funk/groove5\",\"hiphop/groove6\",\"rock/groove8\",\"soul/groove9\",\"rock\",\"rock\",\"rock\",\"funk\",\"funk\",\"jazz\",\"jazz\",\"hiphop\",\"hiphop\",\"rock\",\"rock\",\"rock\",\"rock\",\"soul/motown\",\"soul/motown\",\"jazz/fusion\",\"jazz/fusion\",\"jazz/fusion\",\"hiphop\",\"rock\",\"rock\",\"rock\",\"rock\",\"rock\",\"rock\",\"rock\",\"rock\",\"soul/motown\",\"rock\",\"rock\",\"funk\",\"rock\",\"hiphop\",\"rock\",\"rock\",\"hiphop\",\"rock\",\"rock\",\"rock\",\"rock\",\"soul\",\"soul\",\"soul\",\"soul\",\"soul\",\"hiphop\",\"hiphop\",\"rock/indie\",\"rock/indie\",\"funk\",\"funk\",\"funk\",\"funk\",\"hiphop\",\"soul/groove10\",\"funk/groove2\",\"soul/groove3\",\"soul/groove4\",\"funk/groove5\",\"hiphop/groove6\",\"rock/groove8\",\"soul/groove9\",\"funk\",\"latin\",\"latin\",\"hiphop\",\"hiphop\",\"funk\",\"funk\",\"funk\",\"rock/shuffle\",\"rock/shuffle\",\"funk\",\"hiphop\",\"funk/latin\",\"funk/latin\",\"latin\",\"rock\",\"hiphop\",\"hiphop\",\"hiphop\",\"funk\",\"funk\",\"funk\",\"funk\",\"rock\",\"rock\",\"rock\",\"rock\",\"rock\",\"rock\",\"rock\",\"rock\",\"rock\",\"rock\",\"rock\",\"rock\",\"rock\",\"rock\"],\"shape\":[245],\"dtype\":\"object\",\"order\":\"little\"}],[\"audio_filename\",{\"type\":\"ndarray\",\"array\":[\"drummer1/eval_session/10_soul-groove10_102_beat_4-4.wav\",\"drummer1/eval_session/2_funk-groove2_105_beat_4-4.wav\",\"drummer1/eval_session/3_soul-groove3_86_beat_4-4.wav\",\"drummer1/eval_session/4_soul-groove4_80_beat_4-4.wav\",\"drummer1/eval_session/5_funk-groove5_84_beat_4-4.wav\",\"drummer1/eval_session/6_hiphop-groove6_87_beat_4-4.wav\",\"drummer1/eval_session/8_rock-groove8_65_beat_4-4.wav\",\"drummer1/eval_session/9_soul-groove9_105_beat_4-4.wav\",\"drummer1/session1/1_funk_80_beat_4-4.wav\",\"drummer1/session1/102_funk_95_beat_4-4.wav\",\"drummer1/session1/126_funk-fast_125_beat_4-4.wav\",\"drummer1/session1/145_latin-brazilian-baiao_95_beat_4-4.wav\",\"drummer1/session1/146_latin-brazilian-baiao_95_beat_4-4.wav\",\"drummer1/session1/2_funk_80_beat_4-4.wav\",\"drummer1/session1/202_rock-halftime_140_beat_4-4.wav\",\"drummer1/session1/239_funk-purdieshuffle_130_beat_4-4.wav\",\"drummer1/session1/28_latin-samba_116_beat_4-4.wav\",\"drummer1/session1/3_funk_80_beat_4-4.wav\",\"drummer1/session1/38_latin-samba_116_beat_4-4.wav\",\"drummer1/session1/4_jazz-funk_116_beat_4-4.wav\",\"drummer1/session1/47_jazz_102_beat_4-4.wav\",\"drummer1/session1/48_jazz_93_beat_4-4.wav\",\"drummer1/session1/49_jazz_125_beat_4-4.wav\",\"drummer1/session1/5_jazz-funk_116_beat_4-4.wav\",\"drummer1/session1/50_jazz_125_beat_4-4.wav\",\"drummer1/session1/51_rock-shuffle_125_beat_4-4.wav\",\"drummer1/session1/52_jazz_125_beat_4-4.wav\",\"drummer1/session1/75_jazz_125_beat_4-4.wav\",\"drummer1/session1/77_jazz-mediumfast_180_beat_4-4.wav\",\"drummer1/session1/78_jazz-fast_290_beat_4-4.wav\",\"drummer1/session1/79_latin-reggaeton_90_beat_4-4.wav\",\"drummer1/session2/110_rock-prog_190_beat_4-4.wav\",\"drummer1/session2/111_rock-prog_110_beat_5-4.wav\",\"drummer1/session2/180_rock_50_beat_4-4.wav\",\"drummer1/session2/181_rock_115_beat_4-4.wav\",\"drummer1/session2/2_latin-chacarera_118_beat_4-4.wav\",\"drummer1/session2/3_latin-chacarera_118_beat_4-4.wav\",\"drummer1/session2/7_jazz-march_88_beat_4-4.wav\",\"drummer1/session2/8_jazz-march_176_beat_4-4.wav\",\"drummer1/session2/9_jazz-march_120_beat_4-4.wav\",\"drummer1/session2/90_funk-rock_92_beat_4-4.wav\",\"drummer1/session3/1_rock-prog_125_beat_4-4.wav\",\"drummer1/session3/10_rock-folk_90_beat_4-4.wav\",\"drummer1/session3/12_latin-bomba_96_beat_4-4.wav\",\"drummer1/session3/13_rock_115_beat_4-4.wav\",\"drummer1/session3/14_rock_94_beat_4-4.wav\",\"drummer1/session3/15_funk_117_beat_4-4.wav\",\"drummer1/session3/16_funk_117_beat_4-4.wav\",\"drummer1/session3/18_rock_128_beat_4-4.wav\",\"drummer1/session3/2_jazz-swing_185_beat_4-4.wav\",\"drummer1/session3/3_rock-rockabilly_200_beat_4-4.wav\",\"drummer1/session3/4_jazz-linear_182_beat_4-4.wav\",\"drummer1/session3/5_jazz-linear_128_beat_4-4.wav\",\"drummer1/session3/8_rock_135_beat_4-4.wav\",\"drummer1/session3/9_rock_135_beat_4-4.wav\",\"drummer10/session1/1_jazz-swing_124_beat_4-4.wav\",\"drummer10/session1/10_jazz-swing_110_beat_4-4.wav\",\"drummer10/session1/2_jazz-swing_215_beat_4-4.wav\",\"drummer10/session1/3_jazz-swing_215_beat_4-4.wav\",\"drummer10/session1/4_jazz-swing_215_beat_4-4.wav\",\"drummer10/session1/5_jazz-swing_215_beat_4-4.wav\",\"drummer10/session1/9_jazz-swing_110_beat_4-4.wav\",\"drummer3/session1/1_rock_105_beat_4-4.wav\",\"drummer3/session1/12_rock_120_beat_4-4.wav\",\"drummer3/session1/13_rock_120_beat_4-4.wav\",\"drummer3/session1/15_jazz_120_beat_4-4.wav\",\"drummer3/session1/16_jazz_120_beat_4-4.wav\",\"drummer3/session1/18_rock_120_beat_4-4.wav\",\"drummer3/session1/22_jazz_120_beat_4-4.wav\",\"drummer3/session1/35_rock_120_beat_4-4.wav\",\"drummer3/session1/7_rock_105_beat_4-4.wav\",\"drummer3/session1/8_jazz_105_beat_4-4.wav\",\"drummer3/session1/9_rock_105_beat_4-4.wav\",\"drummer3/session2/16_rock_100_beat_4-4.wav\",\"drummer3/session2/20_rock_92_beat_4-4.wav\",\"drummer3/session2/24_rock_92_beat_4-4.wav\",\"drummer3/session2/25_hiphop_92_beat_4-4.wav\",\"drummer3/session2/26_hiphop_92_beat_4-4.wav\",\"drummer3/session2/43_rock_110_beat_4-4.wav\",\"drummer3/session2/5_rock_100_beat_4-4.wav\",\"drummer4/session1/1_rock_87_beat_4-4.wav\",\"drummer4/session1/2_jazz_158_beat_4-4.wav\",\"drummer4/session1/3_jazz-klezmer_152_beat_4-4.wav\",\"drummer4/session1/5_latin-brazilian_184_beat_4-4.wav\",\"drummer5/eval_session/10_soul-groove10_102_beat_4-4.wav\",\"drummer5/eval_session/2_funk-groove2_105_beat_4-4.wav\",\"drummer5/eval_session/3_soul-groove3_86_beat_4-4.wav\",\"drummer5/eval_session/4_soul-groove4_80_beat_4-4.wav\",\"drummer5/eval_session/5_funk-groove5_84_beat_4-4.wav\",\"drummer5/eval_session/6_hiphop-groove6_87_beat_4-4.wav\",\"drummer5/eval_session/8_rock-groove8_65_beat_4-4.wav\",\"drummer5/eval_session/9_soul-groove9_105_beat_4-4.wav\",\"drummer5/session1/1_latin-brazilian-bossa_127_beat_4-4.wav\",\"drummer5/session1/10_latin-brazilian-sambareggae_96_beat_4-4.wav\",\"drummer5/session1/11_latin-brazilian-sambareggae_96_beat_4-4.wav\",\"drummer5/session1/12_latin-brazilian-sambareggae_96_beat_4-4.wav\",\"drummer5/session1/14_latin-brazilian-songo_112_beat_4-4.wav\",\"drummer5/session1/15_funk_100_beat_4-4.wav\",\"drummer5/session1/16_rock_136_beat_4-4.wav\",\"drummer5/session1/2_latin-brazilian-bossa_127_beat_4-4.wav\",\"drummer5/session1/20_latin-brazilian-baiao_110_beat_4-4.wav\",\"drummer5/session1/3_latin-brazilian-samba_89_beat_4-4.wav\",\"drummer5/session1/4_latin-brazilian-samba_89_beat_4-4.wav\",\"drummer5/session1/5_latin-brazilian-samba_89_beat_4-4.wav\",\"drummer5/session1/6_latin-brazilian-maracatu_96_beat_4-4.wav\",\"drummer5/session1/7_latin-brazilian-maracatu_96_beat_4-4.wav\",\"drummer5/session1/8_latin-venezuelan-merengue_162_beat_5-8.wav\",\"drummer5/session1/9_latin-dominican-merengue_130_beat_4-4.wav\",\"drummer5/session2/1_latin-venezuelan-sangueo_101_beat_4-4.wav\",\"drummer5/session2/11_soul_96_beat_4-4.wav\",\"drummer5/session2/12_rock_105_beat_4-4.wav\",\"drummer5/session2/13_rock_140_beat_4-4.wav\",\"drummer5/session2/14_rock_140_beat_4-4.wav\",\"drummer5/session2/15_latin-venezuelan-joropo_80_beat_4-4.wav\",\"drummer5/session2/17_latin-brazilian-samba_110_beat_4-4.wav\",\"drummer5/session2/18_latin-brazilian-samba_93_beat_4-4.wav\",\"drummer5/session2/19_latin-brazilian-ijexa_108_beat_4-4.wav\",\"drummer5/session2/2_latin-brazilian_101_beat_4-4.wav\",\"drummer5/session2/20_latin-brazilian-ijexa_108_beat_4-4.wav\",\"drummer5/session2/21_latin-brazilian-ijexa_108_beat_4-4.wav\",\"drummer5/session2/22_latin-brazilian-frevo_133_beat_4-4.wav\",\"drummer5/session2/23_latin-brazilian-songo_120_beat_4-4.wav\",\"drummer5/session2/24_latin-brazilian-songo_120_beat_4-4.wav\",\"drummer5/session2/3_latin-brazilian_101_beat_4-4.wav\",\"drummer6/session1/1_rock_70_beat_6-8.wav\",\"drummer6/session1/2_rock_70_beat_6-8.wav\",\"drummer6/session1/4_rock_80_beat_6-8.wav\",\"drummer6/session1/5_rock_60_beat_6-8.wav\",\"drummer6/session2/1_rock_95_beat_4-4.wav\",\"drummer6/session2/2_rock_95_beat_4-4.wav\",\"drummer6/session2/3_rock_88_beat_4-4.wav\",\"drummer6/session3/1_rock_90_beat_4-4.wav\",\"drummer6/session3/2_rock_100_beat_4-4.wav\",\"drummer6/session3/3_rock_100_beat_4-4.wav\",\"drummer6/session3/4_rock_127_beat_4-4.wav\",\"drummer6/session3/5_rock_180_beat_4-4.wav\",\"drummer6/session3/6_rock_88_beat_4-4.wav\",\"drummer6/session3/7_rock_88_beat_4-4.wav\",\"drummer7/eval_session/10_soul-groove10_102_beat_4-4.wav\",\"drummer7/eval_session/2_funk-groove2_105_beat_4-4.wav\",\"drummer7/eval_session/3_soul-groove3_86_beat_4-4.wav\",\"drummer7/eval_session/4_soul-groove4_80_beat_4-4.wav\",\"drummer7/eval_session/5_funk-groove5_84_beat_4-4.wav\",\"drummer7/eval_session/6_hiphop-groove6_87_beat_4-4.wav\",\"drummer7/eval_session/8_rock-groove8_65_beat_4-4.wav\",\"drummer7/eval_session/9_soul-groove9_105_beat_4-4.wav\",\"drummer7/session1/1_rock_86_beat_4-4.wav\",\"drummer7/session1/10_rock_93_beat_4-4.wav\",\"drummer7/session1/11_rock_93_beat_4-4.wav\",\"drummer7/session1/12_funk_102_beat_4-4.wav\",\"drummer7/session1/13_funk_102_beat_4-4.wav\",\"drummer7/session1/14_jazz_100_beat_4-4.wav\",\"drummer7/session1/15_jazz_112_beat_4-4.wav\",\"drummer7/session1/16_hiphop_100_beat_4-4.wav\",\"drummer7/session1/17_hiphop_100_beat_4-4.wav\",\"drummer7/session1/7_rock_93_beat_4-4.wav\",\"drummer7/session1/8_rock_93_beat_4-4.wav\",\"drummer7/session1/9_rock_93_beat_4-4.wav\",\"drummer7/session2/1_rock_120_beat_4-4.wav\",\"drummer7/session2/106_soul-motown_104_beat_4-4.wav\",\"drummer7/session2/108_soul-motown_104_beat_4-4.wav\",\"drummer7/session2/112_jazz-fusion_96_beat_4-4.wav\",\"drummer7/session2/113_jazz-fusion_96_beat_4-4.wav\",\"drummer7/session2/115_jazz-fusion_96_beat_4-4.wav\",\"drummer7/session2/123_hiphop_140_beat_4-4.wav\",\"drummer7/session2/14_rock_95_beat_4-4.wav\",\"drummer7/session2/15_rock_118_beat_4-4.wav\",\"drummer7/session2/26_rock_118_beat_4-4.wav\",\"drummer7/session2/27_rock_75_beat_4-4.wav\",\"drummer7/session2/29_rock_75_beat_4-4.wav\",\"drummer7/session2/37_rock_112_beat_4-4.wav\",\"drummer7/session2/45_rock_135_beat_4-4.wav\",\"drummer7/session2/46_rock_135_beat_4-4.wav\",\"drummer7/session2/54_soul-motown_148_beat_4-4.wav\",\"drummer7/session2/6_rock_120_beat_4-4.wav\",\"drummer7/session2/64_rock_145_beat_4-4.wav\",\"drummer7/session2/72_funk_100_beat_4-4.wav\",\"drummer7/session2/8_rock_95_beat_4-4.wav\",\"drummer7/session2/87_hiphop_75_beat_4-4.wav\",\"drummer7/session3/1_rock_60_beat_4-4.wav\",\"drummer7/session3/10_rock_60_beat_4-4.wav\",\"drummer7/session3/106_hiphop_70_beat_4-4.wav\",\"drummer7/session3/108_rock_95_beat_4-4.wav\",\"drummer7/session3/109_rock_95_beat_4-4.wav\",\"drummer7/session3/120_rock_93_beat_4-4.wav\",\"drummer7/session3/129_rock_93_beat_4-4.wav\",\"drummer7/session3/131_soul_105_beat_4-4.wav\",\"drummer7/session3/132_soul_105_beat_4-4.wav\",\"drummer7/session3/133_soul_105_beat_4-4.wav\",\"drummer7/session3/150_soul_105_beat_4-4.wav\",\"drummer7/session3/151_soul_98_beat_4-4.wav\",\"drummer7/session3/24_hiphop_67_beat_4-4.wav\",\"drummer7/session3/38_hiphop_67_beat_4-4.wav\",\"drummer7/session3/39_rock-indie_63_beat_4-4.wav\",\"drummer7/session3/46_rock-indie_63_beat_4-4.wav\",\"drummer7/session3/47_funk_112_beat_4-4.wav\",\"drummer7/session3/49_funk_112_beat_4-4.wav\",\"drummer7/session3/64_funk_112_beat_4-4.wav\",\"drummer7/session3/65_funk_112_beat_4-4.wav\",\"drummer7/session3/92_hiphop_70_beat_4-4.wav\",\"drummer8/eval_session/10_soul-groove10_102_beat_4-4.wav\",\"drummer8/eval_session/2_funk-groove2_105_beat_4-4.wav\",\"drummer8/eval_session/3_soul-groove3_86_beat_4-4.wav\",\"drummer8/eval_session/4_soul-groove4_80_beat_4-4.wav\",\"drummer8/eval_session/5_funk-groove5_84_beat_4-4.wav\",\"drummer8/eval_session/6_hiphop-groove6_87_beat_4-4.wav\",\"drummer8/eval_session/8_rock-groove8_65_beat_4-4.wav\",\"drummer8/eval_session/9_soul-groove9_105_beat_4-4.wav\",\"drummer8/session1/1_funk_95_beat_4-4.wav\",\"drummer8/session1/12_latin_118_beat_4-4.wav\",\"drummer8/session1/13_latin_118_beat_4-4.wav\",\"drummer8/session1/14_hiphop_94_beat_4-4.wav\",\"drummer8/session1/15_hiphop_94_beat_4-4.wav\",\"drummer8/session1/18_funk_108_beat_4-4.wav\",\"drummer8/session1/19_funk_108_beat_4-4.wav\",\"drummer8/session1/2_funk_95_beat_4-4.wav\",\"drummer8/session1/20_rock-shuffle_112_beat_4-4.wav\",\"drummer8/session1/21_rock-shuffle_112_beat_4-4.wav\",\"drummer8/session1/22_funk_115_beat_4-4.wav\",\"drummer8/session1/23_hiphop_70_beat_4-4.wav\",\"drummer8/session1/24_funk-latin_100_beat_4-4.wav\",\"drummer8/session1/25_funk-latin_100_beat_4-4.wav\",\"drummer8/session1/27_latin_122_beat_4-4.wav\",\"drummer8/session1/28_rock_102_beat_4-4.wav\",\"drummer8/session1/3_hiphop_90_beat_4-4.wav\",\"drummer8/session1/4_hiphop_90_beat_4-4.wav\",\"drummer8/session1/5_hiphop_90_beat_4-4.wav\",\"drummer8/session1/6_funk_80_beat_4-4.wav\",\"drummer8/session1/7_funk_80_beat_4-4.wav\",\"drummer8/session1/8_funk_96_beat_4-4.wav\",\"drummer8/session1/9_funk_96_beat_4-4.wav\",\"drummer9/session1/1_rock_100_beat_4-4.wav\",\"drummer9/session1/13_rock_120_beat_4-4.wav\",\"drummer9/session1/14_rock_120_beat_4-4.wav\",\"drummer9/session1/19_rock_120_beat_4-4.wav\",\"drummer9/session1/2_rock_100_beat_4-4.wav\",\"drummer9/session1/20_rock_120_beat_4-4.wav\",\"drummer9/session1/22_rock_120_beat_4-4.wav\",\"drummer9/session1/23_rock_120_beat_4-4.wav\",\"drummer9/session1/24_rock_90_beat_4-4.wav\",\"drummer9/session1/25_rock_90_beat_4-4.wav\",\"drummer9/session1/26_rock_90_beat_4-4.wav\",\"drummer9/session1/28_rock_90_beat_4-4.wav\",\"drummer9/session1/3_rock_100_beat_4-4.wav\",\"drummer9/session1/5_rock_100_beat_4-4.wav\"],\"shape\":[245],\"dtype\":\"object\",\"order\":\"little\"}],[\"duration\",{\"type\":\"ndarray\",\"array\":{\"type\":\"bytes\",\"data\":\"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\"},\"shape\":[245],\"dtype\":\"float64\",\"order\":\"little\"}],[\"alpha\",{\"type\":\"ndarray\",\"array\":{\"type\":\"bytes\",\"data\":\"AQAAAAEAAAABAAAAAQAAAAEAAAABAAAAAQAAAAEAAAABAAAAAQAAAAEAAAABAAAAAQAAAAEAAAABAAAAAQAAAAEAAAABAAAAAQAAAAEAAAABAAAAAQAAAAEAAAABAAAAAQAAAAEAAAABAAAAAQAAAAEAAAABAAAAAQAAAAEAAAABAAAAAQAAAAEAAAABAAAAAQAAAAEAAAABAAAAAQAAAAEAAAABAAAAAQAAAAEAAAABAAAAAQAAAAEAAAABAAAAAQAAAAEAAAABAAAAAQAAAAEAAAABAAAAAQAAAAEAAAABAAAAAQAAAAEAAAABAAAAAQAAAAEAAAABAAAAAQAAAAEAAAABAAAAAQAAAAEAAAABAAAAAQAAAAEAAAABAAAAAQAAAAEAAAABAAAAAQAAAAEAAAABAAAAAQAAAAEAAAABAAAAAQAAAAEAAAABAAAAAQAAAAEAAAABAAAAAQAAAAEAAAABAAAAAQAAAAEAAAABAAAAAQAAAAEAAAABAAAAAQAAAAEAAAABAAAAAQAAAAEAAAABAAAAAQAAAAEAAAABAAAAAQAAAAEAAAABAAAAAQAAAAEAAAABAAAAAQAAAAEAAAABAAAAAQAAAAEAAAABAAAAAQAAAAEAAAABAAAAAQAAAAEAAAABAAAAAQAAAAEAAAABAAAAAQAAAAEAAAABAAAAAQAAAAEAAAABAAAAAQAAAAEAAAABAAAAAQAAAAEAAAABAAAAAQAAAAEAAAABAAAAAQAAAAEAAAABAAAAAQAAAAEAAAABAAAAAQAAAAEAAAABAAAAAQAAAAEAAAABAAAAAQAAAAEAAAABAAAAAQAAAAEAAAABAAAAAQAAAAEAAAABAAAAAQAAAAEAAAABAAAAAQAAAAEAAAABAAAAAQAAAAEAAAABAAAAAQAAAAEAAAABAAAAAQAAAAEAAAABAAAAAQAAAAEAAAABAAAAAQAAAAEAAAABAAAAAQAAAAEAAAABAAAAAQAAAAEAAAABAAAAAQAAAAEAAAABAAAAAQAAAAEAAAABAAAAAQAAAAEAAAABAAAAAQAAAAEAAAABAAAAAQAAAAEAAAABAAAAAQAAAAEAAAABAAAAAQAAAAEAAAABAAAAAQAAAAEAAAABAAAAAQAAAAEAAAABAAAAAQAAAAEAAAABAAAAAQAAAAEAAAABAAAAAQAAAAEAAAABAAAAAQAAAAEAAAABAAAAAQAAAAEAAAABAAAAAQAAAAEAAAABAAAAAQAAAAEAAAABAAAAAQAAAAEAAAABAAAAAQAAAAEAAAABAAAAAQAAAAEAAAA=\"},\"shape\":[245],\"dtype\":\"int32\",\"order\":\"little\"}]]}}},\"view\":{\"type\":\"object\",\"name\":\"CDSView\",\"id\":\"p1157\",\"attributes\":{\"filter\":{\"type\":\"object\",\"name\":\"AllIndices\",\"id\":\"p1158\"}}},\"glyph\":{\"type\":\"object\",\"name\":\"Scatter\",\"id\":\"p1153\",\"attributes\":{\"x\":{\"type\":\"field\",\"field\":\"x\"},\"y\":{\"type\":\"field\",\"field\":\"y\"},\"size\":{\"type\":\"value\",\"value\":3},\"line_color\":{\"type\":\"field\",\"field\":\"color\"},\"line_alpha\":{\"type\":\"field\",\"field\":\"alpha\"},\"fill_color\":{\"type\":\"field\",\"field\":\"color\"},\"fill_alpha\":{\"type\":\"field\",\"field\":\"alpha\"},\"hatch_color\":{\"type\":\"field\",\"field\":\"color\"},\"hatch_alpha\":{\"type\":\"field\",\"field\":\"alpha\"}}},\"nonselection_glyph\":{\"type\":\"object\",\"name\":\"Scatter\",\"id\":\"p1154\",\"attributes\":{\"x\":{\"type\":\"field\",\"field\":\"x\"},\"y\":{\"type\":\"field\",\"field\":\"y\"},\"size\":{\"type\":\"value\",\"value\":3},\"line_color\":{\"type\":\"field\",\"field\":\"color\"},\"line_alpha\":{\"type\":\"value\",\"value\":0.1},\"fill_color\":{\"type\":\"field\",\"field\":\"color\"},\"fill_alpha\":{\"type\":\"value\",\"value\":0.1},\"hatch_color\":{\"type\":\"field\",\"field\":\"color\"},\"hatch_alpha\":{\"type\":\"value\",\"value\":0.1}}},\"muted_glyph\":{\"type\":\"object\",\"name\":\"Scatter\",\"id\":\"p1155\",\"attributes\":{\"x\":{\"type\":\"field\",\"field\":\"x\"},\"y\":{\"type\":\"field\",\"field\":\"y\"},\"size\":{\"type\":\"value\",\"value\":3},\"line_color\":{\"type\":\"field\",\"field\":\"color\"},\"line_alpha\":{\"type\":\"value\",\"value\":0.2},\"fill_color\":{\"type\":\"field\",\"field\":\"color\"},\"fill_alpha\":{\"type\":\"value\",\"value\":0.2},\"hatch_color\":{\"type\":\"field\",\"field\":\"color\"},\"hatch_alpha\":{\"type\":\"value\",\"value\":0.2}}}}}],\"toolbar\":{\"type\":\"object\",\"name\":\"Toolbar\",\"id\":\"p1125\",\"attributes\":{\"tools\":[{\"type\":\"object\",\"name\":\"PanTool\",\"id\":\"p1138\"},{\"type\":\"object\",\"name\":\"WheelZoomTool\",\"id\":\"p1139\",\"attributes\":{\"renderers\":\"auto\"}},{\"type\":\"object\",\"name\":\"BoxZoomTool\",\"id\":\"p1140\",\"attributes\":{\"overlay\":{\"type\":\"object\",\"name\":\"BoxAnnotation\",\"id\":\"p1141\",\"attributes\":{\"syncable\":false,\"level\":\"overlay\",\"visible\":false,\"left\":{\"type\":\"number\",\"value\":\"nan\"},\"right\":{\"type\":\"number\",\"value\":\"nan\"},\"top\":{\"type\":\"number\",\"value\":\"nan\"},\"bottom\":{\"type\":\"number\",\"value\":\"nan\"},\"left_units\":\"canvas\",\"right_units\":\"canvas\",\"top_units\":\"canvas\",\"bottom_units\":\"canvas\",\"line_color\":\"black\",\"line_alpha\":1.0,\"line_width\":2,\"line_dash\":[4,4],\"fill_color\":\"lightgrey\",\"fill_alpha\":0.5}}}},{\"type\":\"object\",\"name\":\"SaveTool\",\"id\":\"p1146\"},{\"type\":\"object\",\"name\":\"ResetTool\",\"id\":\"p1147\"},{\"type\":\"object\",\"name\":\"HelpTool\",\"id\":\"p1148\"},{\"type\":\"object\",\"name\":\"HoverTool\",\"id\":\"p1149\",\"attributes\":{\"renderers\":\"auto\",\"tooltips\":[[\"genre\",\"@{genre}\"],[\"style\",\"@{style}\"],[\"audio_filename\",\"@{audio_filename}\"],[\"duration\",\"@{duration}\"]]}}]}},\"left\":[{\"type\":\"object\",\"name\":\"LinearAxis\",\"id\":\"p1133\",\"attributes\":{\"visible\":false,\"ticker\":{\"type\":\"object\",\"name\":\"BasicTicker\",\"id\":\"p1134\",\"attributes\":{\"mantissas\":[1,2,5]}},\"formatter\":{\"type\":\"object\",\"name\":\"BasicTickFormatter\",\"id\":\"p1135\"},\"major_label_policy\":{\"type\":\"object\",\"name\":\"AllLabels\",\"id\":\"p1136\"}}}],\"below\":[{\"type\":\"object\",\"name\":\"LinearAxis\",\"id\":\"p1128\",\"attributes\":{\"visible\":false,\"ticker\":{\"type\":\"object\",\"name\":\"BasicTicker\",\"id\":\"p1129\",\"attributes\":{\"mantissas\":[1,2,5]}},\"formatter\":{\"type\":\"object\",\"name\":\"BasicTickFormatter\",\"id\":\"p1130\"},\"major_label_policy\":{\"type\":\"object\",\"name\":\"AllLabels\",\"id\":\"p1131\"}}}],\"center\":[{\"type\":\"object\",\"name\":\"Grid\",\"id\":\"p1132\",\"attributes\":{\"visible\":false,\"axis\":{\"id\":\"p1128\"}}},{\"type\":\"object\",\"name\":\"Grid\",\"id\":\"p1137\",\"attributes\":{\"visible\":false,\"dimension\":1,\"axis\":{\"id\":\"p1133\"}}}],\"background_fill_color\":\"white\"}}],\"defs\":[{\"type\":\"model\",\"name\":\"ReactiveHTML1\"},{\"type\":\"model\",\"name\":\"FlexBox1\",\"properties\":[{\"name\":\"align_content\",\"kind\":\"Any\",\"default\":\"flex-start\"},{\"name\":\"align_items\",\"kind\":\"Any\",\"default\":\"flex-start\"},{\"name\":\"flex_direction\",\"kind\":\"Any\",\"default\":\"row\"},{\"name\":\"flex_wrap\",\"kind\":\"Any\",\"default\":\"wrap\"},{\"name\":\"gap\",\"kind\":\"Any\",\"default\":\"\"},{\"name\":\"justify_content\",\"kind\":\"Any\",\"default\":\"flex-start\"}]},{\"type\":\"model\",\"name\":\"FloatPanel1\",\"properties\":[{\"name\":\"config\",\"kind\":\"Any\",\"default\":{\"type\":\"map\"}},{\"name\":\"contained\",\"kind\":\"Any\",\"default\":true},{\"name\":\"position\",\"kind\":\"Any\",\"default\":\"right-top\"},{\"name\":\"offsetx\",\"kind\":\"Any\",\"default\":null},{\"name\":\"offsety\",\"kind\":\"Any\",\"default\":null},{\"name\":\"theme\",\"kind\":\"Any\",\"default\":\"primary\"},{\"name\":\"status\",\"kind\":\"Any\",\"default\":\"normalized\"}]},{\"type\":\"model\",\"name\":\"GridStack1\",\"properties\":[{\"name\":\"mode\",\"kind\":\"Any\",\"default\":\"warn\"},{\"name\":\"ncols\",\"kind\":\"Any\",\"default\":null},{\"name\":\"nrows\",\"kind\":\"Any\",\"default\":null},{\"name\":\"allow_resize\",\"kind\":\"Any\",\"default\":true},{\"name\":\"allow_drag\",\"kind\":\"Any\",\"default\":true},{\"name\":\"state\",\"kind\":\"Any\",\"default\":[]}]},{\"type\":\"model\",\"name\":\"drag1\",\"properties\":[{\"name\":\"slider_width\",\"kind\":\"Any\",\"default\":5},{\"name\":\"slider_color\",\"kind\":\"Any\",\"default\":\"black\"},{\"name\":\"value\",\"kind\":\"Any\",\"default\":50}]},{\"type\":\"model\",\"name\":\"click1\",\"properties\":[{\"name\":\"terminal_output\",\"kind\":\"Any\",\"default\":\"\"},{\"name\":\"debug_name\",\"kind\":\"Any\",\"default\":\"\"},{\"name\":\"clears\",\"kind\":\"Any\",\"default\":0}]},{\"type\":\"model\",\"name\":\"FastWrapper1\",\"properties\":[{\"name\":\"object\",\"kind\":\"Any\",\"default\":null},{\"name\":\"style\",\"kind\":\"Any\",\"default\":null}]},{\"type\":\"model\",\"name\":\"NotificationAreaBase1\",\"properties\":[{\"name\":\"js_events\",\"kind\":\"Any\",\"default\":{\"type\":\"map\"}},{\"name\":\"position\",\"kind\":\"Any\",\"default\":\"bottom-right\"},{\"name\":\"_clear\",\"kind\":\"Any\",\"default\":0}]},{\"type\":\"model\",\"name\":\"NotificationArea1\",\"properties\":[{\"name\":\"js_events\",\"kind\":\"Any\",\"default\":{\"type\":\"map\"}},{\"name\":\"notifications\",\"kind\":\"Any\",\"default\":[]},{\"name\":\"position\",\"kind\":\"Any\",\"default\":\"bottom-right\"},{\"name\":\"_clear\",\"kind\":\"Any\",\"default\":0},{\"name\":\"types\",\"kind\":\"Any\",\"default\":[{\"type\":\"map\",\"entries\":[[\"type\",\"warning\"],[\"background\",\"#ffc107\"],[\"icon\",{\"type\":\"map\",\"entries\":[[\"className\",\"fas fa-exclamation-triangle\"],[\"tagName\",\"i\"],[\"color\",\"white\"]]}]]},{\"type\":\"map\",\"entries\":[[\"type\",\"info\"],[\"background\",\"#007bff\"],[\"icon\",{\"type\":\"map\",\"entries\":[[\"className\",\"fas fa-info-circle\"],[\"tagName\",\"i\"],[\"color\",\"white\"]]}]]}]}]},{\"type\":\"model\",\"name\":\"Notification\",\"properties\":[{\"name\":\"background\",\"kind\":\"Any\",\"default\":null},{\"name\":\"duration\",\"kind\":\"Any\",\"default\":3000},{\"name\":\"icon\",\"kind\":\"Any\",\"default\":null},{\"name\":\"message\",\"kind\":\"Any\",\"default\":\"\"},{\"name\":\"notification_type\",\"kind\":\"Any\",\"default\":null},{\"name\":\"_destroyed\",\"kind\":\"Any\",\"default\":false}]},{\"type\":\"model\",\"name\":\"TemplateActions1\",\"properties\":[{\"name\":\"open_modal\",\"kind\":\"Any\",\"default\":0},{\"name\":\"close_modal\",\"kind\":\"Any\",\"default\":0}]},{\"type\":\"model\",\"name\":\"BootstrapTemplateActions1\",\"properties\":[{\"name\":\"open_modal\",\"kind\":\"Any\",\"default\":0},{\"name\":\"close_modal\",\"kind\":\"Any\",\"default\":0}]},{\"type\":\"model\",\"name\":\"TemplateEditor1\",\"properties\":[{\"name\":\"layout\",\"kind\":\"Any\",\"default\":[]}]},{\"type\":\"model\",\"name\":\"MaterialTemplateActions1\",\"properties\":[{\"name\":\"open_modal\",\"kind\":\"Any\",\"default\":0},{\"name\":\"close_modal\",\"kind\":\"Any\",\"default\":0}]},{\"type\":\"model\",\"name\":\"copy_to_clipboard1\",\"properties\":[{\"name\":\"fill\",\"kind\":\"Any\",\"default\":\"none\"},{\"name\":\"value\",\"kind\":\"Any\",\"default\":null}]}]}};\n  const render_items = [{\"docid\":\"c0e0e98f-9c86-492e-9b82-479e4e2e150d\",\"roots\":{\"p1117\":\"d90219e1-755a-49cd-964b-c7003218920c\"},\"root_ids\":[\"p1117\"]}];\n  void root.Bokeh.embed.embed_items_notebook(docs_json, render_items);\n  }\n  if (root.Bokeh !== undefined) {\n    embed_document(root);\n  } else {\n    let attempts = 0;\n    const timer = setInterval(function(root) {\n      if (root.Bokeh !== undefined) {\n        clearInterval(timer);\n        embed_document(root);\n      } else {\n        attempts++;\n        if (attempts > 100) {\n          clearInterval(timer);\n          console.log(\"Bokeh: ERROR: Unable to run BokehJS code because BokehJS library is missing\");\n        }\n      }\n    }, 10, root)\n  }\n})(window);",
      "application/vnd.bokehjs_exec.v0+json": ""
     },
     "metadata": {
      "application/vnd.bokehjs_exec.v0+json": {
       "id": "p1117"
      }
     },
     "output_type": "display_data"
    }
   ],
   "source": [
    "labels = pd.factorize(metadata_beats[\"genre\"])[0]  # integer labels needed for the interactive plot\n",
    "reducer = umap.UMAP(metric=\"cosine\").fit(features)  # reduce dimensionality\n",
    "\n",
    "p = umap.plot.interactive(\n",
    "    reducer, labels=labels, hover_data=metadata_beats, point_size=3,\n",
    ")  # interactive plot, hover_data can be customized\n",
    "\n",
    "umap.plot.output_file(\"groove_midi_beats.html\") # save the plot locally\n",
    "umap.plot.output_notebook() # display inline in notebook\n",
    "umap.plot.show(p)"
   ]
  },
  {
   "cell_type": "markdown",
   "metadata": {},
   "source": [
    "<hr>\n",
    "\n",
    "## Extended Groove Midi"
   ]
  },
  {
   "cell_type": "code",
   "execution_count": 8,
   "metadata": {},
   "outputs": [
    {
     "ename": "FileNotFoundError",
     "evalue": "[Errno 2] No such file or directory: '../datasets/e-gmd-v1.0.0/e-gmd-v1.0.0.csv'",
     "output_type": "error",
     "traceback": [
      "\u001b[0;31m---------------------------------------------------------------------------\u001b[0m",
      "\u001b[0;31mFileNotFoundError\u001b[0m                         Traceback (most recent call last)",
      "Cell \u001b[0;32mIn[8], line 2\u001b[0m\n\u001b[1;32m      1\u001b[0m \u001b[38;5;66;03m# clean metadata\u001b[39;00m\n\u001b[0;32m----> 2\u001b[0m metadata \u001b[38;5;241m=\u001b[39m \u001b[43mpd\u001b[49m\u001b[38;5;241;43m.\u001b[39;49m\u001b[43mread_csv\u001b[49m\u001b[43m(\u001b[49m\n\u001b[1;32m      3\u001b[0m \u001b[43m    \u001b[49m\u001b[38;5;124;43m\"\u001b[39;49m\u001b[38;5;124;43m../datasets/e-gmd-v1.0.0/e-gmd-v1.0.0.csv\u001b[39;49m\u001b[38;5;124;43m\"\u001b[39;49m\n\u001b[1;32m      4\u001b[0m \u001b[43m)\u001b[49m  \u001b[38;5;66;03m# read metadata of extended groove midi\u001b[39;00m\n\u001b[1;32m      6\u001b[0m metadata_beats \u001b[38;5;241m=\u001b[39m metadata[metadata[\u001b[38;5;124m\"\u001b[39m\u001b[38;5;124mbeat_type\u001b[39m\u001b[38;5;124m\"\u001b[39m] \u001b[38;5;241m==\u001b[39m \u001b[38;5;124m\"\u001b[39m\u001b[38;5;124mbeat\u001b[39m\u001b[38;5;124m\"\u001b[39m]  \u001b[38;5;66;03m# select only beats\u001b[39;00m\n\u001b[1;32m      8\u001b[0m metadata_beats \u001b[38;5;241m=\u001b[39m metadata_beats[metadata_beats[\u001b[38;5;124m\"\u001b[39m\u001b[38;5;124mduration\u001b[39m\u001b[38;5;124m\"\u001b[39m] \u001b[38;5;241m>\u001b[39m\u001b[38;5;241m=\u001b[39m \u001b[38;5;241m30\u001b[39m]\n",
      "File \u001b[0;32m~/internship/rythmic-pattern-analysis/.rhythm/lib/python3.11/site-packages/pandas/io/parsers/readers.py:1026\u001b[0m, in \u001b[0;36mread_csv\u001b[0;34m(filepath_or_buffer, sep, delimiter, header, names, index_col, usecols, dtype, engine, converters, true_values, false_values, skipinitialspace, skiprows, skipfooter, nrows, na_values, keep_default_na, na_filter, verbose, skip_blank_lines, parse_dates, infer_datetime_format, keep_date_col, date_parser, date_format, dayfirst, cache_dates, iterator, chunksize, compression, thousands, decimal, lineterminator, quotechar, quoting, doublequote, escapechar, comment, encoding, encoding_errors, dialect, on_bad_lines, delim_whitespace, low_memory, memory_map, float_precision, storage_options, dtype_backend)\u001b[0m\n\u001b[1;32m   1013\u001b[0m kwds_defaults \u001b[38;5;241m=\u001b[39m _refine_defaults_read(\n\u001b[1;32m   1014\u001b[0m     dialect,\n\u001b[1;32m   1015\u001b[0m     delimiter,\n\u001b[0;32m   (...)\u001b[0m\n\u001b[1;32m   1022\u001b[0m     dtype_backend\u001b[38;5;241m=\u001b[39mdtype_backend,\n\u001b[1;32m   1023\u001b[0m )\n\u001b[1;32m   1024\u001b[0m kwds\u001b[38;5;241m.\u001b[39mupdate(kwds_defaults)\n\u001b[0;32m-> 1026\u001b[0m \u001b[38;5;28;01mreturn\u001b[39;00m \u001b[43m_read\u001b[49m\u001b[43m(\u001b[49m\u001b[43mfilepath_or_buffer\u001b[49m\u001b[43m,\u001b[49m\u001b[43m \u001b[49m\u001b[43mkwds\u001b[49m\u001b[43m)\u001b[49m\n",
      "File \u001b[0;32m~/internship/rythmic-pattern-analysis/.rhythm/lib/python3.11/site-packages/pandas/io/parsers/readers.py:620\u001b[0m, in \u001b[0;36m_read\u001b[0;34m(filepath_or_buffer, kwds)\u001b[0m\n\u001b[1;32m    617\u001b[0m _validate_names(kwds\u001b[38;5;241m.\u001b[39mget(\u001b[38;5;124m\"\u001b[39m\u001b[38;5;124mnames\u001b[39m\u001b[38;5;124m\"\u001b[39m, \u001b[38;5;28;01mNone\u001b[39;00m))\n\u001b[1;32m    619\u001b[0m \u001b[38;5;66;03m# Create the parser.\u001b[39;00m\n\u001b[0;32m--> 620\u001b[0m parser \u001b[38;5;241m=\u001b[39m \u001b[43mTextFileReader\u001b[49m\u001b[43m(\u001b[49m\u001b[43mfilepath_or_buffer\u001b[49m\u001b[43m,\u001b[49m\u001b[43m \u001b[49m\u001b[38;5;241;43m*\u001b[39;49m\u001b[38;5;241;43m*\u001b[39;49m\u001b[43mkwds\u001b[49m\u001b[43m)\u001b[49m\n\u001b[1;32m    622\u001b[0m \u001b[38;5;28;01mif\u001b[39;00m chunksize \u001b[38;5;129;01mor\u001b[39;00m iterator:\n\u001b[1;32m    623\u001b[0m     \u001b[38;5;28;01mreturn\u001b[39;00m parser\n",
      "File \u001b[0;32m~/internship/rythmic-pattern-analysis/.rhythm/lib/python3.11/site-packages/pandas/io/parsers/readers.py:1620\u001b[0m, in \u001b[0;36mTextFileReader.__init__\u001b[0;34m(self, f, engine, **kwds)\u001b[0m\n\u001b[1;32m   1617\u001b[0m     \u001b[38;5;28mself\u001b[39m\u001b[38;5;241m.\u001b[39moptions[\u001b[38;5;124m\"\u001b[39m\u001b[38;5;124mhas_index_names\u001b[39m\u001b[38;5;124m\"\u001b[39m] \u001b[38;5;241m=\u001b[39m kwds[\u001b[38;5;124m\"\u001b[39m\u001b[38;5;124mhas_index_names\u001b[39m\u001b[38;5;124m\"\u001b[39m]\n\u001b[1;32m   1619\u001b[0m \u001b[38;5;28mself\u001b[39m\u001b[38;5;241m.\u001b[39mhandles: IOHandles \u001b[38;5;241m|\u001b[39m \u001b[38;5;28;01mNone\u001b[39;00m \u001b[38;5;241m=\u001b[39m \u001b[38;5;28;01mNone\u001b[39;00m\n\u001b[0;32m-> 1620\u001b[0m \u001b[38;5;28mself\u001b[39m\u001b[38;5;241m.\u001b[39m_engine \u001b[38;5;241m=\u001b[39m \u001b[38;5;28;43mself\u001b[39;49m\u001b[38;5;241;43m.\u001b[39;49m\u001b[43m_make_engine\u001b[49m\u001b[43m(\u001b[49m\u001b[43mf\u001b[49m\u001b[43m,\u001b[49m\u001b[43m \u001b[49m\u001b[38;5;28;43mself\u001b[39;49m\u001b[38;5;241;43m.\u001b[39;49m\u001b[43mengine\u001b[49m\u001b[43m)\u001b[49m\n",
      "File \u001b[0;32m~/internship/rythmic-pattern-analysis/.rhythm/lib/python3.11/site-packages/pandas/io/parsers/readers.py:1880\u001b[0m, in \u001b[0;36mTextFileReader._make_engine\u001b[0;34m(self, f, engine)\u001b[0m\n\u001b[1;32m   1878\u001b[0m     \u001b[38;5;28;01mif\u001b[39;00m \u001b[38;5;124m\"\u001b[39m\u001b[38;5;124mb\u001b[39m\u001b[38;5;124m\"\u001b[39m \u001b[38;5;129;01mnot\u001b[39;00m \u001b[38;5;129;01min\u001b[39;00m mode:\n\u001b[1;32m   1879\u001b[0m         mode \u001b[38;5;241m+\u001b[39m\u001b[38;5;241m=\u001b[39m \u001b[38;5;124m\"\u001b[39m\u001b[38;5;124mb\u001b[39m\u001b[38;5;124m\"\u001b[39m\n\u001b[0;32m-> 1880\u001b[0m \u001b[38;5;28mself\u001b[39m\u001b[38;5;241m.\u001b[39mhandles \u001b[38;5;241m=\u001b[39m \u001b[43mget_handle\u001b[49m\u001b[43m(\u001b[49m\n\u001b[1;32m   1881\u001b[0m \u001b[43m    \u001b[49m\u001b[43mf\u001b[49m\u001b[43m,\u001b[49m\n\u001b[1;32m   1882\u001b[0m \u001b[43m    \u001b[49m\u001b[43mmode\u001b[49m\u001b[43m,\u001b[49m\n\u001b[1;32m   1883\u001b[0m \u001b[43m    \u001b[49m\u001b[43mencoding\u001b[49m\u001b[38;5;241;43m=\u001b[39;49m\u001b[38;5;28;43mself\u001b[39;49m\u001b[38;5;241;43m.\u001b[39;49m\u001b[43moptions\u001b[49m\u001b[38;5;241;43m.\u001b[39;49m\u001b[43mget\u001b[49m\u001b[43m(\u001b[49m\u001b[38;5;124;43m\"\u001b[39;49m\u001b[38;5;124;43mencoding\u001b[39;49m\u001b[38;5;124;43m\"\u001b[39;49m\u001b[43m,\u001b[49m\u001b[43m \u001b[49m\u001b[38;5;28;43;01mNone\u001b[39;49;00m\u001b[43m)\u001b[49m\u001b[43m,\u001b[49m\n\u001b[1;32m   1884\u001b[0m \u001b[43m    \u001b[49m\u001b[43mcompression\u001b[49m\u001b[38;5;241;43m=\u001b[39;49m\u001b[38;5;28;43mself\u001b[39;49m\u001b[38;5;241;43m.\u001b[39;49m\u001b[43moptions\u001b[49m\u001b[38;5;241;43m.\u001b[39;49m\u001b[43mget\u001b[49m\u001b[43m(\u001b[49m\u001b[38;5;124;43m\"\u001b[39;49m\u001b[38;5;124;43mcompression\u001b[39;49m\u001b[38;5;124;43m\"\u001b[39;49m\u001b[43m,\u001b[49m\u001b[43m \u001b[49m\u001b[38;5;28;43;01mNone\u001b[39;49;00m\u001b[43m)\u001b[49m\u001b[43m,\u001b[49m\n\u001b[1;32m   1885\u001b[0m \u001b[43m    \u001b[49m\u001b[43mmemory_map\u001b[49m\u001b[38;5;241;43m=\u001b[39;49m\u001b[38;5;28;43mself\u001b[39;49m\u001b[38;5;241;43m.\u001b[39;49m\u001b[43moptions\u001b[49m\u001b[38;5;241;43m.\u001b[39;49m\u001b[43mget\u001b[49m\u001b[43m(\u001b[49m\u001b[38;5;124;43m\"\u001b[39;49m\u001b[38;5;124;43mmemory_map\u001b[39;49m\u001b[38;5;124;43m\"\u001b[39;49m\u001b[43m,\u001b[49m\u001b[43m \u001b[49m\u001b[38;5;28;43;01mFalse\u001b[39;49;00m\u001b[43m)\u001b[49m\u001b[43m,\u001b[49m\n\u001b[1;32m   1886\u001b[0m \u001b[43m    \u001b[49m\u001b[43mis_text\u001b[49m\u001b[38;5;241;43m=\u001b[39;49m\u001b[43mis_text\u001b[49m\u001b[43m,\u001b[49m\n\u001b[1;32m   1887\u001b[0m \u001b[43m    \u001b[49m\u001b[43merrors\u001b[49m\u001b[38;5;241;43m=\u001b[39;49m\u001b[38;5;28;43mself\u001b[39;49m\u001b[38;5;241;43m.\u001b[39;49m\u001b[43moptions\u001b[49m\u001b[38;5;241;43m.\u001b[39;49m\u001b[43mget\u001b[49m\u001b[43m(\u001b[49m\u001b[38;5;124;43m\"\u001b[39;49m\u001b[38;5;124;43mencoding_errors\u001b[39;49m\u001b[38;5;124;43m\"\u001b[39;49m\u001b[43m,\u001b[49m\u001b[43m \u001b[49m\u001b[38;5;124;43m\"\u001b[39;49m\u001b[38;5;124;43mstrict\u001b[39;49m\u001b[38;5;124;43m\"\u001b[39;49m\u001b[43m)\u001b[49m\u001b[43m,\u001b[49m\n\u001b[1;32m   1888\u001b[0m \u001b[43m    \u001b[49m\u001b[43mstorage_options\u001b[49m\u001b[38;5;241;43m=\u001b[39;49m\u001b[38;5;28;43mself\u001b[39;49m\u001b[38;5;241;43m.\u001b[39;49m\u001b[43moptions\u001b[49m\u001b[38;5;241;43m.\u001b[39;49m\u001b[43mget\u001b[49m\u001b[43m(\u001b[49m\u001b[38;5;124;43m\"\u001b[39;49m\u001b[38;5;124;43mstorage_options\u001b[39;49m\u001b[38;5;124;43m\"\u001b[39;49m\u001b[43m,\u001b[49m\u001b[43m \u001b[49m\u001b[38;5;28;43;01mNone\u001b[39;49;00m\u001b[43m)\u001b[49m\u001b[43m,\u001b[49m\n\u001b[1;32m   1889\u001b[0m \u001b[43m\u001b[49m\u001b[43m)\u001b[49m\n\u001b[1;32m   1890\u001b[0m \u001b[38;5;28;01massert\u001b[39;00m \u001b[38;5;28mself\u001b[39m\u001b[38;5;241m.\u001b[39mhandles \u001b[38;5;129;01mis\u001b[39;00m \u001b[38;5;129;01mnot\u001b[39;00m \u001b[38;5;28;01mNone\u001b[39;00m\n\u001b[1;32m   1891\u001b[0m f \u001b[38;5;241m=\u001b[39m \u001b[38;5;28mself\u001b[39m\u001b[38;5;241m.\u001b[39mhandles\u001b[38;5;241m.\u001b[39mhandle\n",
      "File \u001b[0;32m~/internship/rythmic-pattern-analysis/.rhythm/lib/python3.11/site-packages/pandas/io/common.py:873\u001b[0m, in \u001b[0;36mget_handle\u001b[0;34m(path_or_buf, mode, encoding, compression, memory_map, is_text, errors, storage_options)\u001b[0m\n\u001b[1;32m    868\u001b[0m \u001b[38;5;28;01melif\u001b[39;00m \u001b[38;5;28misinstance\u001b[39m(handle, \u001b[38;5;28mstr\u001b[39m):\n\u001b[1;32m    869\u001b[0m     \u001b[38;5;66;03m# Check whether the filename is to be opened in binary mode.\u001b[39;00m\n\u001b[1;32m    870\u001b[0m     \u001b[38;5;66;03m# Binary mode does not support 'encoding' and 'newline'.\u001b[39;00m\n\u001b[1;32m    871\u001b[0m     \u001b[38;5;28;01mif\u001b[39;00m ioargs\u001b[38;5;241m.\u001b[39mencoding \u001b[38;5;129;01mand\u001b[39;00m \u001b[38;5;124m\"\u001b[39m\u001b[38;5;124mb\u001b[39m\u001b[38;5;124m\"\u001b[39m \u001b[38;5;129;01mnot\u001b[39;00m \u001b[38;5;129;01min\u001b[39;00m ioargs\u001b[38;5;241m.\u001b[39mmode:\n\u001b[1;32m    872\u001b[0m         \u001b[38;5;66;03m# Encoding\u001b[39;00m\n\u001b[0;32m--> 873\u001b[0m         handle \u001b[38;5;241m=\u001b[39m \u001b[38;5;28;43mopen\u001b[39;49m\u001b[43m(\u001b[49m\n\u001b[1;32m    874\u001b[0m \u001b[43m            \u001b[49m\u001b[43mhandle\u001b[49m\u001b[43m,\u001b[49m\n\u001b[1;32m    875\u001b[0m \u001b[43m            \u001b[49m\u001b[43mioargs\u001b[49m\u001b[38;5;241;43m.\u001b[39;49m\u001b[43mmode\u001b[49m\u001b[43m,\u001b[49m\n\u001b[1;32m    876\u001b[0m \u001b[43m            \u001b[49m\u001b[43mencoding\u001b[49m\u001b[38;5;241;43m=\u001b[39;49m\u001b[43mioargs\u001b[49m\u001b[38;5;241;43m.\u001b[39;49m\u001b[43mencoding\u001b[49m\u001b[43m,\u001b[49m\n\u001b[1;32m    877\u001b[0m \u001b[43m            \u001b[49m\u001b[43merrors\u001b[49m\u001b[38;5;241;43m=\u001b[39;49m\u001b[43merrors\u001b[49m\u001b[43m,\u001b[49m\n\u001b[1;32m    878\u001b[0m \u001b[43m            \u001b[49m\u001b[43mnewline\u001b[49m\u001b[38;5;241;43m=\u001b[39;49m\u001b[38;5;124;43m\"\u001b[39;49m\u001b[38;5;124;43m\"\u001b[39;49m\u001b[43m,\u001b[49m\n\u001b[1;32m    879\u001b[0m \u001b[43m        \u001b[49m\u001b[43m)\u001b[49m\n\u001b[1;32m    880\u001b[0m     \u001b[38;5;28;01melse\u001b[39;00m:\n\u001b[1;32m    881\u001b[0m         \u001b[38;5;66;03m# Binary mode\u001b[39;00m\n\u001b[1;32m    882\u001b[0m         handle \u001b[38;5;241m=\u001b[39m \u001b[38;5;28mopen\u001b[39m(handle, ioargs\u001b[38;5;241m.\u001b[39mmode)\n",
      "\u001b[0;31mFileNotFoundError\u001b[0m: [Errno 2] No such file or directory: '../datasets/e-gmd-v1.0.0/e-gmd-v1.0.0.csv'"
     ]
    }
   ],
   "source": [
    "# clean metadata\n",
    "metadata = pd.read_csv(\n",
    "    \"../datasets/e-gmd-v1.0.0/e-gmd-v1.0.0.csv\"\n",
    ")  # read metadata of extended groove midi\n",
    "\n",
    "metadata_beats = metadata[metadata[\"beat_type\"] == \"beat\"]  # select only beats\n",
    "\n",
    "metadata_beats = metadata_beats[metadata_beats[\"duration\"] >= 30]\n",
    "print(\"duration summary in seconds: \\n\", metadata_beats[\"duration\"].describe())\n",
    "\n",
    "metadata_beats[\"genre\"] = metadata_beats[\"style\"].apply(\n",
    "    lambda x: x.split(\"/\")[0]\n",
    ")  # create genre column based on style\n",
    "\n",
    "metadata_beats = metadata_beats[[\"genre\", \"style\", \"audio_filename\", \"duration\"]] # get rid of unnecessary columns\n",
    "metadata_beats = metadata_beats.reset_index(drop=True) # resetting index is neede for interactive plot\n",
    "\n",
    "metadata_beats.genre.unique()\n",
    "metadata_beats.genre.value_counts()"
   ]
  },
  {
   "cell_type": "code",
   "execution_count": null,
   "metadata": {},
   "outputs": [],
   "source": [
    "# Counting occurrences of each genre\n",
    "genre_counts = metadata_beats['genre'].value_counts()\n",
    "\n",
    "# Identifying the top n most frequent genres\n",
    "top_n_genres = genre_counts.head(6).index\n",
    "\n",
    "metadata_beats = metadata_beats[metadata_beats['genre'].isin(top_n_genres)]\n",
    "\n",
    "metadata_beats.genre.value_counts()"
   ]
  },
  {
   "cell_type": "code",
   "execution_count": null,
   "metadata": {},
   "outputs": [],
   "source": [
    "# preparing the data and computing stm\n",
    "groove_midi_path = Path(\"../datasets/e-gmd-v1.0.0\")\n",
    "features = []\n",
    "for row in tqdm(metadata_beats.itertuples(index=False), total=metadata_beats.shape[0]): # TODO: find a more efficient way to loop\n",
    "    try:\n",
    "        # TODO: segment audio file?\n",
    "        y, sr = librosa.load(groove_midi_path / row.audio_filename, sr=None, duration=30)\n",
    "        features.append(\n",
    "            compute_stm(y=y, sr=sr)\n",
    "        ) \n",
    "    except Exception as e:\n",
    "        print(f\"Error: {e}\")"
   ]
  },
  {
   "cell_type": "markdown",
   "metadata": {},
   "source": [
    "### K-Means clustering and Silhouette analysis\n",
    "*https://scikit-learn.org/stable/auto_examples/cluster/plot_kmeans_silhouette_analysis.html#sphx-glr-auto-examples-cluster-plot-kmeans-silhouette-analysis-py*\n",
    "\n",
    "The plot on the left-hand side displays the silhouette score. The silhouette score measures how similar an object is to its own cluster compared to other clusters. \n",
    "\n",
    "A high silhouette score indicates that clusters are well-separated, while a low score suggests overlapping clusters or misclassification.\n",
    "\n",
    "From the thickness of the silhouette plot the cluster size can be visualized.\n"
   ]
  },
  {
   "cell_type": "code",
   "execution_count": null,
   "metadata": {},
   "outputs": [],
   "source": [
    "num_of_clusters = [i for i in range(3, 8)]\n",
    "results, optimal_k = select_best_num_clusters(\n",
    "    n_clusters=num_of_clusters, X=np.array(features), dim_reduction=\"tsne\", cluster_method=\"kmedoids\"\n",
    ")\n",
    "\n",
    "print(f\"Best number of clusters: {optimal_k}; silhouette score: {results.get(optimal_k)}\")"
   ]
  },
  {
   "cell_type": "markdown",
   "metadata": {},
   "source": [
    "### Visualize data with interactive UMAP plot\n",
    "\n",
    "*https://umap-learn.readthedocs.io/en/latest/plotting.html#interactive-plotting-and-hover-tools*"
   ]
  },
  {
   "cell_type": "code",
   "execution_count": null,
   "metadata": {},
   "outputs": [],
   "source": [
    "labels = pd.factorize(metadata_beats[\"genre\"])[0]  # integer labels needed for the interactive plot\n",
    "reducer = umap.UMAP(metric=\"cosine\").fit(features)  # reduce dimensionality\n",
    "\n",
    "p = umap.plot.interactive(\n",
    "    reducer, labels=labels, hover_data=metadata_beats, point_size=3,\n",
    ")  # interactive plot, hover_data can be customized\n",
    "\n",
    "umap.plot.output_file(\"groove_midi_beats.html\") # save the plot locally\n",
    "umap.plot.output_notebook() # display inline in notebook\n",
    "umap.plot.show(p)"
   ]
  },
  {
   "cell_type": "markdown",
   "metadata": {},
   "source": [
    "<hr>\n",
    "\n",
    "# Clustering on Candombe, Malian Jembè, GreekDances, Ballroom and Cuban Salsa"
   ]
  },
  {
   "cell_type": "code",
   "execution_count": null,
   "metadata": {},
   "outputs": [],
   "source": [
    "# define parameters to compute scale transform magnitude\n",
    "stm_params = {\"mel_flag\" : True, \"with_padding\" : True, \"n_mels\" : 50, \"autocor_window_type\" : \"hamming\", \"num_stm_coefs\" : 150}"
   ]
  },
  {
   "cell_type": "code",
   "execution_count": null,
   "metadata": {},
   "outputs": [],
   "source": [
    "features_mj, labels_mj, hover_data_mj = load_malian_jembe_dataset(stm_params=stm_params)\n",
    "hover_data_mj"
   ]
  },
  {
   "cell_type": "code",
   "execution_count": null,
   "metadata": {},
   "outputs": [],
   "source": [
    "features_candombe, labels_candombe, hover_data_candombe = load_candombe_dataset(stm_params=stm_params)\n",
    "hover_data_candombe"
   ]
  },
  {
   "cell_type": "code",
   "execution_count": null,
   "metadata": {},
   "outputs": [],
   "source": [
    "features_cretan, labels_cretan, hover_data_cretan = load_cretan_dances_dataset(stm_params=stm_params)\n",
    "hover_data_cretan"
   ]
  },
  {
   "cell_type": "code",
   "execution_count": null,
   "metadata": {},
   "outputs": [],
   "source": [
    "features_ballroom, labels_ballroom, hover_data_ballroom = load_ballroom_dataset(stm_params=stm_params)\n",
    "hover_data_ballroom"
   ]
  },
  {
   "cell_type": "code",
   "execution_count": null,
   "metadata": {},
   "outputs": [],
   "source": [
    "combined_features = list(itertools.chain(features_mj, features_candombe, features_cretan, features_ballroom))\n",
    "combined_labels = list(itertools.chain(hover_data_mj[\"label\"], hover_data_candombe[\"label\"], hover_data_cretan[\"label\"], hover_data_ballroom[\"label\"]))\n",
    "combined_hover_data = pd.concat([hover_data_mj, hover_data_candombe, hover_data_cretan, hover_data_ballroom]).reset_index(drop=True)"
   ]
  },
  {
   "cell_type": "markdown",
   "metadata": {},
   "source": [
    "### K-Means clustering and Silhouette analysis\n"
   ]
  },
  {
   "cell_type": "code",
   "execution_count": null,
   "metadata": {},
   "outputs": [],
   "source": [
    "num_of_clusters = [i for i in range(3, 5)]\n",
    "results, optimal_k = select_best_num_clusters(\n",
    "    n_clusters=num_of_clusters, X=np.array(combined_features), dim_reduction=\"tsne\", cluster_method=\"kmedoids\"\n",
    ")\n",
    "\n",
    "print(f\"Best number of clusters: {optimal_k}; silhouette score: {results.get(optimal_k)}\")"
   ]
  },
  {
   "cell_type": "markdown",
   "metadata": {},
   "source": [
    "### Visualize data with interactive UMAP plot"
   ]
  },
  {
   "cell_type": "code",
   "execution_count": null,
   "metadata": {},
   "outputs": [],
   "source": [
    "encoded_labels = LabelEncoder().fit_transform(combined_labels)  # integer labels needed for the interactive plot\n",
    "reducer = umap.UMAP(metric=\"cosine\").fit(combined_features) # https://umap-learn.readthedocs.io/en/latest/parameters.html#basic-umap-parameters\n",
    "\n",
    "p = umap.plot.interactive(\n",
    "    reducer, labels=encoded_labels, hover_data=combined_hover_data, point_size=5,\n",
    ")  # interactive plot, hover_data can be customized\n",
    "\n",
    "# umap.plot.output_file(\"mj.html\") # save the plot locally\n",
    "umap.plot.output_notebook() # display inline in notebook\n",
    "umap.plot.show(p)"
   ]
  },
  {
   "cell_type": "code",
   "execution_count": null,
   "metadata": {},
   "outputs": [],
   "source": []
  }
 ],
 "metadata": {
  "kernelspec": {
   "display_name": ".rhythm",
   "language": "python",
   "name": "python3"
  },
  "language_info": {
   "codemirror_mode": {
    "name": "ipython",
    "version": 3
   },
   "file_extension": ".py",
   "mimetype": "text/x-python",
   "name": "python",
   "nbconvert_exporter": "python",
   "pygments_lexer": "ipython3",
   "version": "3.11.2"
  }
 },
 "nbformat": 4,
 "nbformat_minor": 2
}
