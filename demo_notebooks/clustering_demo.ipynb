{
 "cells": [
  {
   "cell_type": "markdown",
   "metadata": {},
   "source": [
    "# Clustering beats and fills on Groove Midi Dataset\n",
    "*https://magenta.tensorflow.org/datasets/e-gmd*"
   ]
  },
  {
   "cell_type": "code",
   "execution_count": null,
   "metadata": {},
   "outputs": [],
   "source": [
    "import sys\n",
    "import os\n",
    "parent_dir = os.path.abspath(os.path.join('..'))\n",
    "if parent_dir not in sys.path:\n",
    "    sys.path.append(parent_dir)\n",
    "    \n",
    "%load_ext autoreload\n",
    "%autoreload 2\n",
    "\n",
    "import mirdata\n",
    "import librosa\n",
    "import itertools\n",
    "import umap\n",
    "import umap.plot\n",
    "import numpy as np\n",
    "import pandas as pd\n",
    "from scripts.data_loaders import load_malian_jembe_dataset, load_candombe_dataset, load_cretan_dances_dataset, load_ballroom_dataset\n",
    "from sklearn.preprocessing import LabelEncoder\n",
    "from scripts.scale_transform_magnitude import compute_stm, compute_stm_multi_channel\n",
    "from scripts.clusterers import select_best_num_clusters\n",
    "from pathlib import Path\n",
    "from tqdm import tqdm"
   ]
  },
  {
   "cell_type": "markdown",
   "metadata": {},
   "source": [
    "## Smaller version of groove-midi, used for trying out new configurations"
   ]
  },
  {
   "cell_type": "code",
   "execution_count": null,
   "metadata": {},
   "outputs": [],
   "source": [
    "# groove_dataset._metadatafill\n",
    "metadata = pd.read_csv(\"~/mir_datasets/groove_midi/info.csv\")\n",
    "metadata_beats = metadata[metadata[\"beat_type\"] == \"beat\"]  # select only beats\n",
    "\n",
    "metadata_beats = metadata_beats[metadata_beats[\"duration\"] >= 30]\n",
    "metadata_beats = metadata_beats[metadata_beats[\"time_signature\"] >= \"4-4\"]\n",
    "\n",
    "print(\"duration summary in seconds: \\n\", metadata_beats[\"duration\"].describe())\n",
    "\n",
    "metadata_beats[\"genre\"] = metadata_beats[\"style\"].apply(\n",
    "    lambda x: x.split(\"/\")[0]\n",
    ")  # create genre column based on style\n",
    "\n",
    "metadata_beats = metadata_beats[[\"genre\", \"style\", \"audio_filename\", \"duration\"]] # get rid of unnecessary columns\n",
    "metadata_beats = metadata_beats.reset_index(drop=True) # resetting index is neede for interactive plot\n",
    "\n",
    "print(metadata_beats.genre.unique())\n",
    "\n",
    "# Counting occurrences of each genre\n",
    "genre_counts = metadata_beats['genre'].value_counts()\n",
    "\n",
    "# Identifying the top n most frequent genres\n",
    "top_n_genres = genre_counts.head(6).index\n",
    "\n",
    "metadata_beats = metadata_beats[metadata_beats['genre'].isin(top_n_genres)]\n",
    "\n",
    "metadata_beats.genre.value_counts()\n",
    "metadata_beats = metadata_beats.dropna()\n",
    "metadata_beats = metadata_beats.reset_index(drop=True)\n"
   ]
  },
  {
   "cell_type": "code",
   "execution_count": null,
   "metadata": {},
   "outputs": [],
   "source": [
    "# preparing the data and computing stm\n",
    "groove_midi_path = Path(\"~/mir_datasets/groove_midi/\").expanduser()\n",
    "features = []\n",
    "for row in tqdm(metadata_beats.itertuples(index=False), total=metadata_beats.shape[0]): # TODO: find a more efficient way to loop\n",
    "    try:\n",
    "        if row.audio_filename == None: continue\n",
    "        y, sr = librosa.load(groove_midi_path / row.audio_filename, sr=None, duration=30)\n",
    "        features.append(compute_stm(y=y, sr=sr))\n",
    "        # features.append(np.mean(compute_stm_multi_channel(y=y, sr=sr, channels = [0,5,40], num_stm_coefs=200), axis=0)) \n",
    "    except Exception as e:\n",
    "        print(f\"Error: {e}\")"
   ]
  },
  {
   "cell_type": "markdown",
   "metadata": {},
   "source": [
    "### Clustering Analysis"
   ]
  },
  {
   "cell_type": "code",
   "execution_count": null,
   "metadata": {},
   "outputs": [],
   "source": [
    "num_of_clusters = [i for i in range(3, 6)]\n",
    "results, optimal_k = select_best_num_clusters(\n",
    "    n_clusters=num_of_clusters, X=np.array(features), dim_reduction=\"tsne\", cluster_method=\"kmedoids\"\n",
    ")\n",
    "\n",
    "print(f\"Best number of clusters: {optimal_k}; silhouette score: {results.get(optimal_k)}\")"
   ]
  },
  {
   "cell_type": "code",
   "execution_count": null,
   "metadata": {},
   "outputs": [],
   "source": [
    "labels = pd.factorize(metadata_beats[\"genre\"])[0]  # integer labels needed for the interactive plot\n",
    "reducer = umap.UMAP(metric=\"cosine\").fit(features)  # reduce dimensionality\n",
    "\n",
    "p = umap.plot.interactive(\n",
    "    reducer, labels=labels, hover_data=metadata_beats, point_size=3,\n",
    ")  # interactive plot, hover_data can be customized\n",
    "\n",
    "umap.plot.output_file(\"groove_midi_beats.html\") # save the plot locally\n",
    "umap.plot.output_notebook() # display inline in notebook\n",
    "umap.plot.show(p)"
   ]
  },
  {
   "cell_type": "markdown",
   "metadata": {},
   "source": [
    "<hr>\n",
    "\n",
    "## Extended Groove Midi"
   ]
  },
  {
   "cell_type": "code",
   "execution_count": 27,
   "metadata": {},
   "outputs": [
    {
     "name": "stdout",
     "output_type": "stream",
     "text": [
      "duration summary in seconds: \n",
      " count    6621.000000\n",
      "mean        4.097333\n",
      "std         0.828416\n",
      "min         3.000045\n",
      "25%         3.428571\n",
      "50%         3.772993\n",
      "75%         4.999546\n",
      "max         6.000000\n",
      "Name: duration, dtype: float64\n"
     ]
    },
    {
     "data": {
      "text/plain": [
       "genre\n",
       "rock          2109\n",
       "hiphop        1462\n",
       "neworleans     774\n",
       "funk           731\n",
       "reggae         550\n",
       "jazz           473\n",
       "soul           341\n",
       "pop            129\n",
       "afrocuban       43\n",
       "country          9\n",
       "Name: count, dtype: int64"
      ]
     },
     "execution_count": 27,
     "metadata": {},
     "output_type": "execute_result"
    }
   ],
   "source": [
    "# clean metadata\n",
    "metadata = pd.read_csv(\n",
    "    \"../datasets/e-gmd-v1.0.0/e-gmd-v1.0.0.csv\"\n",
    ")  # read metadata of extended groove midi\n",
    "\n",
    "metadata_beats = metadata[metadata[\"beat_type\"] == \"fill\"]  # select only beats\n",
    "\n",
    "metadata_beats = metadata_beats[(metadata_beats[\"duration\"] >= 3) & (metadata_beats[\"duration\"] <= 6)]\n",
    "print(\"duration summary in seconds: \\n\", metadata_beats[\"duration\"].describe())\n",
    "\n",
    "metadata_beats[\"genre\"] = metadata_beats[\"style\"].apply(\n",
    "    lambda x: x.split(\"/\")[0]\n",
    ")  # create genre column based on style\n",
    "\n",
    "metadata_beats = metadata_beats[[\"genre\", \"style\", \"audio_filename\", \"duration\"]] # get rid of unnecessary columns\n",
    "metadata_beats = metadata_beats.reset_index(drop=True) # resetting index is neede for interactive plot\n",
    "\n",
    "metadata_beats.genre.unique()\n",
    "metadata_beats.genre.value_counts()"
   ]
  },
  {
   "cell_type": "code",
   "execution_count": 28,
   "metadata": {},
   "outputs": [
    {
     "data": {
      "text/plain": [
       "genre\n",
       "rock          2109\n",
       "hiphop        1462\n",
       "neworleans     774\n",
       "funk           731\n",
       "reggae         550\n",
       "jazz           473\n",
       "Name: count, dtype: int64"
      ]
     },
     "execution_count": 28,
     "metadata": {},
     "output_type": "execute_result"
    }
   ],
   "source": [
    "# Counting occurrences of each genre\n",
    "genre_counts = metadata_beats['genre'].value_counts()\n",
    "\n",
    "# Identifying the top n most frequent genres\n",
    "top_n_genres = genre_counts.head(6).index\n",
    "\n",
    "metadata_beats = metadata_beats[metadata_beats['genre'].isin(top_n_genres)]\n",
    "\n",
    "metadata_beats.genre.value_counts()"
   ]
  },
  {
   "cell_type": "code",
   "execution_count": 30,
   "metadata": {},
   "outputs": [
    {
     "name": "stderr",
     "output_type": "stream",
     "text": [
      "  0%|          | 0/6099 [00:00<?, ?it/s]/home/stefano/internship/rythmic-pattern-analysis/scripts/scale_transform_magnitude.py:134: UserWarning: auto_cor_window_seconds is bigger than duration of audio file, setting it to duration\n",
      "  \"auto_cor_window_seconds is bigger than duration of audio file, setting it to duration\"\n",
      "  4%|▍         | 244/6099 [00:10<04:51, 20.07it/s]"
     ]
    }
   ],
   "source": [
    "# preparing the data and computing stm\n",
    "groove_midi_path = Path(\"../datasets/e-gmd-v1.0.0\")\n",
    "features = []\n",
    "for row in tqdm(metadata_beats.itertuples(index=False), total=metadata_beats.shape[0]): # TODO: find a more efficient way to loop\n",
    "    try:\n",
    "        # TODO: segment audio file?\n",
    "        y, sr = librosa.load(groove_midi_path / row.audio_filename, sr=None, duration=30)\n",
    "        features.append(\n",
    "            np.mean(compute_stm_multi_channel(y=y, sr=sr, num_stm_coefs=100), axis=0))\n",
    "    except Exception as e:\n",
    "        print(f\"Error: {e}\")"
   ]
  },
  {
   "cell_type": "markdown",
   "metadata": {},
   "source": [
    "### K-Means clustering and Silhouette analysis\n",
    "*https://scikit-learn.org/stable/auto_examples/cluster/plot_kmeans_silhouette_analysis.html#sphx-glr-auto-examples-cluster-plot-kmeans-silhouette-analysis-py*\n",
    "\n",
    "The plot on the left-hand side displays the silhouette score. The silhouette score measures how similar an object is to its own cluster compared to other clusters. \n",
    "\n",
    "A high silhouette score indicates that clusters are well-separated, while a low score suggests overlapping clusters or misclassification.\n",
    "\n",
    "From the thickness of the silhouette plot the cluster size can be visualized.\n"
   ]
  },
  {
   "cell_type": "code",
   "execution_count": null,
   "metadata": {},
   "outputs": [],
   "source": [
    "num_of_clusters = [i for i in range(3, 8)]\n",
    "results, optimal_k = select_best_num_clusters(\n",
    "    n_clusters=num_of_clusters, X=np.array(features), dim_reduction=\"tsne\", cluster_method=\"kmedoids\"\n",
    ")\n",
    "\n",
    "print(f\"Best number of clusters: {optimal_k}; silhouette score: {results.get(optimal_k)}\")"
   ]
  },
  {
   "cell_type": "markdown",
   "metadata": {},
   "source": [
    "### Visualize data with interactive UMAP plot\n",
    "\n",
    "*https://umap-learn.readthedocs.io/en/latest/plotting.html#interactive-plotting-and-hover-tools*"
   ]
  },
  {
   "cell_type": "code",
   "execution_count": null,
   "metadata": {},
   "outputs": [],
   "source": [
    "labels = pd.factorize(metadata_beats[\"genre\"])[0]  # integer labels needed for the interactive plot\n",
    "reducer = umap.UMAP(metric=\"cosine\").fit(features)  # reduce dimensionality\n",
    "\n",
    "p = umap.plot.interactive(\n",
    "    reducer, labels=labels, hover_data=metadata_beats, point_size=3,\n",
    ")  # interactive plot, hover_data can be customized\n",
    "\n",
    "umap.plot.output_file(\"groove_midi_beats.html\") # save the plot locally\n",
    "umap.plot.output_notebook() # display inline in notebook\n",
    "umap.plot.show(p)"
   ]
  },
  {
   "cell_type": "markdown",
   "metadata": {},
   "source": [
    "<hr>\n",
    "\n",
    "# Clustering on Candombe, Malian Jembè, GreekDances, Ballroom and Cuban Salsa"
   ]
  },
  {
   "cell_type": "code",
   "execution_count": null,
   "metadata": {},
   "outputs": [],
   "source": [
    "# define parameters to compute scale transform magnitude\n",
    "stm_params = {\"mel_flag\" : True, \"with_padding\" : True, \"n_mels\" : 50, \"autocor_window_type\" : \"hamming\", \"num_stm_coefs\" : 150}"
   ]
  },
  {
   "cell_type": "code",
   "execution_count": null,
   "metadata": {},
   "outputs": [],
   "source": [
    "features_mj, labels_mj, hover_data_mj = load_malian_jembe_dataset(stm_params=stm_params)\n",
    "hover_data_mj"
   ]
  },
  {
   "cell_type": "code",
   "execution_count": null,
   "metadata": {},
   "outputs": [],
   "source": [
    "features_candombe, labels_candombe, hover_data_candombe = load_candombe_dataset(stm_params=stm_params)\n",
    "hover_data_candombe"
   ]
  },
  {
   "cell_type": "code",
   "execution_count": null,
   "metadata": {},
   "outputs": [],
   "source": [
    "features_cretan, labels_cretan, hover_data_cretan = load_cretan_dances_dataset(stm_params=stm_params)\n",
    "hover_data_cretan"
   ]
  },
  {
   "cell_type": "code",
   "execution_count": null,
   "metadata": {},
   "outputs": [],
   "source": [
    "features_ballroom, labels_ballroom, hover_data_ballroom = load_ballroom_dataset(stm_params=stm_params)\n",
    "hover_data_ballroom"
   ]
  },
  {
   "cell_type": "code",
   "execution_count": null,
   "metadata": {},
   "outputs": [],
   "source": [
    "combined_features = list(itertools.chain(features_mj, features_candombe, features_cretan, features_ballroom))\n",
    "combined_labels = list(itertools.chain(hover_data_mj[\"label\"], hover_data_candombe[\"label\"], hover_data_cretan[\"label\"], hover_data_ballroom[\"label\"]))\n",
    "combined_hover_data = pd.concat([hover_data_mj, hover_data_candombe, hover_data_cretan, hover_data_ballroom]).reset_index(drop=True)"
   ]
  },
  {
   "cell_type": "markdown",
   "metadata": {},
   "source": [
    "### K-Means clustering and Silhouette analysis\n"
   ]
  },
  {
   "cell_type": "code",
   "execution_count": null,
   "metadata": {},
   "outputs": [],
   "source": [
    "num_of_clusters = [i for i in range(3, 5)]\n",
    "results, optimal_k = select_best_num_clusters(\n",
    "    n_clusters=num_of_clusters, X=np.array(combined_features), dim_reduction=\"tsne\", cluster_method=\"kmedoids\"\n",
    ")\n",
    "\n",
    "print(f\"Best number of clusters: {optimal_k}; silhouette score: {results.get(optimal_k)}\")"
   ]
  },
  {
   "cell_type": "markdown",
   "metadata": {},
   "source": [
    "### Visualize data with interactive UMAP plot"
   ]
  },
  {
   "cell_type": "code",
   "execution_count": null,
   "metadata": {},
   "outputs": [],
   "source": [
    "encoded_labels = LabelEncoder().fit_transform(combined_labels)  # integer labels needed for the interactive plot\n",
    "reducer = umap.UMAP(metric=\"cosine\").fit(combined_features) # https://umap-learn.readthedocs.io/en/latest/parameters.html#basic-umap-parameters\n",
    "\n",
    "p = umap.plot.interactive(\n",
    "    reducer, labels=encoded_labels, hover_data=combined_hover_data, point_size=5,\n",
    ")  # interactive plot, hover_data can be customized\n",
    "\n",
    "# umap.plot.output_file(\"mj.html\") # save the plot locally\n",
    "umap.plot.output_notebook() # display inline in notebook\n",
    "umap.plot.show(p)"
   ]
  },
  {
   "cell_type": "code",
   "execution_count": null,
   "metadata": {},
   "outputs": [],
   "source": []
  }
 ],
 "metadata": {
  "kernelspec": {
   "display_name": ".rhythm",
   "language": "python",
   "name": "python3"
  },
  "language_info": {
   "codemirror_mode": {
    "name": "ipython",
    "version": 3
   },
   "file_extension": ".py",
   "mimetype": "text/x-python",
   "name": "python",
   "nbconvert_exporter": "python",
   "pygments_lexer": "ipython3",
   "version": "3.11.2"
  }
 },
 "nbformat": 4,
 "nbformat_minor": 2
}
