{
 "cells": [
  {
   "cell_type": "code",
   "execution_count": 100,
   "metadata": {},
   "outputs": [],
   "source": [
    "from scale import scale_transform_matrix\n",
    "import json\n",
    "import numpy as np"
   ]
  },
  {
   "cell_type": "code",
   "execution_count": 101,
   "metadata": {},
   "outputs": [
    {
     "data": {
      "text/plain": [
       "(3, 3)"
      ]
     },
     "execution_count": 101,
     "metadata": {},
     "output_type": "execute_result"
    }
   ],
   "source": [
    "# Python tests, save input and output to json\n",
    "dct_matrix = scale_transform_matrix(N=4, C=5, fs=1)\n",
    "np.savetxt(\"py_dct_output.txt\", dct_matrix)\n",
    "dct_matrix.shape"
   ]
  },
  {
   "cell_type": "code",
   "execution_count": 102,
   "metadata": {},
   "outputs": [],
   "source": [
    "# command line to run cpp and save matrix to file\n",
    "! g++ -o dct_matrix dct.cpp\n",
    "!./dct_matrix > cpp_dct_output.txt"
   ]
  },
  {
   "cell_type": "code",
   "execution_count": 103,
   "metadata": {},
   "outputs": [],
   "source": [
    "# load c++ and python output\n",
    "cpp_dct = np.loadtxt(\"cpp_dct_output.txt\", dtype=complex)\n",
    "py_dct = np.loadtxt(\"py_dct_output.txt\", dtype=complex)"
   ]
  },
  {
   "cell_type": "code",
   "execution_count": 104,
   "metadata": {},
   "outputs": [
    {
     "name": "stdout",
     "output_type": "stream",
     "text": [
      "Matrices are equal within tolerance:  True\n"
     ]
    }
   ],
   "source": [
    "# Compare the matrices\n",
    "comparison_result = np.allclose(py_dct, cpp_dct, atol=1e-9)\n",
    "print(\"Matrices are equal within tolerance: \", comparison_result)"
   ]
  },
  {
   "cell_type": "code",
   "execution_count": 105,
   "metadata": {},
   "outputs": [],
   "source": [
    "data = [[1, 2, 3, 3],\n",
    "        [4, 5, 6, 6],\n",
    "        [7, 8, 9, 9],\n",
    "        [10, 11, 12, 13]]\n",
    "    \n",
    "matrix = np.array(data)"
   ]
  },
  {
   "cell_type": "code",
   "execution_count": 106,
   "metadata": {},
   "outputs": [
    {
     "data": {
      "text/plain": [
       "array([[ 9.924735  ,  9.924735  ,  9.924735  , 11.306715  ],\n",
       "       [ 1.69815143,  1.69815143,  1.69815143,  1.97248284],\n",
       "       [ 0.42493842,  0.42493842,  0.42493842,  0.59213526]])"
      ]
     },
     "execution_count": 106,
     "metadata": {},
     "output_type": "execute_result"
    }
   ],
   "source": [
    "dct_dot_cpp = np.abs(np.dot(cpp_dct, (matrix[:-1] - matrix[1:])))\n",
    "dct_dot_py = np.abs(np.dot(py_dct, (matrix[:-1] - matrix[1:])))\n",
    "\n",
    "dct_dot_cpp"
   ]
  },
  {
   "cell_type": "code",
   "execution_count": 107,
   "metadata": {},
   "outputs": [
    {
     "data": {
      "text/plain": [
       "array([[ 9.92472098,  9.92472098,  9.92472098, 11.30669758],\n",
       "       [ 1.69815252,  1.69815252,  1.69815252,  1.9724836 ],\n",
       "       [ 0.42493959,  0.42493959,  0.42493959,  0.59213646]])"
      ]
     },
     "execution_count": 107,
     "metadata": {},
     "output_type": "execute_result"
    }
   ],
   "source": [
    "dct_dot_py"
   ]
  }
 ],
 "metadata": {
  "kernelspec": {
   "display_name": ".rhythm",
   "language": "python",
   "name": "python3"
  },
  "language_info": {
   "codemirror_mode": {
    "name": "ipython",
    "version": 3
   },
   "file_extension": ".py",
   "mimetype": "text/x-python",
   "name": "python",
   "nbconvert_exporter": "python",
   "pygments_lexer": "ipython3",
   "version": "3.11.2"
  }
 },
 "nbformat": 4,
 "nbformat_minor": 2
}
