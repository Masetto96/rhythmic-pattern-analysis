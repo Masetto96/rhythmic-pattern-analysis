{
 "cells": [
  {
   "cell_type": "code",
   "execution_count": 42,
   "metadata": {},
   "outputs": [
    {
     "name": "stdout",
     "output_type": "stream",
     "text": [
      "The autoreload extension is already loaded. To reload it, use:\n",
      "  %reload_ext autoreload\n"
     ]
    }
   ],
   "source": [
    "import pandas as pd\n",
    "%load_ext autoreload\n",
    "%autoreload 2\n",
    "\n",
    "from collections import Counter\n",
    "import mirdata\n",
    "import librosa\n",
    "import stm\n",
    "import numpy as np\n",
    "import matplotlib.pyplot as plt\n",
    "import IPython.display as ipd\n",
    "from rhythmic_features import feature as f\n",
    "from tqdm import tqdm\n",
    "from pathlib import Path\n",
    "from sklearn.preprocessing import LabelEncoder\n",
    "from sklearn.neighbors import KNeighborsClassifier, RadiusNeighborsClassifier\n",
    "from sklearn.model_selection import train_test_split, StratifiedKFold, cross_val_score, LeaveOneOut\n",
    "from sklearn.metrics import accuracy_score, ConfusionMatrixDisplay"
   ]
  },
  {
   "cell_type": "markdown",
   "metadata": {},
   "source": [
    "## Groove Midi\n",
    "\n",
    "_Jon Gillick, Adam Roberts, Jesse Engel, Douglas Eck, and David Bamman.\n",
    "\"Learning to Groove with Inverse Sequence Transformations.\"\n",
    "International Conference on Machine Learning (ICML), 2019._\n",
    "\n",
    "The Groove MIDI Dataset (GMD) is composed of 13.6 hours of aligned MIDI and (synthesized) audio of human-performed, tempo-aligned expressive drumming. The dataset contains 1,150 MIDI files and over 22,000 measures of drumming.\n",
    "\n",
    "It could be used to classify fills or beats. Keep in mind that while fills tend to have a short duration (few seconds), beats tend to be longer. Therefore beats should be segmented in shorter chunks?\n",
    "\n",
    "\n",
    "track.style -> a string style for the performance formatted as “primary/secondary” (e.g. rock/halftime, funk/purdieshuffle). The primary style comes from the Genre List below.\n",
    "\n",
    "Genre List: afrobeat, afrocuban, blues, country, dance, funk, gospel, highlife, hiphop, jazz, latin, middleeastern, neworleans, pop, punk, reggae, rock, soul\n",
    "\n",
    "For the following experiment the label will consist of the primary style only."
   ]
  },
  {
   "cell_type": "code",
   "execution_count": 43,
   "metadata": {},
   "outputs": [
    {
     "data": {
      "text/html": [
       "<div>\n",
       "<style scoped>\n",
       "    .dataframe tbody tr th:only-of-type {\n",
       "        vertical-align: middle;\n",
       "    }\n",
       "\n",
       "    .dataframe tbody tr th {\n",
       "        vertical-align: top;\n",
       "    }\n",
       "\n",
       "    .dataframe thead th {\n",
       "        text-align: right;\n",
       "    }\n",
       "</style>\n",
       "<table border=\"1\" class=\"dataframe\">\n",
       "  <thead>\n",
       "    <tr style=\"text-align: right;\">\n",
       "      <th></th>\n",
       "      <th>drummer</th>\n",
       "      <th>session</th>\n",
       "      <th>id</th>\n",
       "      <th>style</th>\n",
       "      <th>bpm</th>\n",
       "      <th>beat_type</th>\n",
       "      <th>time_signature</th>\n",
       "      <th>midi_filename</th>\n",
       "      <th>audio_filename</th>\n",
       "      <th>duration</th>\n",
       "      <th>split</th>\n",
       "    </tr>\n",
       "  </thead>\n",
       "  <tbody>\n",
       "    <tr>\n",
       "      <th>0</th>\n",
       "      <td>drummer1</td>\n",
       "      <td>drummer1/eval_session</td>\n",
       "      <td>drummer1/eval_session/1</td>\n",
       "      <td>funk/groove1</td>\n",
       "      <td>138</td>\n",
       "      <td>beat</td>\n",
       "      <td>4-4</td>\n",
       "      <td>drummer1/eval_session/1_funk-groove1_138_beat_...</td>\n",
       "      <td>drummer1/eval_session/1_funk-groove1_138_beat_...</td>\n",
       "      <td>27.872308</td>\n",
       "      <td>test</td>\n",
       "    </tr>\n",
       "    <tr>\n",
       "      <th>1</th>\n",
       "      <td>drummer1</td>\n",
       "      <td>drummer1/eval_session</td>\n",
       "      <td>drummer1/eval_session/10</td>\n",
       "      <td>soul/groove10</td>\n",
       "      <td>102</td>\n",
       "      <td>beat</td>\n",
       "      <td>4-4</td>\n",
       "      <td>drummer1/eval_session/10_soul-groove10_102_bea...</td>\n",
       "      <td>drummer1/eval_session/10_soul-groove10_102_bea...</td>\n",
       "      <td>37.691158</td>\n",
       "      <td>test</td>\n",
       "    </tr>\n",
       "    <tr>\n",
       "      <th>2</th>\n",
       "      <td>drummer1</td>\n",
       "      <td>drummer1/eval_session</td>\n",
       "      <td>drummer1/eval_session/2</td>\n",
       "      <td>funk/groove2</td>\n",
       "      <td>105</td>\n",
       "      <td>beat</td>\n",
       "      <td>4-4</td>\n",
       "      <td>drummer1/eval_session/2_funk-groove2_105_beat_...</td>\n",
       "      <td>drummer1/eval_session/2_funk-groove2_105_beat_...</td>\n",
       "      <td>36.351218</td>\n",
       "      <td>test</td>\n",
       "    </tr>\n",
       "    <tr>\n",
       "      <th>3</th>\n",
       "      <td>drummer1</td>\n",
       "      <td>drummer1/eval_session</td>\n",
       "      <td>drummer1/eval_session/3</td>\n",
       "      <td>soul/groove3</td>\n",
       "      <td>86</td>\n",
       "      <td>beat</td>\n",
       "      <td>4-4</td>\n",
       "      <td>drummer1/eval_session/3_soul-groove3_86_beat_4...</td>\n",
       "      <td>drummer1/eval_session/3_soul-groove3_86_beat_4...</td>\n",
       "      <td>44.716543</td>\n",
       "      <td>test</td>\n",
       "    </tr>\n",
       "    <tr>\n",
       "      <th>4</th>\n",
       "      <td>drummer1</td>\n",
       "      <td>drummer1/eval_session</td>\n",
       "      <td>drummer1/eval_session/4</td>\n",
       "      <td>soul/groove4</td>\n",
       "      <td>80</td>\n",
       "      <td>beat</td>\n",
       "      <td>4-4</td>\n",
       "      <td>drummer1/eval_session/4_soul-groove4_80_beat_4...</td>\n",
       "      <td>drummer1/eval_session/4_soul-groove4_80_beat_4...</td>\n",
       "      <td>47.987500</td>\n",
       "      <td>test</td>\n",
       "    </tr>\n",
       "    <tr>\n",
       "      <th>...</th>\n",
       "      <td>...</td>\n",
       "      <td>...</td>\n",
       "      <td>...</td>\n",
       "      <td>...</td>\n",
       "      <td>...</td>\n",
       "      <td>...</td>\n",
       "      <td>...</td>\n",
       "      <td>...</td>\n",
       "      <td>...</td>\n",
       "      <td>...</td>\n",
       "      <td>...</td>\n",
       "    </tr>\n",
       "    <tr>\n",
       "      <th>1145</th>\n",
       "      <td>drummer2</td>\n",
       "      <td>drummer2/session2</td>\n",
       "      <td>drummer2/session2/11</td>\n",
       "      <td>rock</td>\n",
       "      <td>130</td>\n",
       "      <td>beat</td>\n",
       "      <td>4-4</td>\n",
       "      <td>drummer2/session2/11_rock_130_beat_4-4.mid</td>\n",
       "      <td>NaN</td>\n",
       "      <td>1.909613</td>\n",
       "      <td>train</td>\n",
       "    </tr>\n",
       "    <tr>\n",
       "      <th>1146</th>\n",
       "      <td>drummer2</td>\n",
       "      <td>drummer2/session2</td>\n",
       "      <td>drummer2/session2/12</td>\n",
       "      <td>rock</td>\n",
       "      <td>130</td>\n",
       "      <td>beat</td>\n",
       "      <td>4-4</td>\n",
       "      <td>drummer2/session2/12_rock_130_beat_4-4.mid</td>\n",
       "      <td>NaN</td>\n",
       "      <td>1.808652</td>\n",
       "      <td>train</td>\n",
       "    </tr>\n",
       "    <tr>\n",
       "      <th>1147</th>\n",
       "      <td>drummer2</td>\n",
       "      <td>drummer2/session2</td>\n",
       "      <td>drummer2/session2/13</td>\n",
       "      <td>rock</td>\n",
       "      <td>130</td>\n",
       "      <td>beat</td>\n",
       "      <td>4-4</td>\n",
       "      <td>drummer2/session2/13_rock_130_beat_4-4.mid</td>\n",
       "      <td>NaN</td>\n",
       "      <td>1.864421</td>\n",
       "      <td>train</td>\n",
       "    </tr>\n",
       "    <tr>\n",
       "      <th>1148</th>\n",
       "      <td>drummer2</td>\n",
       "      <td>drummer2/session2</td>\n",
       "      <td>drummer2/session2/14</td>\n",
       "      <td>rock</td>\n",
       "      <td>130</td>\n",
       "      <td>beat</td>\n",
       "      <td>4-4</td>\n",
       "      <td>drummer2/session2/14_rock_130_beat_4-4.mid</td>\n",
       "      <td>NaN</td>\n",
       "      <td>1.875960</td>\n",
       "      <td>train</td>\n",
       "    </tr>\n",
       "    <tr>\n",
       "      <th>1149</th>\n",
       "      <td>drummer2</td>\n",
       "      <td>drummer2/session2</td>\n",
       "      <td>drummer2/session2/15</td>\n",
       "      <td>rock</td>\n",
       "      <td>130</td>\n",
       "      <td>beat</td>\n",
       "      <td>4-4</td>\n",
       "      <td>drummer2/session2/15_rock_130_beat_4-4.mid</td>\n",
       "      <td>NaN</td>\n",
       "      <td>3.714419</td>\n",
       "      <td>train</td>\n",
       "    </tr>\n",
       "  </tbody>\n",
       "</table>\n",
       "<p>1150 rows × 11 columns</p>\n",
       "</div>"
      ],
      "text/plain": [
       "       drummer                session                        id  \\\n",
       "0     drummer1  drummer1/eval_session   drummer1/eval_session/1   \n",
       "1     drummer1  drummer1/eval_session  drummer1/eval_session/10   \n",
       "2     drummer1  drummer1/eval_session   drummer1/eval_session/2   \n",
       "3     drummer1  drummer1/eval_session   drummer1/eval_session/3   \n",
       "4     drummer1  drummer1/eval_session   drummer1/eval_session/4   \n",
       "...        ...                    ...                       ...   \n",
       "1145  drummer2      drummer2/session2      drummer2/session2/11   \n",
       "1146  drummer2      drummer2/session2      drummer2/session2/12   \n",
       "1147  drummer2      drummer2/session2      drummer2/session2/13   \n",
       "1148  drummer2      drummer2/session2      drummer2/session2/14   \n",
       "1149  drummer2      drummer2/session2      drummer2/session2/15   \n",
       "\n",
       "              style  bpm beat_type time_signature  \\\n",
       "0      funk/groove1  138      beat            4-4   \n",
       "1     soul/groove10  102      beat            4-4   \n",
       "2      funk/groove2  105      beat            4-4   \n",
       "3      soul/groove3   86      beat            4-4   \n",
       "4      soul/groove4   80      beat            4-4   \n",
       "...             ...  ...       ...            ...   \n",
       "1145           rock  130      beat            4-4   \n",
       "1146           rock  130      beat            4-4   \n",
       "1147           rock  130      beat            4-4   \n",
       "1148           rock  130      beat            4-4   \n",
       "1149           rock  130      beat            4-4   \n",
       "\n",
       "                                          midi_filename  \\\n",
       "0     drummer1/eval_session/1_funk-groove1_138_beat_...   \n",
       "1     drummer1/eval_session/10_soul-groove10_102_bea...   \n",
       "2     drummer1/eval_session/2_funk-groove2_105_beat_...   \n",
       "3     drummer1/eval_session/3_soul-groove3_86_beat_4...   \n",
       "4     drummer1/eval_session/4_soul-groove4_80_beat_4...   \n",
       "...                                                 ...   \n",
       "1145         drummer2/session2/11_rock_130_beat_4-4.mid   \n",
       "1146         drummer2/session2/12_rock_130_beat_4-4.mid   \n",
       "1147         drummer2/session2/13_rock_130_beat_4-4.mid   \n",
       "1148         drummer2/session2/14_rock_130_beat_4-4.mid   \n",
       "1149         drummer2/session2/15_rock_130_beat_4-4.mid   \n",
       "\n",
       "                                         audio_filename   duration  split  \n",
       "0     drummer1/eval_session/1_funk-groove1_138_beat_...  27.872308   test  \n",
       "1     drummer1/eval_session/10_soul-groove10_102_bea...  37.691158   test  \n",
       "2     drummer1/eval_session/2_funk-groove2_105_beat_...  36.351218   test  \n",
       "3     drummer1/eval_session/3_soul-groove3_86_beat_4...  44.716543   test  \n",
       "4     drummer1/eval_session/4_soul-groove4_80_beat_4...  47.987500   test  \n",
       "...                                                 ...        ...    ...  \n",
       "1145                                                NaN   1.909613  train  \n",
       "1146                                                NaN   1.808652  train  \n",
       "1147                                                NaN   1.864421  train  \n",
       "1148                                                NaN   1.875960  train  \n",
       "1149                                                NaN   3.714419  train  \n",
       "\n",
       "[1150 rows x 11 columns]"
      ]
     },
     "execution_count": 43,
     "metadata": {},
     "output_type": "execute_result"
    }
   ],
   "source": [
    "metadata = pd.read_csv(\"~/mir_datasets/groove_midi/info.csv\")\n",
    "metadata"
   ]
  },
  {
   "cell_type": "code",
   "execution_count": 44,
   "metadata": {},
   "outputs": [
    {
     "data": {
      "text/plain": [
       "60"
      ]
     },
     "execution_count": 44,
     "metadata": {},
     "output_type": "execute_result"
    }
   ],
   "source": [
    "sum(metadata[\"audio_filename\"].isna()) "
   ]
  },
  {
   "cell_type": "code",
   "execution_count": 45,
   "metadata": {},
   "outputs": [
    {
     "name": "stderr",
     "output_type": "stream",
     "text": [
      "100%|██████████| 1/1 [00:00<00:00, 552.32it/s]\n",
      "100%|██████████| 1150/1150 [00:20<00:00, 55.79it/s] \n",
      "INFO: Success: the dataset is complete and all files are valid.\n",
      "INFO: --------------------\n"
     ]
    },
    {
     "data": {
      "text/plain": [
       "({'metadata': {}, 'tracks': {}}, {'metadata': {}, 'tracks': {}})"
      ]
     },
     "execution_count": 45,
     "metadata": {},
     "output_type": "execute_result"
    }
   ],
   "source": [
    "groove_dataset = mirdata.initialize(\"groove_midi\")\n",
    "# groove_dataset.download()\n",
    "groove_dataset.validate()"
   ]
  },
  {
   "cell_type": "code",
   "execution_count": 50,
   "metadata": {},
   "outputs": [
    {
     "name": "stderr",
     "output_type": "stream",
     "text": [
      "  0%|          | 1/1150 [00:00<02:18,  8.32it/s]/home/stef/uni/internship/rythmic-pattern-analysis/stm.py:157: RuntimeWarning: invalid value encountered in divide\n",
      "  if norm_type == \"max\":\n",
      "  0%|          | 3/1150 [00:00<02:31,  7.57it/s]"
     ]
    },
    {
     "name": "stdout",
     "output_type": "stream",
     "text": [
      "Segment 0 contains only zeros\n",
      "Autocorrelated segment 0 contains only zeros\n",
      "oss_autocorrelation contains nans\n",
      "Error: y must be finite everywhere\n"
     ]
    },
    {
     "name": "stderr",
     "output_type": "stream",
     "text": [
      "  1%|          | 10/1150 [00:01<02:40,  7.11it/s]"
     ]
    },
    {
     "name": "stdout",
     "output_type": "stream",
     "text": [
      "Segment 0 contains only zeros\n",
      "Autocorrelated segment 0 contains only zeros\n",
      "oss_autocorrelation contains nans\n",
      "Error: y must be finite everywhere\n"
     ]
    },
    {
     "name": "stderr",
     "output_type": "stream",
     "text": [
      "  8%|▊         | 95/1150 [00:06<01:06, 15.81it/s]\n"
     ]
    },
    {
     "ename": "KeyboardInterrupt",
     "evalue": "",
     "output_type": "error",
     "traceback": [
      "\u001b[0;31m---------------------------------------------------------------------------\u001b[0m",
      "\u001b[0;31mKeyboardInterrupt\u001b[0m                         Traceback (most recent call last)",
      "Cell \u001b[0;32mIn[50], line 7\u001b[0m\n\u001b[1;32m      5\u001b[0m \u001b[38;5;28;01mtry\u001b[39;00m:\n\u001b[1;32m      6\u001b[0m     y, sr \u001b[38;5;241m=\u001b[39m librosa\u001b[38;5;241m.\u001b[39mload(track\u001b[38;5;241m.\u001b[39maudio_path, sr\u001b[38;5;241m=\u001b[39m\u001b[38;5;28;01mNone\u001b[39;00m)\n\u001b[0;32m----> 7\u001b[0m     stm_mean \u001b[38;5;241m=\u001b[39m \u001b[43mstm\u001b[49m\u001b[38;5;241;43m.\u001b[39;49m\u001b[43mcompute_stm\u001b[49m\u001b[43m(\u001b[49m\u001b[43moss_autocorrelation\u001b[49m\u001b[38;5;241;43m=\u001b[39;49m\u001b[43my\u001b[49m\u001b[43m,\u001b[49m\u001b[43m \u001b[49m\u001b[43msr\u001b[49m\u001b[38;5;241;43m=\u001b[39;49m\u001b[43msr\u001b[49m\u001b[43m,\u001b[49m\u001b[43m \u001b[49m\u001b[43mtarget_sr\u001b[49m\u001b[38;5;241;43m=\u001b[39;49m\u001b[38;5;241;43m8000\u001b[39;49m\u001b[43m,\u001b[49m\u001b[43m \u001b[49m\u001b[43mauto_cor_window_seconds\u001b[49m\u001b[38;5;241;43m=\u001b[39;49m\u001b[38;5;241;43m1\u001b[39;49m\u001b[43m,\u001b[49m\u001b[43m \u001b[49m\u001b[43mwith_padding\u001b[49m\u001b[38;5;241;43m=\u001b[39;49m\u001b[38;5;28;43;01mTrue\u001b[39;49;00m\u001b[43m,\u001b[49m\u001b[43m \u001b[49m\u001b[43mauto_cor_norm_type\u001b[49m\u001b[38;5;241;43m=\u001b[39;49m\u001b[38;5;124;43m\"\u001b[39;49m\u001b[38;5;124;43mmin-max\u001b[39;49m\u001b[38;5;124;43m\"\u001b[39;49m\u001b[43m)\u001b[49m\n\u001b[1;32m      8\u001b[0m     features\u001b[38;5;241m.\u001b[39mappend(stm_mean[:\u001b[38;5;241m100\u001b[39m])\n\u001b[1;32m      9\u001b[0m     labels\u001b[38;5;241m.\u001b[39mappend(track\u001b[38;5;241m.\u001b[39mstyle\u001b[38;5;241m.\u001b[39msplit(\u001b[38;5;124m\"\u001b[39m\u001b[38;5;124m/\u001b[39m\u001b[38;5;124m\"\u001b[39m)[\u001b[38;5;241m0\u001b[39m])\n",
      "File \u001b[0;32m~/uni/internship/rythmic-pattern-analysis/stm.py:61\u001b[0m, in \u001b[0;36mcompute_stm\u001b[0;34m(oss_autocorrelation, sr, target_sr, mel_flag, log_flag, detrend, win_size, hop, n_mels, with_padding, oss_aggr, autocor_window_type, auto_cor_window_seconds, auto_cor_hop_seconds, auto_cor_norm_type, auto_cor_norm_sum)\u001b[0m\n\u001b[1;32m     58\u001b[0m     sr \u001b[38;5;241m=\u001b[39m target_sr\n\u001b[1;32m     60\u001b[0m \u001b[38;5;66;03m# REVIEW: is this needed?\u001b[39;00m\n\u001b[0;32m---> 61\u001b[0m oss_autocorrelation, _ \u001b[38;5;241m=\u001b[39m \u001b[43mlibrosa\u001b[49m\u001b[38;5;241;43m.\u001b[39;49m\u001b[43meffects\u001b[49m\u001b[38;5;241;43m.\u001b[39;49m\u001b[43mtrim\u001b[49m\u001b[43m(\u001b[49m\u001b[43moss_autocorrelation\u001b[49m\u001b[43m)\u001b[49m\n\u001b[1;32m     63\u001b[0m \u001b[38;5;28;01mif\u001b[39;00m mel_flag:\n\u001b[1;32m     64\u001b[0m     S \u001b[38;5;241m=\u001b[39m librosa\u001b[38;5;241m.\u001b[39mfeature\u001b[38;5;241m.\u001b[39mmelspectrogram(y\u001b[38;5;241m=\u001b[39moss_autocorrelation, sr\u001b[38;5;241m=\u001b[39msr, n_mels\u001b[38;5;241m=\u001b[39mn_mels, n_fft\u001b[38;5;241m=\u001b[39mwin_size, hop_length\u001b[38;5;241m=\u001b[39mhop, power\u001b[38;5;241m=\u001b[39m\u001b[38;5;241m1\u001b[39m)\n",
      "File \u001b[0;32m~/uni/internship/rythmic-pattern-analysis/.venv-rythm/lib/python3.11/site-packages/librosa/effects.py:510\u001b[0m, in \u001b[0;36mtrim\u001b[0;34m(y, top_db, ref, frame_length, hop_length, aggregate)\u001b[0m\n\u001b[1;32m    463\u001b[0m \u001b[38;5;28;01mdef\u001b[39;00m \u001b[38;5;21mtrim\u001b[39m(\n\u001b[1;32m    464\u001b[0m     y: np\u001b[38;5;241m.\u001b[39mndarray,\n\u001b[1;32m    465\u001b[0m     \u001b[38;5;241m*\u001b[39m,\n\u001b[0;32m   (...)\u001b[0m\n\u001b[1;32m    470\u001b[0m     aggregate: Callable \u001b[38;5;241m=\u001b[39m np\u001b[38;5;241m.\u001b[39mmax,\n\u001b[1;32m    471\u001b[0m ) \u001b[38;5;241m-\u001b[39m\u001b[38;5;241m>\u001b[39m Tuple[np\u001b[38;5;241m.\u001b[39mndarray, np\u001b[38;5;241m.\u001b[39mndarray]:\n\u001b[1;32m    472\u001b[0m \u001b[38;5;250m    \u001b[39m\u001b[38;5;124;03m\"\"\"Trim leading and trailing silence from an audio signal.\u001b[39;00m\n\u001b[1;32m    473\u001b[0m \n\u001b[1;32m    474\u001b[0m \u001b[38;5;124;03m    Parameters\u001b[39;00m\n\u001b[0;32m   (...)\u001b[0m\n\u001b[1;32m    508\u001b[0m \u001b[38;5;124;03m    25.025986394557822 25.007891156462584\u001b[39;00m\n\u001b[1;32m    509\u001b[0m \u001b[38;5;124;03m    \"\"\"\u001b[39;00m\n\u001b[0;32m--> 510\u001b[0m     non_silent \u001b[38;5;241m=\u001b[39m \u001b[43m_signal_to_frame_nonsilent\u001b[49m\u001b[43m(\u001b[49m\n\u001b[1;32m    511\u001b[0m \u001b[43m        \u001b[49m\u001b[43my\u001b[49m\u001b[43m,\u001b[49m\n\u001b[1;32m    512\u001b[0m \u001b[43m        \u001b[49m\u001b[43mframe_length\u001b[49m\u001b[38;5;241;43m=\u001b[39;49m\u001b[43mframe_length\u001b[49m\u001b[43m,\u001b[49m\n\u001b[1;32m    513\u001b[0m \u001b[43m        \u001b[49m\u001b[43mhop_length\u001b[49m\u001b[38;5;241;43m=\u001b[39;49m\u001b[43mhop_length\u001b[49m\u001b[43m,\u001b[49m\n\u001b[1;32m    514\u001b[0m \u001b[43m        \u001b[49m\u001b[43mref\u001b[49m\u001b[38;5;241;43m=\u001b[39;49m\u001b[43mref\u001b[49m\u001b[43m,\u001b[49m\n\u001b[1;32m    515\u001b[0m \u001b[43m        \u001b[49m\u001b[43mtop_db\u001b[49m\u001b[38;5;241;43m=\u001b[39;49m\u001b[43mtop_db\u001b[49m\u001b[43m,\u001b[49m\n\u001b[1;32m    516\u001b[0m \u001b[43m        \u001b[49m\u001b[43maggregate\u001b[49m\u001b[38;5;241;43m=\u001b[39;49m\u001b[43maggregate\u001b[49m\u001b[43m,\u001b[49m\n\u001b[1;32m    517\u001b[0m \u001b[43m    \u001b[49m\u001b[43m)\u001b[49m\n\u001b[1;32m    519\u001b[0m     nonzero \u001b[38;5;241m=\u001b[39m np\u001b[38;5;241m.\u001b[39mflatnonzero(non_silent)\n\u001b[1;32m    521\u001b[0m     \u001b[38;5;28;01mif\u001b[39;00m nonzero\u001b[38;5;241m.\u001b[39msize \u001b[38;5;241m>\u001b[39m \u001b[38;5;241m0\u001b[39m:\n\u001b[1;32m    522\u001b[0m         \u001b[38;5;66;03m# Compute the start and end positions\u001b[39;00m\n\u001b[1;32m    523\u001b[0m         \u001b[38;5;66;03m# End position goes one frame past the last non-zero\u001b[39;00m\n",
      "File \u001b[0;32m~/uni/internship/rythmic-pattern-analysis/.venv-rythm/lib/python3.11/site-packages/librosa/effects.py:448\u001b[0m, in \u001b[0;36m_signal_to_frame_nonsilent\u001b[0;34m(y, frame_length, hop_length, top_db, ref, aggregate)\u001b[0m\n\u001b[1;32m    415\u001b[0m \u001b[38;5;250m\u001b[39m\u001b[38;5;124;03m\"\"\"Frame-wise non-silent indicator for audio input.\u001b[39;00m\n\u001b[1;32m    416\u001b[0m \n\u001b[1;32m    417\u001b[0m \u001b[38;5;124;03mThis is a helper function for `trim` and `split`.\u001b[39;00m\n\u001b[0;32m   (...)\u001b[0m\n\u001b[1;32m    445\u001b[0m \u001b[38;5;124;03m    Indicator of non-silent frames\u001b[39;00m\n\u001b[1;32m    446\u001b[0m \u001b[38;5;124;03m\"\"\"\u001b[39;00m\n\u001b[1;32m    447\u001b[0m \u001b[38;5;66;03m# Compute the MSE for the signal\u001b[39;00m\n\u001b[0;32m--> 448\u001b[0m mse \u001b[38;5;241m=\u001b[39m \u001b[43mfeature\u001b[49m\u001b[38;5;241;43m.\u001b[39;49m\u001b[43mrms\u001b[49m\u001b[43m(\u001b[49m\u001b[43my\u001b[49m\u001b[38;5;241;43m=\u001b[39;49m\u001b[43my\u001b[49m\u001b[43m,\u001b[49m\u001b[43m \u001b[49m\u001b[43mframe_length\u001b[49m\u001b[38;5;241;43m=\u001b[39;49m\u001b[43mframe_length\u001b[49m\u001b[43m,\u001b[49m\u001b[43m \u001b[49m\u001b[43mhop_length\u001b[49m\u001b[38;5;241;43m=\u001b[39;49m\u001b[43mhop_length\u001b[49m\u001b[43m)\u001b[49m\n\u001b[1;32m    450\u001b[0m \u001b[38;5;66;03m# Convert to decibels and slice out the mse channel\u001b[39;00m\n\u001b[1;32m    451\u001b[0m db \u001b[38;5;241m=\u001b[39m core\u001b[38;5;241m.\u001b[39mamplitude_to_db(mse[\u001b[38;5;241m.\u001b[39m\u001b[38;5;241m.\u001b[39m\u001b[38;5;241m.\u001b[39m, \u001b[38;5;241m0\u001b[39m, :], ref\u001b[38;5;241m=\u001b[39mref, top_db\u001b[38;5;241m=\u001b[39m\u001b[38;5;28;01mNone\u001b[39;00m)\n",
      "File \u001b[0;32m~/uni/internship/rythmic-pattern-analysis/.venv-rythm/lib/python3.11/site-packages/librosa/feature/spectral.py:883\u001b[0m, in \u001b[0;36mrms\u001b[0;34m(y, S, frame_length, hop_length, center, pad_mode, dtype)\u001b[0m\n\u001b[1;32m    880\u001b[0m     x \u001b[38;5;241m=\u001b[39m util\u001b[38;5;241m.\u001b[39mframe(y, frame_length\u001b[38;5;241m=\u001b[39mframe_length, hop_length\u001b[38;5;241m=\u001b[39mhop_length)\n\u001b[1;32m    882\u001b[0m     \u001b[38;5;66;03m# Calculate power\u001b[39;00m\n\u001b[0;32m--> 883\u001b[0m     power \u001b[38;5;241m=\u001b[39m np\u001b[38;5;241m.\u001b[39mmean(\u001b[43mutil\u001b[49m\u001b[38;5;241;43m.\u001b[39;49m\u001b[43mabs2\u001b[49m\u001b[43m(\u001b[49m\u001b[43mx\u001b[49m\u001b[43m,\u001b[49m\u001b[43m \u001b[49m\u001b[43mdtype\u001b[49m\u001b[38;5;241;43m=\u001b[39;49m\u001b[43mdtype\u001b[49m\u001b[43m)\u001b[49m, axis\u001b[38;5;241m=\u001b[39m\u001b[38;5;241m-\u001b[39m\u001b[38;5;241m2\u001b[39m, keepdims\u001b[38;5;241m=\u001b[39m\u001b[38;5;28;01mTrue\u001b[39;00m)\n\u001b[1;32m    884\u001b[0m \u001b[38;5;28;01melif\u001b[39;00m S \u001b[38;5;129;01mis\u001b[39;00m \u001b[38;5;129;01mnot\u001b[39;00m \u001b[38;5;28;01mNone\u001b[39;00m:\n\u001b[1;32m    885\u001b[0m     \u001b[38;5;66;03m# Check the frame length\u001b[39;00m\n\u001b[1;32m    886\u001b[0m     \u001b[38;5;28;01mif\u001b[39;00m S\u001b[38;5;241m.\u001b[39mshape[\u001b[38;5;241m-\u001b[39m\u001b[38;5;241m2\u001b[39m] \u001b[38;5;241m!=\u001b[39m frame_length \u001b[38;5;241m/\u001b[39m\u001b[38;5;241m/\u001b[39m \u001b[38;5;241m2\u001b[39m \u001b[38;5;241m+\u001b[39m \u001b[38;5;241m1\u001b[39m:\n",
      "File \u001b[0;32m~/uni/internship/rythmic-pattern-analysis/.venv-rythm/lib/python3.11/site-packages/librosa/util/utils.py:2497\u001b[0m, in \u001b[0;36mabs2\u001b[0;34m(x, dtype)\u001b[0m\n\u001b[1;32m   2494\u001b[0m         \u001b[38;5;28;01mreturn\u001b[39;00m y\u001b[38;5;241m.\u001b[39mastype(dtype)  \u001b[38;5;66;03m# type: ignore\u001b[39;00m\n\u001b[1;32m   2495\u001b[0m \u001b[38;5;28;01melse\u001b[39;00m:\n\u001b[1;32m   2496\u001b[0m     \u001b[38;5;66;03m# suppress type check, mypy doesn't know this is real\u001b[39;00m\n\u001b[0;32m-> 2497\u001b[0m     \u001b[38;5;28;01mreturn\u001b[39;00m \u001b[43mnp\u001b[49m\u001b[38;5;241;43m.\u001b[39;49m\u001b[43mpower\u001b[49m\u001b[43m(\u001b[49m\u001b[43mx\u001b[49m\u001b[43m,\u001b[49m\u001b[43m \u001b[49m\u001b[38;5;241;43m2\u001b[39;49m\u001b[43m,\u001b[49m\u001b[43m \u001b[49m\u001b[43mdtype\u001b[49m\u001b[38;5;241;43m=\u001b[39;49m\u001b[43mdtype\u001b[49m\u001b[43m)\u001b[49m\n",
      "\u001b[0;31mKeyboardInterrupt\u001b[0m: "
     ]
    }
   ],
   "source": [
    "features = []\n",
    "labels = []\n",
    "for _, track in tqdm(groove_dataset.load_tracks().items()):\n",
    "    if track.beat_type == \"beat\":\n",
    "        try:\n",
    "            y, sr = librosa.load(track.audio_path, sr=None)\n",
    "            stm_mean = stm.compute_stm(oss_autocorrelation=y, sr=sr, target_sr=8000, auto_cor_window_seconds=1, with_padding=True, auto_cor_norm_type=\"min-max\")\n",
    "            features.append(stm_mean[:100])\n",
    "            labels.append(track.style.split(\"/\")[0])\n",
    "        except Exception as e:\n",
    "            # exception encoutered with invalid audio_path\n",
    "            print(\"Error:\", e)\n",
    "            continue\n",
    "\n",
    "c = Counter(labels)\n",
    "print(c)\n",
    "encoded_labels = LabelEncoder().fit_transform(labels)\n",
    "print(len(features))"
   ]
  },
  {
   "cell_type": "code",
   "execution_count": 47,
   "metadata": {},
   "outputs": [
    {
     "name": "stdout",
     "output_type": "stream",
     "text": [
      "Cross-Validation Scores: [0.24615385 0.24806202 0.27131783 0.27131783 0.31007752]\n",
      "Mean CV Accuracy: 0.2693858079904592\n"
     ]
    },
    {
     "data": {
      "image/png": "[encoded data removed]",
      "text/plain": [
       "<Figure size 640x480 with 2 Axes>"
      ]
     },
     "metadata": {},
     "output_type": "display_data"
    }
   ],
   "source": [
    "x_train, x_test, y_train, y_test = train_test_split(\n",
    "    np.array(features), encoded_labels, test_size=0.3, stratify=encoded_labels, random_state=42\n",
    ")\n",
    "\n",
    "knn = KNeighborsClassifier(n_neighbors=7, metric=\"cosine\")\n",
    "# rnn = RadiusNeighborsClassifier(n_neighbors=7, metric=\"cosine\").fit(X=X_train, y=y_train)\n",
    "\n",
    "k_fold = StratifiedKFold(n_splits=5, shuffle=True, random_state=42)\n",
    "cv_scores = cross_val_score(knn, features, encoded_labels, cv=k_fold, scoring=\"accuracy\")\n",
    "\n",
    "print(\"Cross-Validation Scores:\", cv_scores)\n",
    "print(\"Mean CV Accuracy:\", cv_scores.mean())\n",
    "\n",
    "knn = KNeighborsClassifier(n_neighbors=7, metric=\"cosine\").fit(X=x_train, y=y_train)\n",
    "ConfusionMatrixDisplay.from_estimator(knn, x_test, y_test, display_labels=set(labels))\n",
    "plt.xticks(rotation=90)\n",
    "plt.show()"
   ]
  }
 ],
 "metadata": {
  "kernelspec": {
   "display_name": ".venv-rythm",
   "language": "python",
   "name": "python3"
  },
  "language_info": {
   "codemirror_mode": {
    "name": "ipython",
    "version": 3
   },
   "file_extension": ".py",
   "mimetype": "text/x-python",
   "name": "python",
   "nbconvert_exporter": "python",
   "pygments_lexer": "ipython3",
   "version": "3.11.2"
  }
 },
 "nbformat": 4,
 "nbformat_minor": 2
}
